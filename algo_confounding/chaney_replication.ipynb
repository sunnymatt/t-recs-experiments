{
 "cells": [
  {
   "cell_type": "code",
   "execution_count": 1,
   "metadata": {},
   "outputs": [],
   "source": [
    "import trecs\n",
    "import numpy as np\n",
    "import matplotlib.pyplot as plt\n",
    "from scipy.ndimage import gaussian_filter1d\n",
    "from collections import defaultdict\n",
    "from chaney_utils import (\n",
    "    gen_social_network, \n",
    "    mu_sigma_to_alpha_beta, \n",
    "    exclude_new_items, \n",
    "    perfect_scores,\n",
    "    interleave_new_items,\n",
    "    process_measurement,\n",
    "    MeanDistanceSimUsers,\n",
    "    MeanInteractionDistance,\n",
    "    SimilarUserInteractionSimilarity,\n",
    "    InteractionTracker,\n",
    "    RandomRecommender,\n",
    "    ChaneyContent,\n",
    "    IdealRecommender,\n",
    "    load_sim_results,\n",
    "    merge_results,\n",
    "    graph_relative_to_ideal\n",
    ")\n",
    "from replication_sim import (\n",
    "    sample_users_and_items,\n",
    "    run_ideal_sim,\n",
    "    run_content_sim,\n",
    "    run_mf_sim,\n",
    "    run_sf_sim,\n",
    "    run_pop_sim,\n",
    "    run_random_sim\n",
    ")\n",
    "import warnings\n",
    "warnings.simplefilter(\"ignore\")"
   ]
  },
  {
   "cell_type": "markdown",
   "metadata": {},
   "source": [
    "# Experimental simulations run on cluster"
   ]
  },
  {
   "cell_type": "markdown",
   "metadata": {},
   "source": [
    "## Repeated training, change in jaccard index (similar users paired)"
   ]
  },
  {
   "cell_type": "code",
   "execution_count": null,
   "metadata": {},
   "outputs": [],
   "source": [
    "results = merge_results([\"exps/chaney_rep_1\", \"exps/chaney_rep_2\", \"exps/chaney_rep_3\", \"exps/chaney_rep_4\"])"
   ]
  },
  {
   "cell_type": "code",
   "execution_count": null,
   "metadata": {},
   "outputs": [],
   "source": [
    "model_keys = [\"ideal\", \"content_chaney\", \"mf\", \"sf\", \"popularity\", \"random\"]\n",
    "graph_relative_to_ideal(results, \"sim_users\", model_keys, id_to_readable, absolute_measure=False, mult_sd=1.0)\n",
    "plt.ylabel(\"Change in Jaccard Index\")\n",
    "plt.xlabel(\"Timestep\")\n",
    "plt.legend(facecolor='white', framealpha=1, loc='upper right', bbox_to_anchor=(1.7, 1.0))\n",
    "plt.ylim(-0.15, 0.3)\n",
    "plt.xlim(0, 100)\n",
    "if not DEBUG:\n",
    "    plt.savefig(\"figures/repeated_training_sim_pair.pdf\", bbox_inches = \"tight\")"
   ]
  },
  {
   "cell_type": "markdown",
   "metadata": {},
   "source": [
    "## Single training, change in jaccard index (similar users paired)"
   ]
  },
  {
   "cell_type": "code",
   "execution_count": null,
   "metadata": {},
   "outputs": [],
   "source": [
    "results = merge_results([\"exps/chaney_single_1\", \"exps/chaney_single_2\", \"exps/chaney_single_3\", \"exps/chaney_single_4\"])"
   ]
  },
  {
   "cell_type": "code",
   "execution_count": null,
   "metadata": {},
   "outputs": [],
   "source": [
    "model_keys = [\"ideal\", \"content_chaney\", \"mf\", \"sf\", \"popularity\", \"random\"]\n",
    "graph_relative_to_ideal(results, \"sim_users\", model_keys, id_to_readable, absolute_measure=False, mult_sd=1.0)\n",
    "plt.ylabel(\"Change in Jaccard Index\")\n",
    "plt.xlabel(\"Timestep\")\n",
    "plt.legend(facecolor='white', framealpha=1, loc='upper right', bbox_to_anchor=(1.6, 1.0))\n",
    "plt.ylim(-0.15, 0.3)\n",
    "plt.xlim(0, 100)\n",
    "if not DEBUG:\n",
    "    plt.savefig(\"figures/single_training_sim_pair.pdf\", bbox_inches = \"tight\")"
   ]
  }
 ],
 "metadata": {
  "kernelspec": {
   "display_name": "Python 3",
   "language": "python",
   "name": "python3"
  },
  "language_info": {
   "codemirror_mode": {
    "name": "ipython",
    "version": 3
   },
   "file_extension": ".py",
   "mimetype": "text/x-python",
   "name": "python",
   "nbconvert_exporter": "python",
   "pygments_lexer": "ipython3",
   "version": "3.7.10"
  }
 },
 "nbformat": 4,
 "nbformat_minor": 4
}
