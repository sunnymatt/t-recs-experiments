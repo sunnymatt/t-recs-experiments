{
 "cells": [
  {
   "cell_type": "code",
   "execution_count": 1,
   "metadata": {},
   "outputs": [],
   "source": [
    "import trecs\n",
    "import numpy as np\n",
    "import matplotlib.pyplot as plt\n",
    "from scipy.ndimage import gaussian_filter1d\n",
    "from scipy.optimize import nnls\n",
    "from trecs.validate import validate_user_item_inputs\n",
    "from collections import defaultdict"
   ]
  },
  {
   "cell_type": "markdown",
   "metadata": {},
   "source": [
    "N.B. This notebook is tested for the `main` branch of `t-recs` as of 1/27/2021."
   ]
  },
  {
   "cell_type": "markdown",
   "metadata": {},
   "source": [
    "# Generate synthetic data"
   ]
  },
  {
   "cell_type": "markdown",
   "metadata": {},
   "source": [
    "First, we generate all the user / item data that will be used in each of our simulations (including the social network, which is used in the social filtering model). All parameters are from the Chaney et al. paper (see https://arxiv.org/pdf/1710.11214.pdf)."
   ]
  },
  {
   "cell_type": "code",
   "execution_count": 2,
   "metadata": {},
   "outputs": [
    {
     "name": "stdout",
     "output_type": "stream",
     "text": [
      "(100, 20)\n",
      "(10000, 20)\n",
      "(100, 10000)\n",
      "(100, 10000)\n"
     ]
    }
   ],
   "source": [
    "def gen_social_network(user_prefs):\n",
    "    \"\"\" Generates a |U|x|U| social network of connections\n",
    "        as specified in Chaney et al.\n",
    "    \"\"\"\n",
    "    user_cov = np.cov(user_prefs)\n",
    "    possible_thresholds = np.sort(user_cov.flatten())[::-1]\n",
    "    user_connections = None\n",
    "    num_users = user_prefs.shape[0]\n",
    "    for thresh in possible_thresholds[num_users:]:\n",
    "        num_connected = (user_cov >= thresh).any(axis=1).sum()\n",
    "        if num_connected == num_users:\n",
    "            return (user_cov >= thresh).astype(int) # final adjacency matrix\n",
    "    raise RuntimeError(\"Could not find a suitable threshold.\")\n",
    "\n",
    "    \n",
    "def mu_sigma_to_alpha_beta(mu, sigma):\n",
    "    \"\"\" For Chaney's custom Beta' function, we convert\n",
    "        a mean and variance to an alpha and beta parameter\n",
    "        of a Beta function. See footnote 3 page 3 of Chaney\n",
    "        et al. for details.\n",
    "    \"\"\"\n",
    "    alpha = ((1-mu) / (sigma**2) - (1/mu)) * mu**2\n",
    "    beta = alpha * (1/mu - 1)\n",
    "    return alpha, beta\n",
    "    \n",
    "\n",
    "# generate user vector\n",
    "generator = np.random.default_rng()\n",
    "# parameters from section 5 of paper\n",
    "NUM_USERS = 100\n",
    "NUM_ITEMS = 10000\n",
    "NUM_ATTRS = 20\n",
    "NUM_SIMS = 10\n",
    "\n",
    "user_params = np.random.dirichlet(np.ones(NUM_ATTRS), size=NUM_SIMS) * 10\n",
    "item_params = np.random.dirichlet(np.ones(NUM_ATTRS) * 100, size=NUM_SIMS) * 0.1\n",
    "# do conversion from paper to fiure out the utility percentage visible to users\n",
    "mu_n = 0.98  \n",
    "sigma = 1e-5\n",
    "\n",
    "# each element in users is the users vector in one simulation\n",
    "users = []\n",
    "items = []\n",
    "true_utilities = []\n",
    "known_util_perc = []\n",
    "known_utils = []\n",
    "social_networks = []\n",
    "for sim_index in range(NUM_SIMS):\n",
    "    # generate user preferences and item attributes\n",
    "    user_prefs = np.random.dirichlet(user_params[sim_index, :], size=NUM_USERS) # 100 users\n",
    "    item_attrs = np.random.dirichlet(item_params[sim_index, :], size=NUM_ITEMS) # 200 items\n",
    "    \n",
    "    # mean of the utility distribution\n",
    "    true_utils_mu = user_prefs @ item_attrs.T\n",
    "    true_utils_mu = np.clip(true_utils_mu, 1e-9, None) # avoid numerical stability issues\n",
    "    # sample total utility from a beta distribution\n",
    "    alphas, betas = mu_sigma_to_alpha_beta(true_utils_mu, sigma)\n",
    "    true_utils = np.random.beta(alphas.flatten(), betas.flatten()).reshape((NUM_USERS, NUM_ITEMS))\n",
    "    # assert support of true utilities; should be within 0 and 1\n",
    "    assert true_utils.min() >= 0 and true_utils.max() <= 1\n",
    "    \n",
    "    # calculate known utility fo reach user\n",
    "    alpha, beta = mu_sigma_to_alpha_beta(mu_n, sigma) # parameters for beta function governing percentage of utility known to users\n",
    "    perc_known = np.random.beta(alpha, beta, size=(NUM_USERS, NUM_ITEMS))\n",
    "    known_util = true_utils * perc_known \n",
    "    \n",
    "    # add all synthetic data to list\n",
    "    users.append(user_prefs) \n",
    "    social_networks.append(gen_social_network(user_prefs))\n",
    "    items.append(item_attrs) \n",
    "    true_utilities.append(true_utils)\n",
    "    known_util_perc.append(perc_known)\n",
    "    known_utils.append(known_util)\n",
    "    \n",
    "    \n",
    "# print shape\n",
    "print(users[0].shape) # we should see 100 users with 20 attributes\n",
    "print(items[0].shape) # we should see 1000 items with 20 attributes\n",
    "print(true_utilities[0].shape)\n",
    "print(known_utils[0].shape)"
   ]
  },
  {
   "cell_type": "markdown",
   "metadata": {},
   "source": [
    "Next, we visualize the true user utilities for each item  to verify that the resulting graph is similar to what appears in the Chaney paper."
   ]
  },
  {
   "cell_type": "code",
   "execution_count": 3,
   "metadata": {},
   "outputs": [
    {
     "data": {
      "text/plain": [
       "Text(0.5, 1.0, 'True user-item utilities')"
      ]
     },
     "execution_count": 3,
     "metadata": {},
     "output_type": "execute_result"
    },
    {
     "data": {
      "image/png": "[encoded data removed]",
      "text/plain": [
       "<Figure size 1080x720 with 1 Axes>"
      ]
     },
     "metadata": {
      "needs_background": "light"
     },
     "output_type": "display_data"
    }
   ],
   "source": [
    "fig, ax = plt.subplots(figsize=(15,10))\n",
    "ax.matshow(true_utilities[0], cmap='Greens')\n",
    "ax.set_xlabel('Item index')    \n",
    "ax.xaxis.set_label_position('top') \n",
    "ax.set_ylabel('User index')\n",
    "ax.set_title(\"True user-item utilities\")\n",
    "# this seems reasonably sparse and matches the picture in the Chaney paper! let's proceed"
   ]
  },
  {
   "cell_type": "code",
   "execution_count": 4,
   "metadata": {},
   "outputs": [
    {
     "data": {
      "text/plain": [
       "Text(0.5, 1.0, 'User-item utilities (known to user)')"
      ]
     },
     "execution_count": 4,
     "metadata": {},
     "output_type": "execute_result"
    },
    {
     "data": {
      "image/png": "[encoded data removed]",
      "text/plain": [
       "<Figure size 1080x720 with 1 Axes>"
      ]
     },
     "metadata": {
      "needs_background": "light"
     },
     "output_type": "display_data"
    }
   ],
   "source": [
    "fig, ax = plt.subplots(figsize=(15,10))\n",
    "ax.matshow(true_utilities[0] * known_util_perc[0], cmap='Greens')\n",
    "ax.set_xlabel('Item index')    \n",
    "ax.xaxis.set_label_position('top') \n",
    "ax.set_ylabel('User index')\n",
    "ax.set_title(\"User-item utilities (known to user)\")"
   ]
  },
  {
   "cell_type": "code",
   "execution_count": 5,
   "metadata": {},
   "outputs": [
    {
     "data": {
      "text/plain": [
       "Text(0.5, 1.0, 'Item attributes of first 100 item')"
      ]
     },
     "execution_count": 5,
     "metadata": {},
     "output_type": "execute_result"
    },
    {
     "data": {
      "image/png": "[encoded data removed]",
      "text/plain": [
       "<Figure size 720x360 with 1 Axes>"
      ]
     },
     "metadata": {
      "needs_background": "light"
     },
     "output_type": "display_data"
    }
   ],
   "source": [
    "fig, ax = plt.subplots(figsize=(10,5))\n",
    "ax.matshow((items[0].T)[:, :100], cmap='Greens')\n",
    "ax.set_xlabel('Item index')    \n",
    "ax.xaxis.set_label_position('top') \n",
    "ax.set_ylabel('Attributes')\n",
    "ax.set_title(\"Item attributes of first 100 item\")"
   ]
  },
  {
   "cell_type": "markdown",
   "metadata": {},
   "source": [
    "# Custom models/classes/metrics"
   ]
  },
  {
   "cell_type": "markdown",
   "metadata": {},
   "source": [
    "Next, we create some custom models and metrics that will be used in our replication experiments. Most of the functionality is already in T-RECS, but we \"customize\" things here so we can measure the same things that Chaney measures. These include:\n",
    "* Jaccard Similarity for pairs of similar users, where \"similar\" is defined by cosine similarity of model's internal user representation\n",
    "* Ideal recommender system\n",
    "* Random recommender system (randomly recommends items)\n",
    "* Chaney content filtering system (updates internal representation of users by using `scipy.optimize.nnls` to solve for the least-squares approximation of user attributes)\n",
    "* Custom content filtering system that \"freezes\" the model's internal representation of user attributes (important for the Jaccard Similarity metric mentioned earlier)"
   ]
  },
  {
   "cell_type": "code",
   "execution_count": 6,
   "metadata": {},
   "outputs": [],
   "source": [
    "# necessary imports\n",
    "from trecs.models import ContentFiltering, PopularityRecommender, ImplicitMF, SocialFiltering\n",
    "from trecs.components import Users, Items, Creators\n",
    "from trecs.metrics import HomogeneityMeasurement, InteractionSimilarity, Measurement\n",
    "from trecs.matrix_ops import normalize_matrix, inner_product\n",
    "\n",
    "from sklearn.metrics.pairwise import cosine_similarity"
   ]
  },
  {
   "cell_type": "markdown",
   "metadata": {},
   "source": [
    "Custom score function that ensures that only the items in the training phase get recommended. The user must manually calculate how many items will be created & shown during the training period and pass this in as `max_items`."
   ]
  },
  {
   "cell_type": "code",
   "execution_count": 7,
   "metadata": {},
   "outputs": [],
   "source": [
    "def freeze_scores_after_n_items(max_items):\n",
    "    \"\"\" This custom scoring function ensures that all items in the system\n",
    "        that are created after a certain point are given a score of negative\n",
    "        infinity, ensuring that they will be at the very bottom of any recommendation\n",
    "        list.\n",
    "    \"\"\"\n",
    "    def score_fn(users, items):\n",
    "        predicted_scores = inner_product(users, items)\n",
    "        # all predicted scores for these \"new\" items will be negative infinity,\n",
    "        # ensuring they never get recommended\n",
    "        predicted_scores[:, max_items:] = float('-inf')\n",
    "        return predicted_scores\n",
    "    return score_fn\n",
    "\n",
    "def random_score_first_n_items(max_items):\n",
    "    \"\"\" This custom scoring function ensures that all items in the system\n",
    "        that are created after a certain point are given a score of negative\n",
    "        infinity, ensuring that they will be at the very bottom of any recommendation\n",
    "        list. It also ensures that the scores given to the first n items randomly\n",
    "        change.\n",
    "    \"\"\"\n",
    "    def score_fn(users, items):\n",
    "        num_users = users.shape[0]\n",
    "        num_items = items.shape[1]\n",
    "        predicted_scores = np.random.rand(num_users, num_items)\n",
    "        # all predicted scores for these \"new\" items will be negative infinity,\n",
    "        # ensuring they never get recommended\n",
    "        predicted_scores[:, max_items:] = float('-inf')\n",
    "        return predicted_scores\n",
    "    return score_fn"
   ]
  },
  {
   "cell_type": "markdown",
   "metadata": {},
   "source": [
    "Custom interleaving method that ensures that all of the most recently created items (i.e., the newest items) are the ones interleaved with the recommendations."
   ]
  },
  {
   "cell_type": "code",
   "execution_count": 8,
   "metadata": {},
   "outputs": [],
   "source": [
    "def interleave_new_items(k, item_indices):\n",
    "    \"\"\" Chooses the most recent, newest items to interleave\n",
    "        with the recommendation set.\n",
    "    \"\"\"\n",
    "    num_users = item_indices.shape[0]\n",
    "    indices = item_indices[:, -k:]\n",
    "    values = np.random.rand(*indices.shape)\n",
    "    order = values.argsort(axis=1) # randomly sort indices within rows\n",
    "    rows = np.tile(np.arange(num_users).reshape((-1, 1)), indices.shape[1])\n",
    "    return indices[rows, order]"
   ]
  },
  {
   "cell_type": "markdown",
   "metadata": {},
   "source": [
    "This custom \"content creator\" pumps out new items at every iteration. It starts with the full knowledge of all items at the beginning of the simulation, and then as the simulation progresses, \"releases\" new items to the RS."
   ]
  },
  {
   "cell_type": "code",
   "execution_count": 9,
   "metadata": {},
   "outputs": [],
   "source": [
    "class NewItemFactory(Creators):\n",
    "    def __init__(self, items, items_per_iteration):\n",
    "        \"\"\" Expects items in matrix of dimension |A| x |I|, where\n",
    "            |A| is the number of attributes and |I| is the number\n",
    "            of items.\n",
    "        \"\"\"\n",
    "        self.items = items\n",
    "        self.items_per_iteration = items_per_iteration\n",
    "        self.idx = 0\n",
    "        \n",
    "    def generate_items(self):\n",
    "        \"\"\" The items generated are simply selected from a particular\n",
    "            range of indices, which gets incremented at each timestep.\n",
    "        \"\"\"\n",
    "        if self.idx > self.items.shape[1]:\n",
    "            raise RuntimeError(\"Ran out of items to generate!\")\n",
    "        idx_start = self.idx\n",
    "        idx_end = self.idx + self.items_per_iteration\n",
    "        self.idx = idx_end\n",
    "        return self.items[:, idx_start:idx_end]"
   ]
  },
  {
   "cell_type": "markdown",
   "metadata": {},
   "source": [
    "This special subclass of `Users` allows users to know their true scores for all items (even those that haven't been created yet)."
   ]
  },
  {
   "cell_type": "code",
   "execution_count": 10,
   "metadata": {},
   "outputs": [],
   "source": [
    "class ChaneyUsers(Users):\n",
    "    def __init__(self, true_scores, *args, **kwargs):\n",
    "        self.true_scores = np.copy(true_scores) # contains all user-item scores\n",
    "        super().__init__(*args, **kwargs)\n",
    "        \n",
    "    def compute_user_scores(self, items):\n",
    "        \"\"\" No need to do this at initialization - user will be set with scores later.\n",
    "        \"\"\"\n",
    "        self.actual_user_scores = self.true_scores\n",
    "        \n",
    "    def score_new_items(self, items):\n",
    "        \"\"\" Chaney users are special - they already know all their\n",
    "            utility values for all items\n",
    "        \"\"\"\n",
    "        pass\n",
    "    \n",
    "    def get_user_feedback(self, *args, **kwargs):\n",
    "        interactions = super().get_user_feedback(*args, **kwargs)\n",
    "        return interactions"
   ]
  },
  {
   "cell_type": "markdown",
   "metadata": {},
   "source": [
    "Custom measurement that measures the Jaccard index of interactions between pairs of users, relative to the ideal recommender."
   ]
  },
  {
   "cell_type": "code",
   "execution_count": 11,
   "metadata": {},
   "outputs": [],
   "source": [
    "class InteractionTracker(Measurement):\n",
    "    \"\"\" Tracks all user interactions up to the current timepoint. In the context of replication,\n",
    "        it will be used to track homogenization of the ideal recommender system.\n",
    "    \"\"\"\n",
    "    def __init__(self, name=\"interaction_history\", verbose=False):\n",
    "        Measurement.__init__(self, name, verbose, init_value=None)\n",
    "\n",
    "    def measure(self, recommender, **kwargs):\n",
    "        interactions = kwargs.pop(\"interactions\", None)\n",
    "        self.observe(np.copy(interactions).reshape((-1, 1)))\n",
    "\n",
    "        \n",
    "def calculate_avg_jaccard(pairs, interactions):\n",
    "    \"\"\" Calculates average Jaccard index over specified pairs of users.\n",
    "    \"\"\"\n",
    "    similarity = 0\n",
    "    num_pairs = len(pairs)\n",
    "    for user1, user2 in pairs:\n",
    "        itemset_1 = set(interactions[user1, :])\n",
    "        itemset_2 = set(interactions[user2, :])\n",
    "        common = len(itemset_1.intersection(itemset_2))\n",
    "        union = len(itemset_1.union(itemset_2))\n",
    "        similarity += common / union / num_pairs\n",
    "    return similarity\n",
    "        \n",
    "class SimilarUserInteractionSimilarity(Measurement):\n",
    "    def __init__(self, ideal_interaction_hist, name=\"similar_user_jaccard\", verbose=False):\n",
    "        self.ideal_hist = ideal_interaction_hist\n",
    "        self.interaction_hist = None\n",
    "        self.timestep = 0\n",
    "        Measurement.__init__(self, name, verbose, init_value=None)\n",
    "\n",
    "    def measure(self, recommender, **kwargs):\n",
    "        interactions = kwargs.pop(\"interactions\", None)\n",
    "        if interactions is None:\n",
    "            raise ValueError(\n",
    "                \"interactions must be passed in to InteractionSimilarity's `measure` \"\n",
    "                \"method as a keyword argument\"\n",
    "            )\n",
    "        if self.interaction_hist is None:\n",
    "            self.interaction_hist = np.copy(interactions).reshape((-1, 1))\n",
    "        else:\n",
    "            self.interaction_hist = np.hstack([self.interaction_hist, interactions.reshape((-1, 1))])\n",
    "        # generate cosine similarity matrix for all users\n",
    "        assert recommender.users_hat.get_timesteps() == self.timestep + 1 # ensure that the users_hat variable is storing copies at each timestep\n",
    "        user_representation = recommender.users_hat.state_history[-1]\n",
    "        sim_matrix = cosine_similarity(user_representation, user_representation)\n",
    "        # set diagonal entries to zero\n",
    "        num_users = sim_matrix.shape[0]\n",
    "        sim_matrix[np.arange(num_users), np.arange(num_users)] = 0\n",
    "        # array where element x at index i represents the \"most similar\" user to user i\n",
    "        closest_users = np.argmax(sim_matrix, axis=1)\n",
    "        pairs = list(enumerate(closest_users))\n",
    "        # calculate average jaccard similarity\n",
    "        ideal_similarity = calculate_avg_jaccard(pairs, self.ideal_hist[:, :(self.timestep + 1)]) # compare\n",
    "        this_similarity = calculate_avg_jaccard(pairs, self.interaction_hist)\n",
    "        self.observe(this_similarity - ideal_similarity)\n",
    "        self.timestep += 1 # increment timestep"
   ]
  },
  {
   "cell_type": "code",
   "execution_count": 12,
   "metadata": {},
   "outputs": [],
   "source": [
    "# basically just recommends items based on the estimates of user preferences!\n",
    "# this will form the basis of our \"ideal\" recommender\n",
    "class IdealRecommender(ContentFiltering):\n",
    "    def _update_internal_state(self, interactions):\n",
    "        # do not change users_hat! \n",
    "        pass\n",
    "    \n",
    "    def process_new_items(self, new_items):\n",
    "        \"\"\"\n",
    "        Generate zero attributes for new items. Remember,\n",
    "        this doesn't actually matter because the IdealRecommender\n",
    "        uses its perfect score function, not\n",
    "        \"\"\"\n",
    "        num_items = new_items.shape[1]\n",
    "        num_attr = self.items_hat.shape[0]\n",
    "        item_representation = np.random.rand(num_attr, num_items)\n",
    "        return item_representation\n",
    "    \n",
    "def perfect_scores_first_items(max_items, true_scores):\n",
    "    \"\"\" This custom scoring function ensures that all items in the system\n",
    "        that are created after a certain point are given a score of negative\n",
    "        infinity, ensuring that they will be at the very bottom of any recommendation\n",
    "        list. Otherwise, we return the \"true scores\" specified in the\n",
    "        true_scores array.\n",
    "    \"\"\"\n",
    "    score_copy = np.copy(true_scores)\n",
    "    def score_fn(users, items):\n",
    "        predicted_scores = np.copy(score_copy)\n",
    "        num_users, num_items = users.shape[0], items.shape[1]\n",
    "        # all predicted scores for these \"new\" items will be negative infinity,\n",
    "        # ensuring they never get recommended\n",
    "        predicted_scores = predicted_scores[:num_users, :num_items] # subset to correct dimensions\n",
    "        predicted_scores[:, max_items:] = float('-inf')\n",
    "        return predicted_scores\n",
    "    return score_fn"
   ]
  },
  {
   "cell_type": "code",
   "execution_count": 13,
   "metadata": {},
   "outputs": [
    {
     "name": "stderr",
     "output_type": "stream",
     "text": [
      "100%|██████████| 10/10 [00:00<00:00, 4110.05it/s]\n",
      "100%|██████████| 10/10 [00:00<00:00, 13.53it/s]\n"
     ]
    }
   ],
   "source": [
    "# example usage of ideal recommender\n",
    "true_prefs = users[0] # underlying true preferences\n",
    "true_scores = true_utilities[0]\n",
    "noisy_scores = known_utils[0]\n",
    "\n",
    "u = Users(actual_user_scores = noisy_scores, size=(NUM_USERS, NUM_ATTRS), num_users=NUM_USERS) # each user interacts with items based on their (noisy) knowledge of their own scores\n",
    "ideal_rec = IdealRecommender(item_representation=items[0].T, actual_user_representation=u, score_fn=perfect_scores_first_items(10000, true_scores))\n",
    "ideal_rec.startup_and_train(timesteps=10)\n",
    "ideal_rec.run(\n",
    "    timesteps=10,\n",
    "    train_between_steps=False, \n",
    "    random_items_per_iter=ideal_rec.num_items_per_iter, \n",
    "    vary_random_items_per_iter=True\n",
    ")\n",
    "\n",
    "# run some sanity checks to ensure that nothing was altered during simulation\n",
    "np.testing.assert_array_equal(u.actual_user_scores, noisy_scores)\n",
    "# check that actual user scores as a percentage of the true utilities\n",
    "# is the same as the known util percentages\n",
    "np.testing.assert_array_equal(true_scores, ideal_rec.predicted_scores)"
   ]
  },
  {
   "cell_type": "code",
   "execution_count": 14,
   "metadata": {},
   "outputs": [],
   "source": [
    "# random recommender - randomly update users at every step\n",
    "class RandomRecommender(ContentFiltering):\n",
    "    def _update_internal_state(self, interactions):\n",
    "        self.items_hat[:, :] = np.random.rand(*self.items_hat.shape)\n",
    "        self.users_hat[:, :] = np.random.rand(*self.users_hat.shape)\n",
    "        \n",
    "    def process_new_items(self, new_items):\n",
    "        \"\"\"\n",
    "        Generate random attributes for new items.\n",
    "        \"\"\"\n",
    "        num_items = new_items.shape[1]\n",
    "        num_attr = self.items_hat.shape[0]\n",
    "        item_representation = np.random.rand(num_attr, num_items)\n",
    "        return item_representation"
   ]
  },
  {
   "cell_type": "code",
   "execution_count": 15,
   "metadata": {},
   "outputs": [],
   "source": [
    "# Chaney ContentFiltering - uses NNLS solver\n",
    "class ChaneyContent(ContentFiltering):\n",
    "    def __init__(self, *args, **kwargs):\n",
    "        super().__init__(*args, **kwargs)\n",
    "        \n",
    "    def _update_internal_state(self, interactions):\n",
    "        # update cumulative interactions\n",
    "        num_new_items = self.items_hat.shape[1] - self.cumulative_interactions.shape[1] # how many new items were added to the system?\n",
    "        if num_new_items > 0:\n",
    "            self.cumulative_interactions = np.hstack([self.cumulative_interactions, np.zeros((self.num_users, num_new_items))]) # add new items to cumulative interactions\n",
    "        self.cumulative_interactions[self.users.user_vector, interactions] += 1\n",
    "        \n",
    "    def train(self):\n",
    "        if hasattr(self, 'cumulative_interactions') and self.cumulative_interactions.sum() > 0: # if there are interactions present:\n",
    "            items_to_train = self.cumulative_interactions.shape[1] # can't train representations for new items before interactions have happened!\n",
    "            for i in range(self.num_users):\n",
    "                item_attr = self.items_hat[:, :items_to_train].T\n",
    "                self.users_hat[i, :] = nnls(item_attr, self.cumulative_interactions[i, :])[0] # solve for Content Filtering representation using nnls solver\n",
    "            num_new_items = self.items_hat.shape[1] - self.cumulative_interactions.shape[1] # how many new items were added to the system?\n",
    "            \n",
    "        else:\n",
    "            self.cumulative_interactions = np.zeros((self.users_hat.shape[0], self.items_hat.shape[1]))\n",
    "        super().train()\n",
    "        "
   ]
  },
  {
   "cell_type": "code",
   "execution_count": 16,
   "metadata": {},
   "outputs": [],
   "source": [
    "# utility function to extract measurement\n",
    "def process_measurement(model, metric_string):\n",
    "    return model.get_measurements()[metric_string][1:]"
   ]
  },
  {
   "cell_type": "markdown",
   "metadata": {},
   "source": [
    "# Repeated Training"
   ]
  },
  {
   "cell_type": "markdown",
   "metadata": {},
   "source": [
    "Now, we actually run the recommender system models on the synthetic datasets. After each model finishes running, we extract two measures of homogenization (change in Jaccard index averaged over pairs of users that are randomly chosen, and the change in Jaccard index averaged over pairs of users that are most similar to each other by cosine similarity).\n",
    "\n",
    "Note that this is the \"repeated training\" case, where algorithms are repeatedly updated with new data at each iteration. "
   ]
  },
  {
   "cell_type": "code",
   "execution_count": 17,
   "metadata": {},
   "outputs": [],
   "source": [
    "STARTUP_ITERS = 10\n",
    "SIM_ITERS = 90\n",
    "NEW_ITEMS_PER_ITER = 10\n",
    "TOTAL_ITEMS_IN_STARTUP = NEW_ITEMS_PER_ITER * STARTUP_ITERS\n",
    "ATTENTION_EXP = -0.8 # from Chaney paper, attention function is f(n) = n^(-0.8)\n",
    "\n",
    "# simpler way to pass common arguments\n",
    "init_params = {\n",
    "    \"num_items_per_iter\": NEW_ITEMS_PER_ITER,\n",
    "    \"num_users\": NUM_USERS,\n",
    "    \"num_items\": 0, # all simulations start with 0 items\n",
    "    \"interleaving_fn\": interleave_new_items\n",
    "}\n",
    "\n",
    "run_params = {\n",
    "    \"random_items_per_iter\": NEW_ITEMS_PER_ITER,\n",
    "    \"vary_random_items_per_iter\": False,\n",
    "}\n",
    "\n",
    "def initialize_users_and_items(known_scores, all_items):\n",
    "    # each user interacts with items based on their (noisy) knowledge of their own scores\n",
    "    # user choices also depend on the order of items they are recommended\n",
    "    u = ChaneyUsers(np.copy(known_scores), size=(NUM_USERS, NUM_ATTRS), num_users=NUM_USERS, attention_exp=ATTENTION_EXP, repeat_items=False)\n",
    "    item_factory = NewItemFactory(np.copy(all_items), NEW_ITEMS_PER_ITER)\n",
    "    empty_item_set = np.array([]).reshape((NUM_ATTRS, 0)) # initialize empty item set\n",
    "    return u, item_factory, empty_item_set\n",
    "\n",
    "\n",
    "def run_ideal_sim(user_prefs, item_attrs, true_utilities, noisy_utilities, pairs, repeated_training):\n",
    "    u, item_factory, empty_items = initialize_users_and_items(noisy_utilities, item_attrs)\n",
    "    ideal = IdealRecommender(\n",
    "        user_representation=user_prefs,\n",
    "        creators=item_factory, \n",
    "        actual_user_representation=u,\n",
    "        actual_item_representation=empty_items,\n",
    "        score_fn=perfect_scores_first_items(TOTAL_ITEMS_IN_STARTUP, true_utilities),\n",
    "        **init_params\n",
    "    )\n",
    "    ideal.add_metrics(InteractionSimilarity(pairs), InteractionTracker())\n",
    "    ideal.startup_and_train(timesteps=STARTUP_ITERS)\n",
    "    ideal.set_num_items_per_iter(TOTAL_ITEMS_IN_STARTUP + NEW_ITEMS_PER_ITER) # show all items from training set plus interleaved itmes\n",
    "    ideal.run(timesteps=SIM_ITERS, **run_params)\n",
    "    return ideal\n",
    "\n",
    "def run_content_sim(item_attrs, noisy_utilities, pairs, ideal_interactions, repeated_training):\n",
    "    u, item_factory, empty_items = initialize_users_and_items(noisy_utilities, item_attrs)\n",
    "    chaney = ChaneyContent(\n",
    "        creators=item_factory, \n",
    "        num_attributes=NUM_ATTRS, \n",
    "        actual_item_representation=empty_items, \n",
    "        actual_user_representation=u,\n",
    "        score_fn=freeze_scores_after_n_items(TOTAL_ITEMS_IN_STARTUP),\n",
    "        **init_params)\n",
    "    chaney.add_metrics(InteractionSimilarity(pairs), SimilarUserInteractionSimilarity(ideal_interactions, verbose=True))\n",
    "    chaney.add_state_variable(chaney.users_hat) # need to do this so that the similarity metric uses the user representation from before interactions were trained\n",
    "    chaney.startup_and_train(timesteps=STARTUP_ITERS) # update user representations, but only serve random items\n",
    "    chaney.set_num_items_per_iter(TOTAL_ITEMS_IN_STARTUP + NEW_ITEMS_PER_ITER) # show all items from training set plus interleaved itmes\n",
    "    chaney.run(timesteps=SIM_ITERS, train_between_steps=repeated_training, **run_params)\n",
    "    return chaney\n",
    "    \n",
    "def run_mf_sim(item_attrs, noisy_utilities, pairs, ideal_interactions, repeated_training):\n",
    "    u, item_factory, empty_items = initialize_users_and_items(noisy_utilities, item_attrs)\n",
    "    mf = ImplicitMF(\n",
    "        creators=item_factory,\n",
    "        actual_item_representation=empty_items, \n",
    "        actual_user_representation=u, \n",
    "        score_fn=freeze_scores_after_n_items(TOTAL_ITEMS_IN_STARTUP),\n",
    "        **init_params\n",
    "    )\n",
    "    mf.add_metrics(InteractionSimilarity(pairs), SimilarUserInteractionSimilarity(ideal_interactions))\n",
    "    mf.add_state_variable(mf.users_hat) # need to do this so that the similarity metric uses the user representation from before interactions were trained\n",
    "    mf.startup_and_train(timesteps=STARTUP_ITERS, no_new_items=False) # update user representations, but only serve random items\n",
    "    mf.set_num_items_per_iter(TOTAL_ITEMS_IN_STARTUP + NEW_ITEMS_PER_ITER) # show all items from training set plus interleaved itmes\n",
    "    mf.run(timesteps=SIM_ITERS, train_between_steps=repeated_training, reset_interactions=False, **run_params)\n",
    "    return mf\n",
    "    \n",
    "    \n",
    "def run_sf_sim(social_network, item_attrs, noisy_utilities, pairs, ideal_interactions, repeated_training):\n",
    "    u, item_factory, empty_items = initialize_users_and_items(noisy_utilities, item_attrs)\n",
    "    sf = SocialFiltering(\n",
    "        creators=item_factory,\n",
    "        user_representation=social_network, \n",
    "        actual_item_representation=empty_items, \n",
    "        actual_user_representation=u,\n",
    "        score_fn=freeze_scores_after_n_items(TOTAL_ITEMS_IN_STARTUP),\n",
    "        **init_params\n",
    "    )\n",
    "    sf.add_metrics(InteractionSimilarity(pairs), SimilarUserInteractionSimilarity(ideal_interactions))\n",
    "    sf.add_state_variable(sf.users_hat) # need to do this so that the similarity metric uses the user representation from before interactions were trained\n",
    "    sf.startup_and_train(timesteps=STARTUP_ITERS)\n",
    "    sf.set_num_items_per_iter(TOTAL_ITEMS_IN_STARTUP + NEW_ITEMS_PER_ITER) # show all items from training set plus interleaved itmes\n",
    "    sf.run(timesteps=SIM_ITERS, train_between_steps=repeated_training, **run_params)\n",
    "    return sf\n",
    "\n",
    "def run_pop_sim(item_attrs, noisy_utilities, pairs, ideal_interactions, repeated_training):\n",
    "    u, item_factory, empty_items = initialize_users_and_items(noisy_utilities, item_attrs)\n",
    "    p = PopularityRecommender(\n",
    "        creators=item_factory,\n",
    "        actual_item_representation=empty_items, \n",
    "        actual_user_representation=u, \n",
    "        score_fn=freeze_scores_after_n_items(TOTAL_ITEMS_IN_STARTUP),\n",
    "        **init_params\n",
    "    )\n",
    "    p.add_metrics(InteractionSimilarity(pairs), SimilarUserInteractionSimilarity(ideal_interactions))\n",
    "    p.add_state_variable(p.users_hat) # need to do this so that the similarity metric uses the user representation from before interactions were trained\n",
    "    p.startup_and_train(timesteps=STARTUP_ITERS)\n",
    "    p.set_num_items_per_iter(TOTAL_ITEMS_IN_STARTUP + NEW_ITEMS_PER_ITER)\n",
    "    p.run(timesteps=SIM_ITERS, train_between_steps=repeated_training, **run_params)\n",
    "    return p\n",
    "    \n",
    "def run_random_sim(item_attrs, noisy_utilities, pairs, ideal_interactions):\n",
    "    u, item_factory, empty_items = initialize_users_and_items(noisy_utilities, item_attrs)\n",
    "    r = RandomRecommender(\n",
    "        creators=item_factory,\n",
    "        num_attributes=NUM_ATTRS,\n",
    "        actual_item_representation=empty_items, \n",
    "        actual_user_representation=u, \n",
    "        score_fn=random_score_first_n_items(TOTAL_ITEMS_IN_STARTUP),\n",
    "        **init_params\n",
    "    )\n",
    "    r.add_metrics(InteractionSimilarity(pairs), SimilarUserInteractionSimilarity(ideal_interactions)) # random pairing of users\n",
    "    r.add_state_variable(r.users_hat) # need to do this so that the similarity metric uses the user representation from before interactions were trained\n",
    "    r.startup_and_train(timesteps=STARTUP_ITERS)\n",
    "    r.set_num_items_per_iter(TOTAL_ITEMS_IN_STARTUP + NEW_ITEMS_PER_ITER)\n",
    "    r.run(timesteps=SIM_ITERS, train_between_steps=True, **run_params)\n",
    "    return r"
   ]
  },
  {
   "cell_type": "code",
   "execution_count": 18,
   "metadata": {},
   "outputs": [
    {
     "name": "stderr",
     "output_type": "stream",
     "text": [
      "100%|██████████| 10/10 [00:00<00:00, 188.88it/s]\n",
      "100%|██████████| 90/90 [00:02<00:00, 44.01it/s]\n",
      "100%|██████████| 10/10 [00:00<00:00, 125.56it/s]\n",
      "100%|██████████| 90/90 [00:09<00:00,  9.45it/s]\n",
      "100%|██████████| 10/10 [00:00<00:00, 89.34it/s]\n",
      "/mnt/c/Users/matth/pton-research/recsys/t-recs/trecs/models/mf.py:262: UserWarning: train_between_steps is set to True. Note that, at each step, this overwrites the MF model with a model fit only to the latest interaction. To avoid this behavior, set train_between_steps to False.\n",
      "  \"train_between_steps is set to True. Note that, at each step, this \"\n",
      "100%|██████████| 90/90 [00:20<00:00,  4.48it/s]\n",
      "100%|██████████| 10/10 [00:00<00:00, 106.21it/s]\n",
      "100%|██████████| 90/90 [00:06<00:00, 14.57it/s]\n",
      "100%|██████████| 10/10 [00:00<00:00, 108.19it/s]\n",
      "100%|██████████| 90/90 [00:02<00:00, 33.10it/s]\n",
      "100%|██████████| 10/10 [00:00<00:00, 147.51it/s]\n",
      "100%|██████████| 90/90 [00:03<00:00, 27.05it/s]\n",
      "100%|██████████| 10/10 [00:00<00:00, 126.28it/s]\n",
      "100%|██████████| 90/90 [00:02<00:00, 38.71it/s]\n",
      "100%|██████████| 10/10 [00:00<00:00, 106.00it/s]\n",
      "100%|██████████| 90/90 [00:11<00:00,  7.81it/s]\n",
      "100%|██████████| 10/10 [00:00<00:00, 81.11it/s]\n",
      "/mnt/c/Users/matth/pton-research/recsys/t-recs/trecs/models/mf.py:262: UserWarning: train_between_steps is set to True. Note that, at each step, this overwrites the MF model with a model fit only to the latest interaction. To avoid this behavior, set train_between_steps to False.\n",
      "  \"train_between_steps is set to True. Note that, at each step, this \"\n",
      "100%|██████████| 90/90 [00:21<00:00,  4.14it/s]\n",
      "100%|██████████| 10/10 [00:00<00:00, 114.85it/s]\n",
      "100%|██████████| 90/90 [00:06<00:00, 14.08it/s]\n",
      "100%|██████████| 10/10 [00:00<00:00, 115.54it/s]\n",
      "100%|██████████| 90/90 [00:02<00:00, 34.71it/s]\n",
      "100%|██████████| 10/10 [00:00<00:00, 129.72it/s]\n",
      "100%|██████████| 90/90 [00:03<00:00, 26.72it/s]\n",
      "100%|██████████| 10/10 [00:00<00:00, 137.41it/s]\n",
      "100%|██████████| 90/90 [00:02<00:00, 40.87it/s]\n",
      "100%|██████████| 10/10 [00:00<00:00, 122.92it/s]\n",
      "100%|██████████| 90/90 [00:10<00:00,  8.42it/s]\n",
      "100%|██████████| 10/10 [00:00<00:00, 92.77it/s]\n",
      "/mnt/c/Users/matth/pton-research/recsys/t-recs/trecs/models/mf.py:262: UserWarning: train_between_steps is set to True. Note that, at each step, this overwrites the MF model with a model fit only to the latest interaction. To avoid this behavior, set train_between_steps to False.\n",
      "  \"train_between_steps is set to True. Note that, at each step, this \"\n",
      "100%|██████████| 90/90 [00:20<00:00,  4.40it/s]\n",
      "100%|██████████| 10/10 [00:00<00:00, 100.15it/s]\n",
      "100%|██████████| 90/90 [00:07<00:00, 12.65it/s]\n",
      "100%|██████████| 10/10 [00:00<00:00, 109.72it/s]\n",
      "100%|██████████| 90/90 [00:02<00:00, 35.66it/s]\n",
      "100%|██████████| 10/10 [00:00<00:00, 128.83it/s]\n",
      "100%|██████████| 90/90 [00:03<00:00, 26.57it/s]\n",
      "100%|██████████| 10/10 [00:00<00:00, 138.37it/s]\n",
      "100%|██████████| 90/90 [00:02<00:00, 38.17it/s]\n",
      "100%|██████████| 10/10 [00:00<00:00, 129.05it/s]\n",
      "100%|██████████| 90/90 [00:10<00:00,  8.63it/s]\n",
      "100%|██████████| 10/10 [00:00<00:00, 79.03it/s]\n",
      "/mnt/c/Users/matth/pton-research/recsys/t-recs/trecs/models/mf.py:262: UserWarning: train_between_steps is set to True. Note that, at each step, this overwrites the MF model with a model fit only to the latest interaction. To avoid this behavior, set train_between_steps to False.\n",
      "  \"train_between_steps is set to True. Note that, at each step, this \"\n",
      "100%|██████████| 90/90 [00:20<00:00,  4.48it/s]\n",
      "100%|██████████| 10/10 [00:00<00:00, 85.20it/s]\n",
      "100%|██████████| 90/90 [00:07<00:00, 12.80it/s]\n",
      "100%|██████████| 10/10 [00:00<00:00, 101.21it/s]\n",
      "100%|██████████| 90/90 [00:02<00:00, 34.59it/s]\n",
      "100%|██████████| 10/10 [00:00<00:00, 128.45it/s]\n",
      "100%|██████████| 90/90 [00:03<00:00, 26.59it/s]\n",
      "100%|██████████| 10/10 [00:00<00:00, 124.55it/s]\n",
      "100%|██████████| 90/90 [00:02<00:00, 39.11it/s]\n",
      "100%|██████████| 10/10 [00:00<00:00, 108.85it/s]\n",
      "100%|██████████| 90/90 [00:10<00:00,  8.48it/s]\n",
      "100%|██████████| 10/10 [00:00<00:00, 80.93it/s]\n",
      "/mnt/c/Users/matth/pton-research/recsys/t-recs/trecs/models/mf.py:262: UserWarning: train_between_steps is set to True. Note that, at each step, this overwrites the MF model with a model fit only to the latest interaction. To avoid this behavior, set train_between_steps to False.\n",
      "  \"train_between_steps is set to True. Note that, at each step, this \"\n",
      "100%|██████████| 90/90 [00:20<00:00,  4.29it/s]\n",
      "100%|██████████| 10/10 [00:00<00:00, 87.64it/s]\n",
      "100%|██████████| 90/90 [00:07<00:00, 12.17it/s]\n",
      "100%|██████████| 10/10 [00:00<00:00, 104.83it/s]\n",
      "100%|██████████| 90/90 [00:02<00:00, 32.13it/s]\n",
      "100%|██████████| 10/10 [00:00<00:00, 110.38it/s]\n",
      "100%|██████████| 90/90 [00:03<00:00, 25.87it/s]\n",
      "100%|██████████| 10/10 [00:00<00:00, 141.40it/s]\n",
      "100%|██████████| 90/90 [00:02<00:00, 39.53it/s]\n",
      "100%|██████████| 10/10 [00:00<00:00, 127.57it/s]\n",
      "100%|██████████| 90/90 [00:11<00:00,  7.81it/s]\n",
      "100%|██████████| 10/10 [00:00<00:00, 80.41it/s]\n",
      "/mnt/c/Users/matth/pton-research/recsys/t-recs/trecs/models/mf.py:262: UserWarning: train_between_steps is set to True. Note that, at each step, this overwrites the MF model with a model fit only to the latest interaction. To avoid this behavior, set train_between_steps to False.\n",
      "  \"train_between_steps is set to True. Note that, at each step, this \"\n",
      "100%|██████████| 90/90 [00:20<00:00,  4.47it/s]\n",
      "100%|██████████| 10/10 [00:00<00:00, 103.30it/s]\n",
      "100%|██████████| 90/90 [00:07<00:00, 12.15it/s]\n",
      "100%|██████████| 10/10 [00:00<00:00, 97.92it/s]\n",
      "100%|██████████| 90/90 [00:02<00:00, 33.97it/s]\n",
      "100%|██████████| 10/10 [00:00<00:00, 106.71it/s]\n",
      "100%|██████████| 90/90 [00:03<00:00, 25.42it/s]\n",
      "100%|██████████| 10/10 [00:00<00:00, 128.34it/s]\n",
      "100%|██████████| 90/90 [00:02<00:00, 37.77it/s]\n",
      "100%|██████████| 10/10 [00:00<00:00, 121.66it/s]\n",
      "100%|██████████| 90/90 [00:11<00:00,  7.98it/s]\n",
      "100%|██████████| 10/10 [00:00<00:00, 78.34it/s]\n",
      "/mnt/c/Users/matth/pton-research/recsys/t-recs/trecs/models/mf.py:262: UserWarning: train_between_steps is set to True. Note that, at each step, this overwrites the MF model with a model fit only to the latest interaction. To avoid this behavior, set train_between_steps to False.\n",
      "  \"train_between_steps is set to True. Note that, at each step, this \"\n",
      "100%|██████████| 90/90 [00:20<00:00,  4.40it/s]\n",
      "100%|██████████| 10/10 [00:00<00:00, 81.07it/s]\n",
      "100%|██████████| 90/90 [00:07<00:00, 12.65it/s]\n",
      "100%|██████████| 10/10 [00:00<00:00, 101.78it/s]\n",
      "100%|██████████| 90/90 [00:02<00:00, 33.89it/s]\n",
      "100%|██████████| 10/10 [00:00<00:00, 111.75it/s]\n",
      "100%|██████████| 90/90 [00:03<00:00, 25.09it/s]\n",
      "100%|██████████| 10/10 [00:00<00:00, 128.32it/s]\n",
      "100%|██████████| 90/90 [00:02<00:00, 38.16it/s]\n",
      "100%|██████████| 10/10 [00:00<00:00, 115.17it/s]\n",
      "100%|██████████| 90/90 [00:10<00:00,  8.26it/s]\n",
      "100%|██████████| 10/10 [00:00<00:00, 76.79it/s]\n",
      "/mnt/c/Users/matth/pton-research/recsys/t-recs/trecs/models/mf.py:262: UserWarning: train_between_steps is set to True. Note that, at each step, this overwrites the MF model with a model fit only to the latest interaction. To avoid this behavior, set train_between_steps to False.\n",
      "  \"train_between_steps is set to True. Note that, at each step, this \"\n",
      "100%|██████████| 90/90 [00:21<00:00,  4.17it/s]\n",
      "100%|██████████| 10/10 [00:00<00:00, 84.89it/s]\n",
      "100%|██████████| 90/90 [00:06<00:00, 14.12it/s]\n",
      "100%|██████████| 10/10 [00:00<00:00, 107.23it/s]\n",
      "100%|██████████| 90/90 [00:02<00:00, 33.48it/s]\n",
      "100%|██████████| 10/10 [00:00<00:00, 98.65it/s]\n",
      "100%|██████████| 90/90 [00:03<00:00, 24.79it/s]\n",
      "100%|██████████| 10/10 [00:00<00:00, 124.89it/s]\n",
      "100%|██████████| 90/90 [00:02<00:00, 38.55it/s]\n",
      "100%|██████████| 10/10 [00:00<00:00, 117.96it/s]\n",
      "100%|██████████| 90/90 [00:10<00:00,  8.32it/s]\n",
      "100%|██████████| 10/10 [00:00<00:00, 82.96it/s]\n",
      "/mnt/c/Users/matth/pton-research/recsys/t-recs/trecs/models/mf.py:262: UserWarning: train_between_steps is set to True. Note that, at each step, this overwrites the MF model with a model fit only to the latest interaction. To avoid this behavior, set train_between_steps to False.\n",
      "  \"train_between_steps is set to True. Note that, at each step, this \"\n",
      "100%|██████████| 90/90 [00:20<00:00,  4.30it/s]\n",
      "100%|██████████| 10/10 [00:00<00:00, 87.35it/s]\n",
      "100%|██████████| 90/90 [00:06<00:00, 13.75it/s]\n",
      "100%|██████████| 10/10 [00:00<00:00, 104.27it/s]\n",
      "100%|██████████| 90/90 [00:02<00:00, 33.35it/s]\n",
      "100%|██████████| 10/10 [00:00<00:00, 108.15it/s]\n",
      "100%|██████████| 90/90 [00:03<00:00, 24.88it/s]\n",
      "100%|██████████| 10/10 [00:00<00:00, 129.20it/s]\n",
      "100%|██████████| 90/90 [00:02<00:00, 37.90it/s]\n",
      "100%|██████████| 10/10 [00:00<00:00, 122.84it/s]\n",
      "100%|██████████| 90/90 [00:11<00:00,  7.82it/s]\n",
      "100%|██████████| 10/10 [00:00<00:00, 78.57it/s]\n",
      "/mnt/c/Users/matth/pton-research/recsys/t-recs/trecs/models/mf.py:262: UserWarning: train_between_steps is set to True. Note that, at each step, this overwrites the MF model with a model fit only to the latest interaction. To avoid this behavior, set train_between_steps to False.\n",
      "  \"train_between_steps is set to True. Note that, at each step, this \"\n",
      "100%|██████████| 90/90 [00:20<00:00,  4.29it/s]\n",
      "100%|██████████| 10/10 [00:00<00:00, 76.85it/s]\n",
      "100%|██████████| 90/90 [00:06<00:00, 13.01it/s]\n",
      "100%|██████████| 10/10 [00:00<00:00, 105.88it/s]\n",
      "100%|██████████| 90/90 [00:02<00:00, 33.54it/s]\n",
      "100%|██████████| 10/10 [00:00<00:00, 115.34it/s]\n",
      "100%|██████████| 90/90 [00:03<00:00, 25.04it/s]\n"
     ]
    }
   ],
   "source": [
    "model_keys = [\"ideal\", \"content_chaney\", \"mf\", \"sf\", \"popularity\", \"random\"]\n",
    "# stores results for each type of model for each type of user pairing (random or cosine similarity)\n",
    "rep_train_results = {\"sim_users\": defaultdict(list), \"random_users\": defaultdict(list)}\n",
    "rep_train_models = {}\n",
    "\n",
    "for i in range(NUM_SIMS):\n",
    "    true_prefs = users[i] # underlying true preferences\n",
    "    true_scores = true_utilities[i]\n",
    "    noisy_scores = known_utils[i]\n",
    "    item_representation = items[i].T\n",
    "    social_network = social_networks[i]\n",
    "\n",
    "    # generate random pairs for evaluating jaccard similarity\n",
    "    pairs = [np.random.choice(NUM_USERS, 2, replace=False) for _ in range(800)]\n",
    "    \n",
    "    repeated_training = True\n",
    "    rep_train_models[\"ideal\"] = run_ideal_sim(true_prefs, item_representation, true_scores, noisy_scores, pairs, repeated_training)\n",
    "    ideal_interactions = np.hstack(process_measurement(rep_train_models[\"ideal\"], \"interaction_history\")) # pull out the interaction history for the ideal simulations\n",
    "    rep_train_models[\"content_chaney\"] = run_content_sim(item_representation, noisy_scores, pairs, ideal_interactions, repeated_training)\n",
    "    rep_train_models[\"mf\"] = run_mf_sim(item_representation, noisy_scores, pairs, ideal_interactions, repeated_training)\n",
    "    rep_train_models[\"sf\"] = run_sf_sim(social_network, item_representation, noisy_scores, pairs, ideal_interactions, repeated_training)\n",
    "    rep_train_models[\"popularity\"] = run_pop_sim(item_representation, noisy_scores, pairs, ideal_interactions, repeated_training)\n",
    "    rep_train_models[\"random\"] = run_random_sim(item_representation, noisy_scores, pairs, ideal_interactions)\n",
    "    \n",
    "    # extract results from each model\n",
    "    for model_key in model_keys:\n",
    "        model = rep_train_models[model_key]\n",
    "        rep_train_results[\"random_users\"][model_key].append(process_measurement(model, \"interaction_similarity\"))\n",
    "        if model_key is not \"ideal\": # homogenization of similar users is always measured relative to the ideal model\n",
    "            rep_train_results[\"sim_users\"][model_key].append(process_measurement(model, \"similar_user_jaccard\"))"
   ]
  },
  {
   "cell_type": "code",
   "execution_count": 19,
   "metadata": {},
   "outputs": [],
   "source": [
    "# graphing\n",
    "plt.style.use('seaborn-whitegrid')\n",
    "plt.rcParams.update({'font.size': 14})\n",
    "\n",
    "# smoothing factor for visualizing curves\n",
    "sigma = 1"
   ]
  },
  {
   "cell_type": "markdown",
   "metadata": {},
   "source": [
    "## Change in Jaccard (users paired randomly)"
   ]
  },
  {
   "cell_type": "code",
   "execution_count": 20,
   "metadata": {},
   "outputs": [],
   "source": [
    "# get change in jaccard index just for ideal recommender\n",
    "ideal_jaccard = np.array(rep_train_results[\"random_users\"][\"ideal\"])\n",
    "relative_jaccard = {}\n",
    "\n",
    "for model_key in model_keys:\n",
    "    abs_jaccard = np.array(rep_train_results[\"random_users\"][model_key])\n",
    "    relative_jaccard[model_key] = (abs_jaccard - ideal_jaccard).mean(axis=0) # average across 10 trials"
   ]
  },
  {
   "cell_type": "code",
   "execution_count": 21,
   "metadata": {},
   "outputs": [],
   "source": [
    "# readable legend keys\n",
    "id_to_readable = {\n",
    "    \"ideal\": \"ideal\", \n",
    "    \"content_chaney\": \"content (Chaney et al.)\",\n",
    "    \"mf\" : \"matrix factorization\",\n",
    "    \"sf\": \"social filtering\",\n",
    "    \"popularity\": \"popularity\", \n",
    "    \"random\": \"random\"\n",
    "}"
   ]
  },
  {
   "cell_type": "code",
   "execution_count": 22,
   "metadata": {},
   "outputs": [
    {
     "data": {
      "image/png": "[encoded data removed]",
      "text/plain": [
       "<Figure size 432x288 with 1 Axes>"
      ]
     },
     "metadata": {},
     "output_type": "display_data"
    }
   ],
   "source": [
    "for m in model_keys:\n",
    "    plt.plot(gaussian_filter1d(np.copy(relative_jaccard[m][:200]), sigma=sigma), label=id_to_readable[m])\n",
    "plt.ylabel(\"Change in Jaccard Index\")\n",
    "plt.xlabel(\"Timestep\")\n",
    "plt.legend(facecolor='white', framealpha=1, loc='upper right', bbox_to_anchor=(1.7, 1.0))\n",
    "plt.ylim(-0.1, 0.3)\n",
    "plt.title(\"Homogenization (relative to ideal),\\nRandomly Paired Users and Repeated Training\")\n",
    "plt.savefig('repeated_training_random_pair.pdf', bbox_inches = \"tight\")"
   ]
  },
  {
   "cell_type": "markdown",
   "metadata": {},
   "source": [
    "## Change in Jaccard (similar users paired)"
   ]
  },
  {
   "cell_type": "code",
   "execution_count": 23,
   "metadata": {},
   "outputs": [],
   "source": [
    "# get change in jaccard index just for ideal recommender\n",
    "relative_jaccard = {}\n",
    "relative_jaccard[\"ideal\"] = np.zeros(STARTUP_ITERS + SIM_ITERS)\n",
    "\n",
    "for model_key in model_keys:\n",
    "    if model_key is not \"ideal\":\n",
    "        relative_jaccard[model_key] = (np.array(rep_train_results[\"sim_users\"][model_key])).mean(axis=0) # average across 10 trials"
   ]
  },
  {
   "cell_type": "code",
   "execution_count": 24,
   "metadata": {},
   "outputs": [
    {
     "data": {
      "image/png": "[encoded data removed]",
      "text/plain": [
       "<Figure size 432x288 with 1 Axes>"
      ]
     },
     "metadata": {},
     "output_type": "display_data"
    }
   ],
   "source": [
    "for m in model_keys:\n",
    "    plt.plot(gaussian_filter1d(np.copy(relative_jaccard[m][:200]), sigma=sigma), label=id_to_readable[m])\n",
    "plt.ylabel(\"Change in Jaccard Index\")\n",
    "plt.xlabel(\"Timestep\")\n",
    "plt.legend(facecolor='white', framealpha=1, loc='upper right', bbox_to_anchor=(1.7, 1.0))\n",
    "plt.ylim(-0.1, 0.3)\n",
    "plt.title(\"Homogenization (relative to ideal),\\nCosine Similarity Paired Users and Repeated Training\")\n",
    "plt.savefig('repeated_training_sim_pair.pdf', bbox_inches = \"tight\")"
   ]
  },
  {
   "cell_type": "markdown",
   "metadata": {},
   "source": [
    "# Single training"
   ]
  },
  {
   "cell_type": "markdown",
   "metadata": {},
   "source": [
    "We do the same training with all of the same models just as we did earlier, but now we only train each model once - following the startup phase."
   ]
  },
  {
   "cell_type": "code",
   "execution_count": 25,
   "metadata": {},
   "outputs": [
    {
     "name": "stderr",
     "output_type": "stream",
     "text": [
      "100%|██████████| 50/50 [00:00<00:00, 76.17it/s] \n",
      "100%|██████████| 50/50 [00:01<00:00, 30.53it/s]\n",
      "100%|██████████| 50/50 [00:00<00:00, 50.59it/s]\n",
      "100%|██████████| 50/50 [00:02<00:00, 19.45it/s]\n",
      "100%|██████████| 50/50 [00:01<00:00, 47.66it/s]\n",
      "100%|██████████| 50/50 [00:02<00:00, 18.80it/s]\n",
      "100%|██████████| 50/50 [00:00<00:00, 50.52it/s]\n",
      "100%|██████████| 50/50 [00:02<00:00, 19.43it/s]\n",
      "100%|██████████| 50/50 [00:00<00:00, 62.99it/s] \n",
      "100%|██████████| 50/50 [00:01<00:00, 26.63it/s]\n",
      "100%|██████████| 50/50 [00:00<00:00, 52.32it/s] \n",
      "100%|██████████| 50/50 [00:02<00:00, 19.81it/s]\n",
      "100%|██████████| 50/50 [00:00<00:00, 79.90it/s] \n",
      "100%|██████████| 50/50 [00:01<00:00, 29.67it/s]\n",
      "100%|██████████| 50/50 [00:00<00:00, 55.46it/s] \n",
      "100%|██████████| 50/50 [00:02<00:00, 19.82it/s]\n",
      "100%|██████████| 50/50 [00:01<00:00, 48.52it/s]\n",
      "100%|██████████| 50/50 [00:02<00:00, 19.56it/s]\n",
      "100%|██████████| 50/50 [00:00<00:00, 52.28it/s] \n",
      "100%|██████████| 50/50 [00:02<00:00, 18.63it/s]\n",
      "100%|██████████| 50/50 [00:00<00:00, 63.86it/s] \n",
      "100%|██████████| 50/50 [00:01<00:00, 25.01it/s]\n",
      "100%|██████████| 50/50 [00:00<00:00, 52.50it/s] \n",
      "100%|██████████| 50/50 [00:02<00:00, 20.06it/s]\n",
      "100%|██████████| 50/50 [00:00<00:00, 78.70it/s] \n",
      "100%|██████████| 50/50 [00:01<00:00, 31.76it/s]\n",
      "100%|██████████| 50/50 [00:00<00:00, 52.89it/s] \n",
      "100%|██████████| 50/50 [00:02<00:00, 19.18it/s]\n",
      "100%|██████████| 50/50 [00:01<00:00, 46.14it/s]\n",
      "100%|██████████| 50/50 [00:02<00:00, 19.30it/s]\n",
      "100%|██████████| 50/50 [00:00<00:00, 52.30it/s] \n",
      "100%|██████████| 50/50 [00:02<00:00, 19.56it/s]\n",
      "100%|██████████| 50/50 [00:00<00:00, 66.69it/s] \n",
      "100%|██████████| 50/50 [00:01<00:00, 27.67it/s]\n",
      "100%|██████████| 50/50 [00:00<00:00, 51.44it/s] \n",
      "100%|██████████| 50/50 [00:02<00:00, 19.98it/s]\n",
      "100%|██████████| 50/50 [00:00<00:00, 79.95it/s] \n",
      "100%|██████████| 50/50 [00:01<00:00, 30.72it/s]\n",
      "100%|██████████| 50/50 [00:00<00:00, 52.12it/s] \n",
      "100%|██████████| 50/50 [00:02<00:00, 19.30it/s]\n",
      "100%|██████████| 50/50 [00:01<00:00, 45.17it/s]\n",
      "100%|██████████| 50/50 [00:02<00:00, 19.07it/s]\n",
      "100%|██████████| 50/50 [00:01<00:00, 48.47it/s] \n",
      "100%|██████████| 50/50 [00:02<00:00, 19.83it/s]\n",
      "100%|██████████| 50/50 [00:00<00:00, 67.02it/s] \n",
      "100%|██████████| 50/50 [00:01<00:00, 25.01it/s]\n",
      "100%|██████████| 50/50 [00:00<00:00, 50.05it/s] \n",
      "100%|██████████| 50/50 [00:02<00:00, 19.85it/s]\n",
      "100%|██████████| 50/50 [00:00<00:00, 76.49it/s] \n",
      "100%|██████████| 50/50 [00:01<00:00, 31.44it/s]\n",
      "100%|██████████| 50/50 [00:00<00:00, 50.17it/s] \n",
      "100%|██████████| 50/50 [00:02<00:00, 19.37it/s]\n",
      "100%|██████████| 50/50 [00:01<00:00, 47.60it/s] \n",
      "100%|██████████| 50/50 [00:02<00:00, 18.94it/s]\n",
      "100%|██████████| 50/50 [00:01<00:00, 48.84it/s]\n",
      "100%|██████████| 50/50 [00:02<00:00, 20.51it/s]\n",
      "100%|██████████| 50/50 [00:00<00:00, 63.33it/s] \n",
      "100%|██████████| 50/50 [00:01<00:00, 26.91it/s]\n",
      "100%|██████████| 50/50 [00:00<00:00, 50.14it/s] \n",
      "100%|██████████| 50/50 [00:02<00:00, 19.89it/s]\n",
      "100%|██████████| 50/50 [00:00<00:00, 73.11it/s] \n",
      "100%|██████████| 50/50 [00:01<00:00, 30.71it/s]\n",
      "100%|██████████| 50/50 [00:00<00:00, 52.58it/s] \n",
      "100%|██████████| 50/50 [00:02<00:00, 19.20it/s]\n",
      "100%|██████████| 50/50 [00:01<00:00, 47.00it/s]\n",
      "100%|██████████| 50/50 [00:02<00:00, 18.34it/s]\n",
      "100%|██████████| 50/50 [00:01<00:00, 49.59it/s] \n",
      "100%|██████████| 50/50 [00:02<00:00, 19.39it/s]\n",
      "100%|██████████| 50/50 [00:00<00:00, 66.12it/s] \n",
      "100%|██████████| 50/50 [00:01<00:00, 26.90it/s]\n",
      "100%|██████████| 50/50 [00:00<00:00, 50.75it/s] \n",
      "100%|██████████| 50/50 [00:02<00:00, 19.41it/s]\n",
      "100%|██████████| 50/50 [00:00<00:00, 79.13it/s] \n",
      "100%|██████████| 50/50 [00:01<00:00, 30.26it/s]\n",
      "100%|██████████| 50/50 [00:00<00:00, 50.28it/s] \n",
      "100%|██████████| 50/50 [00:02<00:00, 19.44it/s]\n",
      "100%|██████████| 50/50 [00:01<00:00, 48.06it/s] \n",
      "100%|██████████| 50/50 [00:02<00:00, 18.57it/s]\n",
      "100%|██████████| 50/50 [00:00<00:00, 51.24it/s] \n",
      "100%|██████████| 50/50 [00:02<00:00, 19.99it/s]\n",
      "100%|██████████| 50/50 [00:00<00:00, 62.26it/s] \n",
      "100%|██████████| 50/50 [00:01<00:00, 27.77it/s]\n",
      "100%|██████████| 50/50 [00:00<00:00, 50.97it/s] \n",
      "100%|██████████| 50/50 [00:02<00:00, 19.99it/s]\n",
      "100%|██████████| 50/50 [00:00<00:00, 78.79it/s] \n",
      "100%|██████████| 50/50 [00:01<00:00, 30.67it/s]\n",
      "100%|██████████| 50/50 [00:01<00:00, 47.63it/s] \n",
      "100%|██████████| 50/50 [00:02<00:00, 18.62it/s]\n",
      "100%|██████████| 50/50 [00:01<00:00, 44.87it/s]\n",
      "100%|██████████| 50/50 [00:03<00:00, 15.85it/s]\n",
      "100%|██████████| 50/50 [00:01<00:00, 47.85it/s]\n",
      "100%|██████████| 50/50 [00:02<00:00, 19.22it/s]\n",
      "100%|██████████| 50/50 [00:00<00:00, 60.02it/s] \n",
      "100%|██████████| 50/50 [00:02<00:00, 22.66it/s]\n",
      "100%|██████████| 50/50 [00:01<00:00, 42.11it/s] \n",
      "100%|██████████| 50/50 [00:02<00:00, 18.13it/s]\n",
      "100%|██████████| 50/50 [00:00<00:00, 75.01it/s] \n",
      "100%|██████████| 50/50 [00:01<00:00, 30.17it/s]\n",
      "100%|██████████| 50/50 [00:00<00:00, 50.80it/s] \n",
      "100%|██████████| 50/50 [00:02<00:00, 18.61it/s]\n",
      "100%|██████████| 50/50 [00:01<00:00, 43.25it/s]\n",
      "100%|██████████| 50/50 [00:02<00:00, 18.13it/s]\n",
      "100%|██████████| 50/50 [00:01<00:00, 48.44it/s] \n",
      "100%|██████████| 50/50 [00:02<00:00, 20.02it/s]\n",
      "100%|██████████| 50/50 [00:00<00:00, 65.66it/s] \n",
      "100%|██████████| 50/50 [00:01<00:00, 25.91it/s]\n",
      "100%|██████████| 50/50 [00:00<00:00, 54.47it/s] \n",
      "100%|██████████| 50/50 [00:02<00:00, 20.02it/s]\n",
      "100%|██████████| 50/50 [00:00<00:00, 70.88it/s] \n",
      "100%|██████████| 50/50 [00:01<00:00, 30.71it/s]\n",
      "100%|██████████| 50/50 [00:00<00:00, 51.08it/s] \n",
      "100%|██████████| 50/50 [00:02<00:00, 19.72it/s]\n",
      "100%|██████████| 50/50 [00:01<00:00, 47.72it/s]\n",
      "100%|██████████| 50/50 [00:02<00:00, 19.27it/s]\n",
      "100%|██████████| 50/50 [00:00<00:00, 50.41it/s] \n",
      "100%|██████████| 50/50 [00:02<00:00, 19.55it/s]\n",
      "100%|██████████| 50/50 [00:00<00:00, 63.52it/s] \n",
      "100%|██████████| 50/50 [00:01<00:00, 26.44it/s]\n",
      "100%|██████████| 50/50 [00:00<00:00, 52.90it/s] \n",
      "100%|██████████| 50/50 [00:02<00:00, 20.50it/s]\n"
     ]
    }
   ],
   "source": [
    "# stores results for each type of model for each type of user pairing (random or cosine similarity)\n",
    "single_train_results = {\"sim_users\": defaultdict(list), \"random_users\": defaultdict(list)}\n",
    "\n",
    "STARTUP_ITERS = 50\n",
    "SIM_ITERS = 50\n",
    "\n",
    "for i in range(NUM_SIMS):\n",
    "    true_prefs = users[i] # underlying true preferences\n",
    "    true_scores = true_utilities[i]\n",
    "    noisy_scores = known_utils[i]\n",
    "    item_representation = items[i].T\n",
    "    social_network = social_networks[i]\n",
    "\n",
    "    # generate random pairs for evaluating jaccard similarity\n",
    "    pairs = [np.random.choice(NUM_USERS, 2, replace=False) for _ in range(800)]\n",
    "    \n",
    "    repeated_training = False\n",
    "    single_train_results[\"ideal\"] = run_ideal_sim(true_prefs, item_representation, true_scores, noisy_scores, pairs, repeated_training)\n",
    "    ideal_interactions = np.hstack(process_measurement(single_train_results[\"ideal\"], \"interaction_history\")) # pull out the interaction history for the ideal simulations\n",
    "    single_train_results[\"content_chaney\"] = run_content_sim(item_representation, noisy_scores, pairs, ideal_interactions, repeated_training)\n",
    "    single_train_results[\"mf\"] = run_mf_sim(item_representation, noisy_scores, pairs, ideal_interactions, repeated_training)\n",
    "    single_train_results[\"sf\"] = run_sf_sim(social_network, item_representation, noisy_scores, pairs, ideal_interactions, repeated_training)\n",
    "    single_train_results[\"popularity\"] = run_pop_sim(item_representation, noisy_scores, pairs, ideal_interactions, repeated_training)\n",
    "    single_train_results[\"random\"] = run_random_sim(item_representation, noisy_scores, pairs, ideal_interactions)\n",
    "    \n",
    "    # extract results from each model\n",
    "    for model_key in model_keys:\n",
    "        model = single_train_results[model_key]\n",
    "        single_train_results[\"random_users\"][model_key].append(process_measurement(model, \"interaction_similarity\"))\n",
    "        if model_key is not \"ideal\": # homogenization of similar users is always measured relative to the ideal model\n",
    "            single_train_results[\"sim_users\"][model_key].append(process_measurement(model, \"similar_user_jaccard\"))"
   ]
  },
  {
   "cell_type": "markdown",
   "metadata": {},
   "source": [
    "## Change in Jaccard (users paired randomly)"
   ]
  },
  {
   "cell_type": "code",
   "execution_count": 26,
   "metadata": {},
   "outputs": [],
   "source": [
    "# get change in jaccard index just for ideal recommender\n",
    "ideal_jaccard = np.array(single_train_results[\"random_users\"][\"ideal\"])\n",
    "relative_jaccard = {}\n",
    "\n",
    "for model_key in model_keys:\n",
    "    abs_jaccard = np.array(single_train_results[\"random_users\"][model_key])\n",
    "    relative_jaccard[model_key] = (abs_jaccard - ideal_jaccard).mean(axis=0) # average across 10 trials"
   ]
  },
  {
   "cell_type": "code",
   "execution_count": 27,
   "metadata": {},
   "outputs": [
    {
     "data": {
      "image/png": "[encoded data removed]",
      "text/plain": [
       "<Figure size 432x288 with 1 Axes>"
      ]
     },
     "metadata": {},
     "output_type": "display_data"
    }
   ],
   "source": [
    "for m in model_keys:\n",
    "    plt.plot(gaussian_filter1d(np.copy(relative_jaccard[m][:200]), sigma=sigma), label=id_to_readable[m])\n",
    "plt.ylabel(\"Change in Jaccard Index\")\n",
    "plt.xlabel(\"Timestep\")\n",
    "plt.legend(facecolor='white', framealpha=1, loc='upper right', bbox_to_anchor=(1.7, 1.0))\n",
    "plt.ylim(-0.1, 0.3)\n",
    "plt.title(\"Homogenization (relative to ideal),\\nRandomly Paired Users and Single Training\")\n",
    "plt.savefig('single_training_random_pair.pdf', bbox_inches = \"tight\")"
   ]
  },
  {
   "cell_type": "markdown",
   "metadata": {},
   "source": [
    "## Change in Jaccard (similar users paired)"
   ]
  },
  {
   "cell_type": "code",
   "execution_count": 28,
   "metadata": {},
   "outputs": [],
   "source": [
    "# get change in jaccard index just for ideal recommender\n",
    "relative_jaccard = {}\n",
    "relative_jaccard[\"ideal\"] = np.zeros(STARTUP_ITERS + SIM_ITERS)\n",
    "\n",
    "for model_key in model_keys:\n",
    "    if model_key is not \"ideal\":\n",
    "        relative_jaccard[model_key] = (np.array(single_train_results[\"sim_users\"][model_key])).mean(axis=0) # average across 10 trials"
   ]
  },
  {
   "cell_type": "code",
   "execution_count": 29,
   "metadata": {},
   "outputs": [
    {
     "data": {
      "image/png": "[encoded data removed]",
      "text/plain": [
       "<Figure size 432x288 with 1 Axes>"
      ]
     },
     "metadata": {},
     "output_type": "display_data"
    }
   ],
   "source": [
    "for m in model_keys:\n",
    "    plt.plot(gaussian_filter1d(np.copy(relative_jaccard[m][:200]), sigma=sigma), label=id_to_readable[m])\n",
    "plt.ylabel(\"Change in Jaccard Index\")\n",
    "plt.xlabel(\"Timestep\")\n",
    "plt.legend(facecolor='white', framealpha=1, loc='upper right', bbox_to_anchor=(1.7, 1.0))\n",
    "plt.title(\"Homogenization (relative to ideal),\\nCosine Similarity Paired Users and Single Training\")\n",
    "plt.ylim(-0.1, 0.3)\n",
    "plt.savefig('single_training_sim_pair.pdf', bbox_inches = \"tight\")"
   ]
  },
  {
   "cell_type": "markdown",
   "metadata": {},
   "source": [
    "# Diagnosing what's going on in the various simulations"
   ]
  },
  {
   "cell_type": "code",
   "execution_count": 33,
   "metadata": {},
   "outputs": [],
   "source": [
    "# get change in jaccard index just for ideal recommender\n",
    "single_train_ideal_jac = np.array(single_train_results[\"random_users\"][\"ideal\"])\n",
    "single_train_rel_jac = {}\n",
    "\n",
    "for model_key in model_keys:\n",
    "    abs_jaccard = np.array(single_train_results[\"random_users\"][model_key])\n",
    "    single_train_rel_jac[model_key] = (abs_jaccard - single_train_ideal_jac).mean(axis=0) # average across 10 trials\n",
    "    \n",
    "# get change in jaccard index just for ideal recommender\n",
    "rep_train_ideal_jac = np.array(rep_train_results[\"random_users\"][\"ideal\"])\n",
    "rep_train_rel_jac = {}\n",
    "\n",
    "for model_key in model_keys:\n",
    "    abs_jaccard = np.array(rep_train_results[\"random_users\"][model_key])\n",
    "    rep_train_rel_jac[model_key] = (abs_jaccard - rep_train_ideal_jac).mean(axis=0) # average across 10 trials"
   ]
  },
  {
   "cell_type": "code",
   "execution_count": 39,
   "metadata": {},
   "outputs": [
    {
     "name": "stdout",
     "output_type": "stream",
     "text": [
      "[0.198      0.15433333 0.15635    0.14463333 0.13616071 0.13463658\n",
      " 0.13507368 0.13556748 0.13021903 0.12874017 0.12677003 0.12552751\n",
      " 0.1235328  0.1259007  0.12665436 0.12569083 0.12375999 0.12427252\n",
      " 0.12634458 0.12813297 0.12795495 0.1277265  0.12691392 0.12781629\n",
      " 0.12823168 0.12886175 0.12960242 0.13064672 0.13096672 0.1303035 ]\n",
      "[0.21525    0.16291667 0.15925    0.1442     0.13969048 0.13784405\n",
      " 0.13623355 0.13721924 0.13316115 0.12995591 0.12889698 0.12608451\n",
      " 0.12461511 0.12653695 0.12655321 0.12557948 0.12345173 0.12431442\n",
      " 0.12563106 0.12765318 0.12797078 0.12754948 0.12681282 0.12724924\n",
      " 0.12738746 0.12829378 0.12883507 0.13011779 0.13049872 0.12944376]\n",
      "Differences between single and ideal: [-1.72500000e-02 -8.58333333e-03 -2.90000000e-03  4.33333333e-04\n",
      " -3.52976190e-03 -3.20746753e-03 -1.15986791e-03 -1.65176490e-03\n",
      " -2.94211597e-03 -1.21574025e-03 -2.12694382e-03 -5.57005438e-04\n",
      " -1.08230310e-03 -6.36246846e-04  1.01148784e-04  1.11346723e-04\n",
      "  3.08257977e-04 -4.18932065e-05  7.13514330e-04  4.79790456e-04\n",
      " -1.58346725e-05  1.77012515e-04  1.01102289e-04  5.67055897e-04\n",
      "  8.44218665e-04  5.67970865e-04  7.67345960e-04  5.28929800e-04\n",
      "  4.68006443e-04  8.59744543e-04]\n"
     ]
    }
   ],
   "source": [
    "single_ideal_jac_avg = single_train_ideal_jac[:, :STARTUP_ITERS].mean(axis=0)\n",
    "rep_ideal_jac_avg = rep_train_ideal_jac[:, :STARTUP_ITERS].mean(axis=0)\n",
    "print(single_ideal_jac_avg)\n",
    "print(rep_ideal_jac_avg)\n",
    "print(f\"Differences between single and ideal: {single_ideal_jac_avg-rep_ideal_jac_avg}\") # differences seems mall"
   ]
  },
  {
   "cell_type": "markdown",
   "metadata": {},
   "source": [
    "# Troubleshooting"
   ]
  },
  {
   "cell_type": "code",
   "execution_count": 32,
   "metadata": {},
   "outputs": [],
   "source": [
    "NUM_USERS = 3\n",
    "NUM_ITEMS = 10 # 2 random for 2 iterations, then 2 new for 3 iterations\n",
    "NUM_ATTRS = 2\n",
    "\n",
    "users = np.around(np.random.rand(NUM_USERS, NUM_ATTRS), decimals=3)\n",
    "items = np.around(np.random.rand(NUM_ATTRS, NUM_ITEMS), decimals=3)\n",
    "true_scores = np.around(np.random.rand(NUM_USERS, NUM_ITEMS), decimals=3)\n",
    "user_utils = np.copy(true_scores)\n",
    "pairs = [np.random.choice(NUM_USERS, 2, replace=False) for _ in range(3)]\n",
    "\n",
    "STARTUP_ITERS = 3\n",
    "SIM_ITERS = 2 # TODO: CHANGE WHEN NOT TESTING\n",
    "NEW_ITEMS_PER_ITER = 2\n",
    "TOTAL_ITEMS_IN_STARTUP = NEW_ITEMS_PER_ITER * STARTUP_ITERS\n",
    "ATTENTION_EXP = 0\n",
    "\n",
    "init_params = {\n",
    "    \"num_items_per_iter\": NEW_ITEMS_PER_ITER,\n",
    "    \"num_users\": NUM_USERS,\n",
    "    \"num_items\": 0, # all simulations start with 0 items\n",
    "    \"interleaving_fn\": interleave_new_items\n",
    "}\n",
    "\n",
    "run_params = {\n",
    "    \"random_items_per_iter\": NEW_ITEMS_PER_ITER,\n",
    "    \"vary_random_items_per_iter\": False,\n",
    "    \"timesteps\": SIM_ITERS,\n",
    "}"
   ]
  },
  {
   "cell_type": "code",
   "execution_count": 33,
   "metadata": {},
   "outputs": [
    {
     "name": "stdout",
     "output_type": "stream",
     "text": [
      "Total items seen during training phase: 6\n",
      "User's preferred items (high to low)\n",
      "[[4 2 7 8 9 5 1 0 3 6]\n",
      " [3 1 4 2 9 5 0 7 6 8]\n",
      " [3 9 7 8 5 0 4 6 2 1]]\n",
      "\n",
      "User's training-set preferred items (high to low)\n",
      "[[4 2 5 1 0 3]\n",
      " [3 1 4 2 5 0]\n",
      " [3 5 0 4 2 1]]\n",
      "\n",
      "User-item scores:\n",
      "[[0.382 0.454 0.818 0.38  0.847 0.644 0.375 0.787 0.707 0.705]\n",
      " [0.586 0.887 0.808 0.997 0.875 0.648 0.193 0.424 0.104 0.806]\n",
      " [0.379 0.088 0.2   0.968 0.357 0.666 0.254 0.719 0.687 0.887]]\n",
      "\n",
      "User profiles:\n",
      "[[0.278 0.703]\n",
      " [0.267 0.048]\n",
      " [0.638 0.152]]\n",
      "\n",
      "Item profiles:\n",
      "[[0.025 0.057 0.095 0.171 0.381 0.982 0.92  0.466 0.848 0.632]\n",
      " [0.175 0.053 0.749 0.071 0.647 0.202 0.824 0.666 0.948 0.976]]\n"
     ]
    }
   ],
   "source": [
    "print(f\"Total items seen during training phase: {TOTAL_ITEMS_IN_STARTUP}\")\n",
    "print(\"User's preferred items (high to low)\")\n",
    "print((true_scores * -1).argsort(axis=1))\n",
    "print()\n",
    "print(\"User's training-set preferred items (high to low)\")\n",
    "print((true_scores * -1)[:, :TOTAL_ITEMS_IN_STARTUP].argsort(axis=1))\n",
    "print()\n",
    "print(\"User-item scores:\")\n",
    "print(true_scores)\n",
    "print()\n",
    "print(\"User profiles:\")\n",
    "print(users)\n",
    "print()\n",
    "print(\"Item profiles:\")\n",
    "print(items)"
   ]
  },
  {
   "cell_type": "code",
   "execution_count": 34,
   "metadata": {},
   "outputs": [
    {
     "name": "stderr",
     "output_type": "stream",
     "text": [
      "100%|██████████| 3/3 [00:00<00:00, 942.12it/s]\n",
      "100%|██████████| 2/2 [00:00<00:00, 2118.34it/s]\n"
     ]
    }
   ],
   "source": [
    "u, item_factory, empty_items = initialize_users_and_items(true_scores, items)\n",
    "ideal = IdealRecommender(\n",
    "    user_representation=users,\n",
    "    creators=item_factory, \n",
    "    actual_user_representation=u,\n",
    "    actual_item_representation=empty_items,\n",
    "    score_fn=perfect_scores_first_items(TOTAL_ITEMS_IN_STARTUP, true_scores),\n",
    "#     verbose=True,\n",
    "    **init_params\n",
    ")\n",
    "ideal.add_metrics(InteractionSimilarity(pairs), InteractionTracker())\n",
    "ideal.startup_and_train(timesteps=STARTUP_ITERS)\n",
    "ideal.set_num_items_per_iter(TOTAL_ITEMS_IN_STARTUP + NEW_ITEMS_PER_ITER) # show all items from training set plus interleaved itmes\n",
    "ideal.run(**run_params)\n",
    "\n",
    "ideal_interactions = np.hstack(process_measurement(ideal, \"interaction_history\")) # pull out the interaction history for the ideal simulations"
   ]
  },
  {
   "cell_type": "code",
   "execution_count": 35,
   "metadata": {},
   "outputs": [
    {
     "name": "stdout",
     "output_type": "stream",
     "text": [
      "Total items seen during training phase: 6\n",
      "User's preferred items (high to low)\n",
      "[[4 2 7 8 9 5 1 0 3 6]\n",
      " [3 1 4 2 9 5 0 7 6 8]\n",
      " [3 9 7 8 5 0 4 6 2 1]]\n",
      "\n",
      "User's training-set preferred items (high to low)\n",
      "[[4 2 5 1 0 3]\n",
      " [3 1 4 2 5 0]\n",
      " [3 5 0 4 2 1]]\n",
      "\n",
      "User-item scores:\n",
      "[[0.382 0.454 0.818 0.38  0.847 0.644 0.375 0.787 0.707 0.705]\n",
      " [0.586 0.887 0.808 0.997 0.875 0.648 0.193 0.424 0.104 0.806]\n",
      " [0.379 0.088 0.2   0.968 0.357 0.666 0.254 0.719 0.687 0.887]]\n",
      "\n",
      "User profiles:\n",
      "[[0.278 0.703]\n",
      " [0.267 0.048]\n",
      " [0.638 0.152]]\n",
      "\n",
      "Item profiles:\n",
      "[[0.025 0.057 0.095 0.171 0.381 0.982 0.92  0.466 0.848 0.632]\n",
      " [0.175 0.053 0.749 0.071 0.647 0.202 0.824 0.666 0.948 0.976]]\n"
     ]
    }
   ],
   "source": [
    "print(f\"Total items seen during training phase: {TOTAL_ITEMS_IN_STARTUP}\")\n",
    "print(\"User's preferred items (high to low)\")\n",
    "print((true_scores * -1).argsort(axis=1))\n",
    "print()\n",
    "print(\"User's training-set preferred items (high to low)\")\n",
    "print((true_scores * -1)[:, :TOTAL_ITEMS_IN_STARTUP].argsort(axis=1))\n",
    "print()\n",
    "print(\"User-item scores:\")\n",
    "print(true_scores)\n",
    "print()\n",
    "print(\"User profiles:\")\n",
    "print(users)\n",
    "print()\n",
    "print(\"Item profiles:\")\n",
    "print(items)"
   ]
  },
  {
   "cell_type": "markdown",
   "metadata": {},
   "source": [
    "## Troubleshoot random recommender"
   ]
  },
  {
   "cell_type": "code",
   "execution_count": 36,
   "metadata": {},
   "outputs": [
    {
     "name": "stderr",
     "output_type": "stream",
     "text": [
      "100%|██████████| 3/3 [00:00<00:00, 122.79it/s]\n",
      "100%|██████████| 2/2 [00:00<00:00, 79.10it/s]\n"
     ]
    }
   ],
   "source": [
    "u, item_factory, empty_items = initialize_users_and_items(true_scores, items)\n",
    "r = RandomRecommender(\n",
    "    creators=item_factory,\n",
    "    actual_item_representation=empty_items, \n",
    "    actual_user_representation=u, \n",
    "    score_fn=random_score_first_n_items(TOTAL_ITEMS_IN_STARTUP),\n",
    "    verbose=True,\n",
    "    **init_params\n",
    ")\n",
    "r.add_metrics(SimilarUserInteractionSimilarity(ideal_interactions))\n",
    "r.add_state_variable(r.users_hat)\n",
    "r.startup_and_train(timesteps=STARTUP_ITERS)\n",
    "r.set_num_items_per_iter(TOTAL_ITEMS_IN_STARTUP + NEW_ITEMS_PER_ITER)\n",
    "r.run(train_between_steps=True, **run_params)\n"
   ]
  },
  {
   "cell_type": "code",
   "execution_count": 37,
   "metadata": {},
   "outputs": [
    {
     "name": "stdout",
     "output_type": "stream",
     "text": [
      "Total items seen during training phase: 6\n",
      "User's preferred items (high to low)\n",
      "[[4 2 7 8 9 5 1 0 3 6]\n",
      " [3 1 4 2 9 5 0 7 6 8]\n",
      " [3 9 7 8 5 0 4 6 2 1]]\n",
      "\n",
      "User's training-set preferred items (high to low)\n",
      "[[4 2 5 1 0 3]\n",
      " [3 1 4 2 5 0]\n",
      " [3 5 0 4 2 1]]\n",
      "\n",
      "User-item scores:\n",
      "[[0.382 0.454 0.818 0.38  0.847 0.644 0.375 0.787 0.707 0.705]\n",
      " [0.586 0.887 0.808 0.997 0.875 0.648 0.193 0.424 0.104 0.806]\n",
      " [0.379 0.088 0.2   0.968 0.357 0.666 0.254 0.719 0.687 0.887]]\n",
      "\n",
      "User profiles:\n",
      "[[0.278 0.703]\n",
      " [0.267 0.048]\n",
      " [0.638 0.152]]\n",
      "\n",
      "Item profiles:\n",
      "[[0.025 0.057 0.095 0.171 0.381 0.982 0.92  0.466 0.848 0.632]\n",
      " [0.175 0.053 0.749 0.071 0.647 0.202 0.824 0.666 0.948 0.976]]\n"
     ]
    }
   ],
   "source": [
    "print(f\"Total items seen during training phase: {TOTAL_ITEMS_IN_STARTUP}\")\n",
    "print(\"User's preferred items (high to low)\")\n",
    "print((true_scores * -1).argsort(axis=1))\n",
    "print()\n",
    "print(\"User's training-set preferred items (high to low)\")\n",
    "print((true_scores * -1)[:, :TOTAL_ITEMS_IN_STARTUP].argsort(axis=1))\n",
    "print()\n",
    "print(\"User-item scores:\")\n",
    "print(true_scores)\n",
    "print()\n",
    "print(\"User profiles:\")\n",
    "print(users)\n",
    "print()\n",
    "print(\"Item profiles:\")\n",
    "print(items)"
   ]
  },
  {
   "cell_type": "markdown",
   "metadata": {},
   "source": [
    "## Troubleshoot Chaney/MF recommender"
   ]
  },
  {
   "cell_type": "code",
   "execution_count": 33,
   "metadata": {},
   "outputs": [
    {
     "name": "stderr",
     "output_type": "stream",
     "text": [
      "100%|██████████| 2/2 [00:00<00:00, 126.58it/s]\n",
      "100%|██████████| 3/3 [00:00<00:00, 96.98it/s]\n"
     ]
    }
   ],
   "source": [
    "u, item_factory, empty_items = initialize_users_and_items(true_scores, items)\n",
    "initial_users_hat = np.random.rand(NUM_USERS, NUM_ATTRS)\n",
    "\n",
    "chaney = ChaneyContent(\n",
    "    creators=item_factory, \n",
    "    num_attributes=NUM_ATTRS,\n",
    "    actual_item_representation=empty_items,\n",
    "    user_representation=initial_users_hat,\n",
    "    actual_user_representation=u,\n",
    "    score_fn=freeze_scores_after_n_items(TOTAL_ITEMS_IN_STARTUP),\n",
    "    verbose=True,\n",
    "    **init_params)\n",
    "chaney.add_metrics(SimilarUserInteractionSimilarity(ideal_interactions))\n",
    "chaney.add_state_variable(chaney.users_hat)\n",
    "chaney.startup_and_train(timesteps=STARTUP_ITERS) # update user representations, but only serve random items\n",
    "chaney.set_num_items_per_iter(TOTAL_ITEMS_IN_STARTUP + NEW_ITEMS_PER_ITER) # show all items from training set plus interleaved itmes\n",
    "chaney.run(train_between_steps=True, **run_params)"
   ]
  },
  {
   "cell_type": "code",
   "execution_count": 30,
   "metadata": {},
   "outputs": [
    {
     "name": "stdout",
     "output_type": "stream",
     "text": [
      "Total items seen during training phase: 4\n",
      "User's preferred items (high to low)\n",
      "[[7 0 2 4 1 6 3 8 5 9]\n",
      " [9 7 1 3 8 2 4 0 6 5]\n",
      " [7 0 9 6 2 1 8 4 5 3]]\n",
      "\n",
      "User's training-set preferred items (high to low)\n",
      "[[0 2 1 3]\n",
      " [1 3 2 0]\n",
      " [0 2 1 3]]\n",
      "\n",
      "User-item scores:\n",
      "[[0.773 0.622 0.728 0.386 0.666 0.175 0.577 0.871 0.308 0.131]\n",
      " [0.35  0.637 0.514 0.603 0.479 0.017 0.029 0.885 0.55  0.93 ]\n",
      " [0.903 0.453 0.519 0.085 0.313 0.168 0.771 0.962 0.376 0.848]]\n",
      "\n",
      "User profiles:\n",
      "[[0.305 0.291]\n",
      " [0.019 0.318]\n",
      " [0.439 0.345]]\n",
      "\n",
      "Item profiles:\n",
      "[[0.925 0.691 0.303 0.361 0.866 0.322 0.502 0.359 0.777 0.484]\n",
      " [0.371 0.113 0.594 0.684 0.087 0.202 0.674 0.318 0.153 0.238]]\n"
     ]
    }
   ],
   "source": [
    "print(f\"Total items seen during training phase: {TOTAL_ITEMS_IN_STARTUP}\")\n",
    "print(\"User's preferred items (high to low)\")\n",
    "print((true_scores * -1).argsort(axis=1))\n",
    "print()\n",
    "print(\"User's training-set preferred items (high to low)\")\n",
    "print((true_scores * -1)[:, :TOTAL_ITEMS_IN_STARTUP].argsort(axis=1))\n",
    "print()\n",
    "print(\"User-item scores:\")\n",
    "print(true_scores)\n",
    "print()\n",
    "print(\"User profiles:\")\n",
    "print(users)\n",
    "print()\n",
    "print(\"Item profiles:\")\n",
    "print(items)"
   ]
  }
 ],
 "metadata": {
  "kernelspec": {
   "display_name": "Python 3",
   "language": "python",
   "name": "python3"
  },
  "language_info": {
   "codemirror_mode": {
    "name": "ipython",
    "version": 3
   },
   "file_extension": ".py",
   "mimetype": "text/x-python",
   "name": "python",
   "nbconvert_exporter": "python",
   "pygments_lexer": "ipython3",
   "version": "3.7.9"
  }
 },
 "nbformat": 4,
 "nbformat_minor": 4
}
