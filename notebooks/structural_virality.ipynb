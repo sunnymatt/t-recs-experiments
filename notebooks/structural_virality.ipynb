{
 "cells": [
  {
   "cell_type": "markdown",
   "metadata": {},
   "source": [
    "# Structural virality replication\n",
    "Date: 1/27/2021\n",
    "\n",
    "Author: Matthew Sun"
   ]
  },
  {
   "cell_type": "code",
   "execution_count": 56,
   "metadata": {},
   "outputs": [],
   "source": [
    "import networkx as nx\n",
    "import numpy as np\n",
    "import matplotlib.pyplot as plt\n",
    "import datetime\n",
    "import trecs\n",
    "from trecs.models import BassModel\n",
    "from trecs.random import SocialGraphGenerator"
   ]
  },
  {
   "cell_type": "code",
   "execution_count": 2,
   "metadata": {},
   "outputs": [],
   "source": [
    "def calc_avg_degree(graph):\n",
    "    sum_of_edges = sum(deg for n, deg in graph.degree())\n",
    "    k = sum_of_edges / graph.number_of_nodes()\n",
    "    return k\n",
    "\n",
    "def implied_beta(k, r):\n",
    "    \"\"\" Formula: r = k * beta, so beta equals r/k.\n",
    "    \"\"\"\n",
    "    return r / k\n",
    "\n",
    "def scale_free_graph(num_nodes, alpha=2.3):\n",
    "    \"\"\" Generate the scale free graph with the degree sequence specified\n",
    "        by the power law distribution parameterized by alpha. \n",
    "    \"\"\"\n",
    "    int_seq = np.zeros(num_nodes).astype(int)\n",
    "    idx = 0\n",
    "    while idx < num_nodes:\n",
    "        nextval = int(nx.utils.powerlaw_sequence(1, alpha)[0])\n",
    "        if idx == num_nodes - 1 and (int_seq.sum() + nextval) % 2 != 0 : # make sure sum is even\n",
    "            continue\n",
    "        if nextval > 10 and nextval < 1e6:\n",
    "            int_seq[idx] = nextval\n",
    "            idx += 1\n",
    "    # can't use trecs.SocialGraphGenerator because \"n\" is not an argument to configuration_model\n",
    "    # remove self-loops and duplicate edges\n",
    "    G = nx.configuration_model(int_seq) \n",
    "    G = nx.Graph(G)\n",
    "    G.remove_edges_from(nx.selfloop_edges(G))\n",
    "    return G"
   ]
  },
  {
   "cell_type": "code",
   "execution_count": 3,
   "metadata": {},
   "outputs": [
    {
     "name": "stdout",
     "output_type": "stream",
     "text": [
      "Average degree (k): 29.64\n",
      "Implied infectiousness when r=0.5: 0.016869095816464237\n"
     ]
    }
   ],
   "source": [
    "G = scale_free_graph(1000, alpha=2.3)\n",
    "k = calc_avg_degree(G)\n",
    "print(f\"Average degree (k): {k}\")\n",
    "r = 0.5 # if r = 0.5, what is the beta implied?\n",
    "print(f\"Implied infectiousness when r={r}: {implied_beta(k,r)}\")"
   ]
  },
  {
   "cell_type": "code",
   "execution_count": 4,
   "metadata": {},
   "outputs": [
    {
     "data": {
      "text/plain": [
       "Text(0.5, 1.0, 'Frequency of degree for nodes in scale-free network')"
      ]
     },
     "execution_count": 4,
     "metadata": {},
     "output_type": "execute_result"
    },
    {
     "data": {
      "image/png": "[encoded data removed]",
      "text/plain": [
       "<Figure size 432x288 with 1 Axes>"
      ]
     },
     "metadata": {
      "needs_background": "light"
     },
     "output_type": "display_data"
    }
   ],
   "source": [
    "# plot degrees of nodes\n",
    "degrees = [deg for n, deg in G.degree()]\n",
    "plt.hist(degrees, bins=100)\n",
    "plt.title(\"Frequency of degree for nodes in scale-free network\")"
   ]
  },
  {
   "cell_type": "code",
   "execution_count": 5,
   "metadata": {},
   "outputs": [],
   "source": [
    "def setup_experiment(num_nodes, r=0.5, alpha=2.3):\n",
    "    G = scale_free_graph(num_nodes, alpha=alpha)\n",
    "    user_rep = nx.convert_matrix.to_numpy_array(G) # convert to numpy adjacency matrix\n",
    "    # calculate required item infectiousness\n",
    "    k = calc_avg_degree(G)\n",
    "    beta = implied_beta(k, r)\n",
    "    item_rep = np.array([[beta]]) # must be two dimensional\n",
    "    \n",
    "    # seed infection with 1 user\n",
    "    infection_state = np.zeros(user_rep.shape[0]).reshape(-1, 1) # must be two dimensional array\n",
    "    seed_user = np.random.choice(num_nodes, 1)\n",
    "    infection_state[seed_user, 0] = 1\n",
    "    \n",
    "    # create model\n",
    "    bass = BassModel(\n",
    "        user_representation=user_rep,\n",
    "        item_representation=item_rep,\n",
    "        infection_state=infection_state\n",
    "    )\n",
    "    return bass"
   ]
  },
  {
   "cell_type": "code",
   "execution_count": 99,
   "metadata": {},
   "outputs": [],
   "source": [
    "# calculate metrics of interest\n",
    "def popularity(simulation):\n",
    "    return (simulation.infection_state != 0).sum()\n",
    "\n",
    "def graph_popularity(sizes):\n",
    "    plt.hist(sizes, bins=100)\n",
    "    plt.title(\"Frequency of cascade sizes\")\n",
    "    plt.xlabel(\"Size\")\n",
    "    plt.ylabel(\"Frequency\")\n",
    "    \n",
    "def prob_large_cascade(sizes):\n",
    "    large_cascades = np.where(sizes > 100)[0]\n",
    "    return len(large_cascades) / len(sizes)\n",
    "\n",
    "def mean_virality(viralitys):\n",
    "    # Assume virality of -1 are invalid trials\n",
    "    # (i.e., the seed user was not able to infect)\n",
    "    # any other user\n",
    "    return viralitys[viralitys > -1].mean()\n",
    "\n",
    "def size_virality_corr(sizes, viralitys):\n",
    "    \"\"\" Calculate correlation between size of cascade\n",
    "        and structural virality of cascade. Only compute\n",
    "        correlation on trials where >1 node was infected\n",
    "        (and therefore structural virality is computable.)\n",
    "    \"\"\"\n",
    "    valid_sims = viralitys > -1 \n",
    "    stacked_obvs = np.vstack([sizes[valid_sims], viralitys[valid_sims]])\n",
    "    return np.corrcoef(stacked_obvs)[0, 1]"
   ]
  },
  {
   "cell_type": "markdown",
   "metadata": {},
   "source": [
    "# Run simulation with 10k users"
   ]
  },
  {
   "cell_type": "code",
   "execution_count": 59,
   "metadata": {},
   "outputs": [
    {
     "name": "stdout",
     "output_type": "stream",
     "text": [
      "On trial 0 at time 2021-01-29 00:58:06.798617...\n",
      "On trial 50 at time 2021-01-29 01:06:45.377071...\n",
      "On trial 100 at time 2021-01-29 01:16:00.822602...\n",
      "On trial 150 at time 2021-01-29 01:24:04.789807...\n",
      "On trial 200 at time 2021-01-29 01:32:01.431891...\n",
      "On trial 250 at time 2021-01-29 01:39:45.805835...\n",
      "On trial 300 at time 2021-01-29 01:47:49.459406...\n",
      "On trial 350 at time 2021-01-29 01:55:49.965719...\n",
      "On trial 400 at time 2021-01-29 02:04:05.288979...\n",
      "On trial 450 at time 2021-01-29 02:12:15.020977...\n",
      "On trial 500 at time 2021-01-29 02:20:15.731889...\n",
      "On trial 550 at time 2021-01-29 02:28:14.466123...\n",
      "On trial 600 at time 2021-01-29 02:36:49.518257...\n",
      "On trial 650 at time 2021-01-29 02:45:08.259642...\n",
      "On trial 700 at time 2021-01-29 02:53:14.229321...\n",
      "On trial 750 at time 2021-01-29 03:01:38.875938...\n",
      "On trial 800 at time 2021-01-29 03:10:04.488411...\n",
      "On trial 850 at time 2021-01-29 03:18:12.005204...\n",
      "On trial 900 at time 2021-01-29 03:26:27.562315...\n",
      "On trial 950 at time 2021-01-29 03:34:47.351397...\n",
      "On trial 1000 at time 2021-01-29 03:43:01.242793...\n",
      "On trial 1050 at time 2021-01-29 03:51:16.091809...\n",
      "On trial 1100 at time 2021-01-29 03:59:34.155155...\n",
      "On trial 1150 at time 2021-01-29 04:07:38.528656...\n",
      "On trial 1200 at time 2021-01-29 04:15:49.095714...\n",
      "On trial 1250 at time 2021-01-29 04:24:05.588801...\n",
      "On trial 1300 at time 2021-01-29 04:32:19.784027...\n",
      "On trial 1350 at time 2021-01-29 04:40:24.230572...\n",
      "On trial 1400 at time 2021-01-29 04:48:28.008351...\n",
      "On trial 1450 at time 2021-01-29 04:56:31.840517...\n",
      "On trial 1500 at time 2021-01-29 05:05:01.789378...\n",
      "On trial 1550 at time 2021-01-29 05:13:33.549871...\n",
      "On trial 1600 at time 2021-01-29 05:21:50.680240...\n",
      "On trial 1650 at time 2021-01-29 05:30:13.017118...\n",
      "On trial 1700 at time 2021-01-29 05:38:28.820672...\n",
      "On trial 1750 at time 2021-01-29 05:47:01.077815...\n",
      "On trial 1800 at time 2021-01-29 05:55:20.890932...\n",
      "On trial 1850 at time 2021-01-29 06:03:15.841173...\n",
      "On trial 1900 at time 2021-01-29 06:11:17.378239...\n",
      "On trial 1950 at time 2021-01-29 06:19:14.317654...\n",
      "On trial 2000 at time 2021-01-29 06:27:15.162890...\n",
      "On trial 2050 at time 2021-01-29 06:35:23.041672...\n",
      "On trial 2100 at time 2021-01-29 06:43:22.525583...\n",
      "On trial 2150 at time 2021-01-29 06:51:52.008174...\n",
      "On trial 2200 at time 2021-01-29 07:00:05.333769...\n",
      "On trial 2250 at time 2021-01-29 07:08:29.947458...\n",
      "On trial 2300 at time 2021-01-29 07:16:29.009842...\n",
      "On trial 2350 at time 2021-01-29 07:24:44.280442...\n",
      "On trial 2400 at time 2021-01-29 07:32:55.872606...\n",
      "On trial 2450 at time 2021-01-29 07:41:19.649829...\n"
     ]
    }
   ],
   "source": [
    "# test bass model\n",
    "num_users = 10000\n",
    "num_trials = 2500\n",
    "\n",
    "sizes = np.zeros(num_trials)\n",
    "viralitys = np.zeros(num_trials)\n",
    "\n",
    "\n",
    "for i in range(num_trials):\n",
    "    if i % 50 == 0:\n",
    "        print(f\"On trial {i} at time {datetime.datetime.now()}...\")\n",
    "    simulation = setup_experiment(num_users)\n",
    "    simulation.run()\n",
    "    size = popularity(simulation)\n",
    "    sizes[i] = size\n",
    "    try:\n",
    "        sv = simulation.get_structural_virality()\n",
    "        viralitys[i] = sv\n",
    "    except:\n",
    "        viralitys[i] = -1 # couldn't calculate virality\n"
   ]
  },
  {
   "cell_type": "code",
   "execution_count": 94,
   "metadata": {},
   "outputs": [
    {
     "data": {
      "image/png": "[encoded data removed]",
      "text/plain": [
       "<Figure size 432x288 with 1 Axes>"
      ]
     },
     "metadata": {
      "needs_background": "light"
     },
     "output_type": "display_data"
    }
   ],
   "source": [
    "graph_popularity(sizes)"
   ]
  },
  {
   "cell_type": "code",
   "execution_count": 102,
   "metadata": {},
   "outputs": [
    {
     "name": "stdout",
     "output_type": "stream",
     "text": [
      "Probability of a large cascade: 0.1676\n",
      "Mean structural virality: 3.3284972630922685\n",
      "Correlation between popularity and structural virality: 0.9673114499638322\n"
     ]
    }
   ],
   "source": [
    "print(f\"Probability of a large cascade: {prob_large_cascade(sizes)}\")\n",
    "print(f\"Mean structural virality: {mean_virality(viralitys)}\")\n",
    "print(f\"Correlation between popularity and structural virality: {size_virality_corr(sizes, viralitys)}\")"
   ]
  }
 ],
 "metadata": {
  "kernelspec": {
   "display_name": "Python 3",
   "language": "python",
   "name": "python3"
  },
  "language_info": {
   "codemirror_mode": {
    "name": "ipython",
    "version": 3
   },
   "file_extension": ".py",
   "mimetype": "text/x-python",
   "name": "python",
   "nbconvert_exporter": "python",
   "pygments_lexer": "ipython3",
   "version": "3.7.9"
  }
 },
 "nbformat": 4,
 "nbformat_minor": 4
}
