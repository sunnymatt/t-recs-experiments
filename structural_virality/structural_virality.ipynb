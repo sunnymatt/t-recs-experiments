{
 "cells": [
  {
   "cell_type": "markdown",
   "metadata": {},
   "source": [
    "# Structural virality replication\n",
    "Date: 1/27/2021\n",
    "\n",
    "Author: Matthew Sun"
   ]
  },
  {
   "cell_type": "code",
   "execution_count": 6,
   "metadata": {},
   "outputs": [],
   "source": [
    "import networkx as nx\n",
    "import numpy as np\n",
    "import matplotlib.pyplot as plt\n",
    "import pickle as pkl\n",
    "import datetime\n",
    "from collections import defaultdict\n",
    "\n",
    "import trecs\n",
    "from trecs.models import BassModel\n",
    "from trecs.random import SocialGraphGenerator\n",
    "\n",
    "# custom utilities\n",
    "from graph_utils import calc_avg_degree, implied_beta, scale_free_graph"
   ]
  },
  {
   "cell_type": "code",
   "execution_count": 7,
   "metadata": {},
   "outputs": [
    {
     "name": "stdout",
     "output_type": "stream",
     "text": [
      "Average degree (k): 28.302\n",
      "Implied infectiousness when r=0.5: 0.017666596000282666\n"
     ]
    }
   ],
   "source": [
    "G = scale_free_graph(1000, alpha=2.3)\n",
    "k = calc_avg_degree(G)\n",
    "print(f\"Average degree (k): {k}\")\n",
    "r = 0.5 # if r = 0.5, what is the beta implied?\n",
    "print(f\"Implied infectiousness when r={r}: {implied_beta(k,r)}\")"
   ]
  },
  {
   "cell_type": "code",
   "execution_count": 8,
   "metadata": {},
   "outputs": [
    {
     "data": {
      "text/plain": [
       "Text(0.5, 1.0, 'Frequency of degree for nodes in scale-free network')"
      ]
     },
     "execution_count": 8,
     "metadata": {},
     "output_type": "execute_result"
    },
    {
     "data": {
      "image/png": "[encoded data removed]",
      "text/plain": [
       "<Figure size 432x288 with 1 Axes>"
      ]
     },
     "metadata": {
      "needs_background": "light"
     },
     "output_type": "display_data"
    }
   ],
   "source": [
    "# plot degrees of nodes\n",
    "degrees = [deg for n, deg in G.degree()]\n",
    "plt.hist(degrees, bins=100)\n",
    "plt.title(\"Frequency of degree for nodes in scale-free network\")"
   ]
  },
  {
   "cell_type": "code",
   "execution_count": 9,
   "metadata": {},
   "outputs": [],
   "source": [
    "def setup_experiment(num_nodes, r=0.5, alpha=2.3):\n",
    "    G = scale_free_graph(num_nodes, alpha=alpha)\n",
    "    user_rep = nx.convert_matrix.to_numpy_array(G) # convert to numpy adjacency matrix\n",
    "    # calculate required item infectiousness\n",
    "    k = calc_avg_degree(G)\n",
    "    beta = implied_beta(k, r)\n",
    "    item_rep = np.array([[beta]]) # must be two dimensional\n",
    "    \n",
    "    # seed infection with 1 user\n",
    "    infection_state = np.zeros(user_rep.shape[0]).reshape(-1, 1) # must be two dimensional array\n",
    "    seed_user = np.random.choice(num_nodes, 1)\n",
    "    infection_state[seed_user, 0] = 1\n",
    "    \n",
    "    # create model\n",
    "    bass = BassModel(\n",
    "        user_representation=user_rep,\n",
    "        item_representation=item_rep,\n",
    "        infection_state=infection_state\n",
    "    )\n",
    "    return bass"
   ]
  },
  {
   "cell_type": "code",
   "execution_count": 27,
   "metadata": {},
   "outputs": [],
   "source": [
    "# calculate metrics of interest\n",
    "def popularity(simulation):\n",
    "    return (simulation.infection_state != 0).sum()\n",
    "\n",
    "def graph_popularity(sizes):\n",
    "    plt.hist(sizes, bins=100)\n",
    "    plt.title(\"Frequency of cascade sizes\")\n",
    "    plt.xlabel(\"Size\")\n",
    "    plt.ylabel(\"Frequency\")\n",
    "    \n",
    "def prob_large_cascade(sizes):\n",
    "    large_cascades = np.where(sizes > 100)[0]\n",
    "    return len(large_cascades) / len(sizes)\n",
    "\n",
    "def mean_virality(viralitys):\n",
    "    # Assume virality of -1 are invalid trials\n",
    "    # (i.e., the seed user was not able to infect)\n",
    "    # any other user\n",
    "    return viralitys[viralitys > -1].mean()\n",
    "\n",
    "def size_virality_corr(sizes, viralitys):\n",
    "    \"\"\" Calculate correlation between size of cascade\n",
    "        and structural virality of cascade. Only compute\n",
    "        correlation on trials where >1 node was infected\n",
    "        (and therefore structural virality is computable.)\n",
    "    \"\"\"\n",
    "    valid_sims = viralitys > -1 \n",
    "    stacked_obvs = np.vstack([sizes[valid_sims], viralitys[valid_sims]])\n",
    "    return np.corrcoef(stacked_obvs)[0, 1]"
   ]
  },
  {
   "cell_type": "markdown",
   "metadata": {},
   "source": [
    "# Run simulation with 10k users\n"
   ]
  },
  {
   "cell_type": "code",
   "execution_count": 16,
   "metadata": {},
   "outputs": [
    {
     "name": "stdout",
     "output_type": "stream",
     "text": [
      "Testing pair of parameters alpha=2.1, r=0.1 at time 2021-01-31 14:38:13.667489...\n",
      "\tOn trial 0 at time 2021-01-31 14:38:13.667617...\n",
      "\tOn trial 50 at time 2021-01-31 14:44:22.167465...\n",
      "\tOn trial 100 at time 2021-01-31 14:50:37.882055...\n",
      "\tOn trial 150 at time 2021-01-31 14:56:49.432854...\n",
      "\tOn trial 200 at time 2021-01-31 15:03:00.511304...\n",
      "\n",
      "Testing pair of parameters alpha=2.1, r=0.3 at time 2021-01-31 15:09:30.735460...\n",
      "\tOn trial 0 at time 2021-01-31 15:09:30.736178...\n",
      "\tOn trial 50 at time 2021-01-31 15:15:29.206491...\n",
      "\tOn trial 100 at time 2021-01-31 15:21:24.115236...\n",
      "\tOn trial 150 at time 2021-01-31 15:27:13.656831...\n",
      "\tOn trial 200 at time 2021-01-31 15:33:17.006003...\n",
      "\n",
      "Testing pair of parameters alpha=2.1, r=0.5 at time 2021-01-31 15:39:53.450817...\n",
      "\tOn trial 0 at time 2021-01-31 15:39:53.451008...\n",
      "\tOn trial 50 at time 2021-01-31 15:46:44.085773...\n",
      "\tOn trial 100 at time 2021-01-31 15:53:26.453535...\n",
      "\tOn trial 150 at time 2021-01-31 15:59:49.907101...\n",
      "\tOn trial 200 at time 2021-01-31 16:05:58.649746...\n",
      "\n",
      "Testing pair of parameters alpha=2.1, r=0.7 at time 2021-01-31 16:12:41.672374...\n",
      "\tOn trial 0 at time 2021-01-31 16:12:41.672643...\n",
      "\tOn trial 50 at time 2021-01-31 16:21:50.816557...\n",
      "\tOn trial 100 at time 2021-01-31 16:30:03.731213...\n",
      "\tOn trial 150 at time 2021-01-31 16:39:28.062176...\n",
      "\tOn trial 200 at time 2021-01-31 16:48:20.141192...\n",
      "\n",
      "Testing pair of parameters alpha=2.1, r=0.9 at time 2021-01-31 16:55:23.881363...\n",
      "\tOn trial 0 at time 2021-01-31 16:55:23.881588...\n",
      "\tOn trial 50 at time 2021-01-31 17:06:19.655373...\n",
      "\tOn trial 100 at time 2021-01-31 17:18:37.552726...\n",
      "\tOn trial 150 at time 2021-01-31 17:27:43.464872...\n",
      "\tOn trial 200 at time 2021-01-31 17:36:37.476191...\n",
      "\n",
      "Testing pair of parameters alpha=2.3, r=0.1 at time 2021-01-31 17:45:31.288119...\n",
      "\tOn trial 0 at time 2021-01-31 17:45:31.288182...\n",
      "\tOn trial 50 at time 2021-01-31 17:50:04.453243...\n",
      "\tOn trial 100 at time 2021-01-31 17:54:32.979247...\n",
      "\tOn trial 150 at time 2021-01-31 17:59:03.745536...\n",
      "\tOn trial 200 at time 2021-01-31 18:03:36.410388...\n",
      "\n",
      "Testing pair of parameters alpha=2.3, r=0.3 at time 2021-01-31 18:08:07.243308...\n",
      "\tOn trial 0 at time 2021-01-31 18:08:07.243495...\n",
      "\tOn trial 50 at time 2021-01-31 18:12:40.136665...\n",
      "\tOn trial 100 at time 2021-01-31 18:17:10.587171...\n",
      "\tOn trial 150 at time 2021-01-31 18:21:45.819306...\n",
      "\tOn trial 200 at time 2021-01-31 18:26:19.643285...\n",
      "\n",
      "Testing pair of parameters alpha=2.3, r=0.5 at time 2021-01-31 18:30:51.941771...\n",
      "\tOn trial 0 at time 2021-01-31 18:30:51.941957...\n",
      "\tOn trial 50 at time 2021-01-31 18:35:49.895997...\n",
      "\tOn trial 100 at time 2021-01-31 18:40:47.798838...\n",
      "\tOn trial 150 at time 2021-01-31 18:45:49.516872...\n",
      "\tOn trial 200 at time 2021-01-31 18:50:47.206565...\n",
      "\n",
      "Testing pair of parameters alpha=2.3, r=0.7 at time 2021-01-31 18:55:49.341448...\n",
      "\tOn trial 0 at time 2021-01-31 18:55:49.341639...\n",
      "\tOn trial 50 at time 2021-01-31 19:01:31.609070...\n",
      "\tOn trial 100 at time 2021-01-31 19:08:31.833187...\n",
      "\tOn trial 150 at time 2021-01-31 19:15:24.122212...\n",
      "\tOn trial 200 at time 2021-01-31 19:21:43.331398...\n",
      "\n",
      "Testing pair of parameters alpha=2.3, r=0.9 at time 2021-01-31 19:27:26.319738...\n",
      "\tOn trial 0 at time 2021-01-31 19:27:26.319924...\n",
      "\tOn trial 50 at time 2021-01-31 19:36:39.750736...\n",
      "\tOn trial 100 at time 2021-01-31 19:46:13.089029...\n",
      "\tOn trial 150 at time 2021-01-31 19:55:21.059855...\n",
      "\tOn trial 200 at time 2021-01-31 20:03:25.582748...\n",
      "\n",
      "Testing pair of parameters alpha=2.5, r=0.1 at time 2021-01-31 20:11:18.803360...\n",
      "\tOn trial 0 at time 2021-01-31 20:11:18.803548...\n",
      "\tOn trial 50 at time 2021-01-31 20:15:41.767514...\n",
      "\tOn trial 100 at time 2021-01-31 20:19:59.466554...\n",
      "\tOn trial 150 at time 2021-01-31 20:24:10.659820...\n",
      "\tOn trial 200 at time 2021-01-31 20:28:26.102556...\n",
      "\n",
      "Testing pair of parameters alpha=2.5, r=0.3 at time 2021-01-31 20:32:38.064829...\n",
      "\tOn trial 0 at time 2021-01-31 20:32:38.065057...\n",
      "\tOn trial 50 at time 2021-01-31 20:36:51.248658...\n",
      "\tOn trial 100 at time 2021-01-31 20:41:05.698683...\n",
      "\tOn trial 150 at time 2021-01-31 20:45:20.535905...\n",
      "\tOn trial 200 at time 2021-01-31 20:49:35.296877...\n",
      "\n",
      "Testing pair of parameters alpha=2.5, r=0.5 at time 2021-01-31 20:53:50.736845...\n",
      "\tOn trial 0 at time 2021-01-31 20:53:50.737032...\n",
      "\tOn trial 50 at time 2021-01-31 20:58:12.078884...\n",
      "\tOn trial 100 at time 2021-01-31 21:02:46.466855...\n",
      "\tOn trial 150 at time 2021-01-31 21:07:37.456576...\n",
      "\tOn trial 200 at time 2021-01-31 21:12:46.231993...\n",
      "\n",
      "Testing pair of parameters alpha=2.5, r=0.7 at time 2021-01-31 21:17:20.339044...\n",
      "\tOn trial 0 at time 2021-01-31 21:17:20.339234...\n",
      "\tOn trial 50 at time 2021-01-31 21:22:30.089123...\n",
      "\tOn trial 100 at time 2021-01-31 21:27:43.654826...\n",
      "\tOn trial 150 at time 2021-01-31 21:33:32.133778...\n",
      "\tOn trial 200 at time 2021-01-31 21:39:06.266565...\n",
      "\n",
      "Testing pair of parameters alpha=2.5, r=0.9 at time 2021-01-31 21:44:33.230062...\n",
      "\tOn trial 0 at time 2021-01-31 21:44:33.230416...\n",
      "\tOn trial 50 at time 2021-01-31 21:52:39.302489...\n",
      "\tOn trial 100 at time 2021-01-31 21:59:21.209997...\n",
      "\tOn trial 150 at time 2021-01-31 22:05:51.142719...\n",
      "\tOn trial 200 at time 2021-01-31 22:12:48.219661...\n",
      "\n",
      "Testing pair of parameters alpha=2.7, r=0.1 at time 2021-01-31 22:20:04.188377...\n",
      "\tOn trial 0 at time 2021-01-31 22:20:04.188565...\n",
      "\tOn trial 50 at time 2021-01-31 22:24:24.954478...\n",
      "\tOn trial 100 at time 2021-01-31 22:28:47.240648...\n",
      "\tOn trial 150 at time 2021-01-31 22:33:09.444425...\n",
      "\tOn trial 200 at time 2021-01-31 22:37:30.424511...\n",
      "\n",
      "Testing pair of parameters alpha=2.7, r=0.3 at time 2021-01-31 22:41:49.261966...\n",
      "\tOn trial 0 at time 2021-01-31 22:41:49.262158...\n",
      "\tOn trial 50 at time 2021-01-31 22:46:06.476042...\n",
      "\tOn trial 100 at time 2021-01-31 22:50:23.821828...\n",
      "\tOn trial 150 at time 2021-01-31 22:54:43.842381...\n",
      "\tOn trial 200 at time 2021-01-31 22:59:07.181708...\n",
      "\n",
      "Testing pair of parameters alpha=2.7, r=0.5 at time 2021-01-31 23:03:30.864662...\n",
      "\tOn trial 0 at time 2021-01-31 23:03:30.864859...\n",
      "\tOn trial 50 at time 2021-01-31 23:07:58.252163...\n",
      "\tOn trial 100 at time 2021-01-31 23:12:21.187876...\n",
      "\tOn trial 150 at time 2021-01-31 23:16:45.016179...\n",
      "\tOn trial 200 at time 2021-01-31 23:21:20.072509...\n",
      "\n",
      "Testing pair of parameters alpha=2.7, r=0.7 at time 2021-01-31 23:25:53.804507...\n",
      "\tOn trial 0 at time 2021-01-31 23:25:53.804691...\n",
      "\tOn trial 50 at time 2021-01-31 23:31:24.354872...\n",
      "\tOn trial 100 at time 2021-01-31 23:37:15.020378...\n",
      "\tOn trial 150 at time 2021-01-31 23:42:55.642129...\n",
      "\tOn trial 200 at time 2021-01-31 23:48:50.290514...\n",
      "\n",
      "Testing pair of parameters alpha=2.7, r=0.9 at time 2021-01-31 23:54:32.131199...\n",
      "\tOn trial 0 at time 2021-01-31 23:54:32.131394...\n",
      "\tOn trial 50 at time 2021-02-01 00:02:14.048182...\n",
      "\tOn trial 100 at time 2021-02-01 00:10:05.751279...\n",
      "\tOn trial 150 at time 2021-02-01 00:17:47.528717...\n",
      "\tOn trial 200 at time 2021-02-01 00:25:31.675849...\n",
      "\n",
      "Testing pair of parameters alpha=2.9, r=0.1 at time 2021-02-01 00:32:27.398025...\n",
      "\tOn trial 0 at time 2021-02-01 00:32:27.398110...\n",
      "\tOn trial 50 at time 2021-02-01 00:37:20.401306...\n",
      "\tOn trial 100 at time 2021-02-01 00:42:14.178145...\n",
      "\tOn trial 150 at time 2021-02-01 00:47:08.611828...\n",
      "\tOn trial 200 at time 2021-02-01 00:52:01.891992...\n",
      "\n",
      "Testing pair of parameters alpha=2.9, r=0.3 at time 2021-02-01 00:56:55.298191...\n",
      "\tOn trial 0 at time 2021-02-01 00:56:55.298377...\n",
      "\tOn trial 50 at time 2021-02-01 01:01:48.940988...\n",
      "\tOn trial 100 at time 2021-02-01 01:06:43.322577...\n",
      "\tOn trial 150 at time 2021-02-01 01:11:37.613620...\n",
      "\tOn trial 200 at time 2021-02-01 01:16:31.603711...\n",
      "\n",
      "Testing pair of parameters alpha=2.9, r=0.5 at time 2021-02-01 01:21:26.852034...\n",
      "\tOn trial 0 at time 2021-02-01 01:21:26.852269...\n",
      "\tOn trial 50 at time 2021-02-01 01:26:25.786159...\n",
      "\tOn trial 100 at time 2021-02-01 01:31:25.538856...\n",
      "\tOn trial 150 at time 2021-02-01 01:36:25.637404...\n",
      "\tOn trial 200 at time 2021-02-01 01:41:23.982576...\n",
      "\n",
      "Testing pair of parameters alpha=2.9, r=0.7 at time 2021-02-01 01:46:21.490484...\n",
      "\tOn trial 0 at time 2021-02-01 01:46:21.490671...\n",
      "\tOn trial 50 at time 2021-02-01 01:51:42.225235...\n",
      "\tOn trial 100 at time 2021-02-01 01:57:14.976094...\n",
      "\tOn trial 150 at time 2021-02-01 02:02:52.628421...\n",
      "\tOn trial 200 at time 2021-02-01 02:08:07.808894...\n",
      "\n",
      "Testing pair of parameters alpha=2.9, r=0.9 at time 2021-02-01 02:13:19.861723...\n",
      "\tOn trial 0 at time 2021-02-01 02:13:19.861929...\n",
      "\tOn trial 50 at time 2021-02-01 02:21:06.835830...\n",
      "\tOn trial 100 at time 2021-02-01 02:28:40.277427...\n",
      "\tOn trial 150 at time 2021-02-01 02:35:28.701183...\n",
      "\tOn trial 200 at time 2021-02-01 02:42:25.420575...\n",
      "\n"
     ]
    }
   ],
   "source": [
    "# test bass model\n",
    "num_users = 10000\n",
    "trials_per_setting = 250\n",
    "\n",
    "# varying alpha and R\n",
    "alphas = [2.1, 2.3, 2.5, 2.7, 2.9]\n",
    "rs = [0.1, 0.3, 0.5, 0.7, 0.9]\n",
    "\n",
    "# save result in a dictionary\n",
    "# that has (alpha-r) as the key\n",
    "# e.g.: \n",
    "#     {\n",
    "#         (2.1, 0.1): {\n",
    "#             \"size\" : np.array, # len: num_trials\n",
    "#             \"viralitys\" : np.array, # len: num_trials\n",
    "#         }\n",
    "#     }\n",
    "results = defaultdict(dict)\n",
    "\n",
    "for alpha in alphas:\n",
    "    for r in rs:\n",
    "        print(f\"Testing pair of parameters alpha={alpha}, r={r} at time {datetime.datetime.now()}...\")\n",
    "        \n",
    "        size_arr = np.zeros(trials_per_setting)\n",
    "        vir_arr = np.zeros(trials_per_setting)\n",
    "        \n",
    "        for i in range(trials_per_setting):\n",
    "            if i % 50 == 0:\n",
    "                print(f\"\\tOn trial {i} at time {datetime.datetime.now()}...\")\n",
    "            simulation = setup_experiment(num_users, r=r, alpha=alpha)\n",
    "            simulation.run()\n",
    "            size = popularity(simulation)\n",
    "            size_arr[i] = size\n",
    "            try:\n",
    "                sv = simulation.get_structural_virality()\n",
    "                vir_arr[i] = sv\n",
    "            except:\n",
    "                vir_arr[i] = -1 # couldn't calculate virality\n",
    "        \n",
    "        results[(alpha, r)][\"size\"] = size_arr\n",
    "        results[(alpha, r)][\"virality\"] = vir_arr\n",
    "        print(\"\")"
   ]
  },
  {
   "cell_type": "code",
   "execution_count": 17,
   "metadata": {},
   "outputs": [],
   "source": [
    "# save results\n",
    "f = open(\"10k_bass_results.pkl\", \"wb\")\n",
    "pkl.dump(results, f, -1)\n",
    "f.close()"
   ]
  },
  {
   "cell_type": "code",
   "execution_count": 39,
   "metadata": {},
   "outputs": [],
   "source": [
    "# graphing\n",
    "colors=['red', 'orange', 'green', 'blue', 'purple']"
   ]
  },
  {
   "cell_type": "code",
   "execution_count": 37,
   "metadata": {},
   "outputs": [
    {
     "data": {
      "text/plain": [
       "Text(0, 0.5, 'Probability of popularity')"
      ]
     },
     "execution_count": 37,
     "metadata": {},
     "output_type": "execute_result"
    },
    {
     "data": {
      "image/png": "[encoded data removed]",
      "text/plain": [
       "<Figure size 432x288 with 1 Axes>"
      ]
     },
     "metadata": {
      "needs_background": "light"
     },
     "output_type": "display_data"
    }
   ],
   "source": [
    "popularity_chance = {} # map from alpha to list, where each element corresponds to one R value\n",
    "for i, alpha in enumerate(alphas):\n",
    "    popularity_chance[alpha] = [prob_large_cascade(results[(alpha, r)][\"size\"]) for r in rs]\n",
    "    plt.plot(rs, popularity_chance[alpha], label=f\"alpha={alpha}\", color=colors[i])\n",
    "leg = plt.legend()\n",
    "rainbow_legend(leg)\n",
    "plt.xlabel(\"r\")\n",
    "plt.ylabel(\"Probability of popularity\")"
   ]
  },
  {
   "cell_type": "code",
   "execution_count": 38,
   "metadata": {},
   "outputs": [
    {
     "data": {
      "text/plain": [
       "Text(0, 0.5, 'Mean structural virality')"
      ]
     },
     "execution_count": 38,
     "metadata": {},
     "output_type": "execute_result"
    },
    {
     "data": {
      "image/png": "[encoded data removed]",
      "text/plain": [
       "<Figure size 432x288 with 1 Axes>"
      ]
     },
     "metadata": {
      "needs_background": "light"
     },
     "output_type": "display_data"
    }
   ],
   "source": [
    "avg_virality = {} # map from alpha to list, where each element corresponds to one R value\n",
    "for i, alpha in enumerate(alphas):\n",
    "    avg_virality[alpha] = [mean_virality(results[(alpha, r)][\"virality\"]) for r in rs]\n",
    "    plt.plot(rs, avg_virality[alpha], label=f\"alpha={alpha}\", color=colors[i])\n",
    "plt.legend()\n",
    "plt.xlabel(\"r\")\n",
    "plt.ylabel(\"Mean structural virality\")"
   ]
  },
  {
   "cell_type": "code",
   "execution_count": 40,
   "metadata": {},
   "outputs": [
    {
     "data": {
      "text/plain": [
       "Text(0, 0.5, 'Correlation between size and structural virality')"
      ]
     },
     "execution_count": 40,
     "metadata": {},
     "output_type": "execute_result"
    },
    {
     "data": {
      "image/png": "[encoded data removed]",
      "text/plain": [
       "<Figure size 432x288 with 1 Axes>"
      ]
     },
     "metadata": {
      "needs_background": "light"
     },
     "output_type": "display_data"
    }
   ],
   "source": [
    "size_vir_corr = {} # map from alpha to list, where each element corresponds to one R value\n",
    "for i, alpha in enumerate(alphas):\n",
    "    size_vir_corr[alpha] = [size_virality_corr(results[(alpha, r)][\"size\"], results[(alpha, r)][\"virality\"]) for r in rs]\n",
    "    plt.plot(rs, size_vir_corr[alpha], label=f\"alpha={alpha}\",color=colors[i])\n",
    "plt.legend()\n",
    "plt.xlabel(\"r\")\n",
    "plt.ylabel(\"Correlation between size and structural virality\")"
   ]
  },
  {
   "cell_type": "code",
   "execution_count": null,
   "metadata": {},
   "outputs": [],
   "source": [
    "graph_popularity(sizes)"
   ]
  },
  {
   "cell_type": "code",
   "execution_count": null,
   "metadata": {},
   "outputs": [],
   "source": [
    "print(f\"Probability of a large cascade: {prob_large_cascade(sizes)}\")\n",
    "print(f\"Mean structural virality: {mean_virality(viralitys)}\")\n",
    "print(f\"Correlation between popularity and structural virality: {size_virality_corr(sizes, viralitys)}\")"
   ]
  },
  {
   "cell_type": "markdown",
   "metadata": {},
   "source": [
    "# Test with sparse matrices"
   ]
  },
  {
   "cell_type": "code",
   "execution_count": 8,
   "metadata": {},
   "outputs": [],
   "source": [
    "from scipy.sparse import csr_matrix, save_npz\n",
    "import pickle as pkl\n",
    "import os"
   ]
  },
  {
   "cell_type": "code",
   "execution_count": null,
   "metadata": {},
   "outputs": [],
   "source": [
    "num_nodes = 1000000\n",
    "\n",
    "print(f\"Started creating graph at time {datetime.datetime.now()}...\")\n",
    "G = scale_free_graph(num_nodes, alpha=2.3)\n",
    "print(f\"Finished creating graph at time {datetime.datetime.now()}...\")\n",
    "user_rep = nx.convert_matrix.to_scipy_sparse_matrix(G) # convert to scipy adjacency matrix\n",
    "# calculate required item infectiousness\n",
    "k = calc_avg_degree(G)\n",
    "beta = implied_beta(k, r)\n",
    "item_rep = np.array([[beta]]) # must be two dimensional\n",
    "\n",
    "# seed infection with 1 user\n",
    "infection_state = np.zeros(user_rep.shape[0]).reshape(-1, 1) # must be two dimensional array\n",
    "seed_user = np.random.choice(num_nodes, 1)\n",
    "infection_state[seed_user, 0] = 1\n",
    "\n",
    "# create model\n",
    "bass = BassModel(\n",
    "    user_representation=user_rep,\n",
    "    item_representation=item_rep,\n",
    "    infection_state=infection_state\n",
    ")\n",
    "print(f\"Finished creating model at time {datetime.datetime.now()}...\")"
   ]
  },
  {
   "cell_type": "code",
   "execution_count": 12,
   "metadata": {},
   "outputs": [
    {
     "name": "stdout",
     "output_type": "stream",
     "text": [
      "Finished creating graph 0 at time 2021-01-31 12:22:52.825646...\n"
     ]
    }
   ],
   "source": [
    "# try to create as many graphs as I can overnight\n",
    "num_nodes = 1000000\n",
    "for i in range(75):\n",
    "    param_dict = {}\n",
    "    os.mkdir(f\"graphs_1m/{i}\")\n",
    "    G = scale_free_graph(num_nodes, alpha=2.3)\n",
    "    print(f\"Finished creating graph {i} at time {datetime.datetime.now()}...\")\n",
    "    user_rep = nx.convert_matrix.to_scipy_sparse_matrix(G) # convert to scipy adjacency matrix\n",
    "    save_npz(f'graphs_1m/{i}/sparse_matrix.npz', user_rep)\n",
    "    param_dict[\"k\"] = calc_avg_degree(G)\n",
    "    param_dict[\"beta\"] = implied_beta(k, r)\n",
    "    param_dict[\"num_nodes\"] = num_nodes\n",
    "    f = open(f'graphs_1m/{i}/param.pkl', 'wb')\n",
    "    pkl.dump(param_dict, f, -1)\n",
    "    f.close()\n",
    "    break\n",
    "    "
   ]
  },
  {
   "cell_type": "code",
   "execution_count": null,
   "metadata": {},
   "outputs": [],
   "source": [
    "bass.run()\n",
    "size = popularity(bass)\n",
    "try:\n",
    "    sv = bass.get_structural_virality()\n",
    "except:\n",
    "    pass"
   ]
  },
  {
   "cell_type": "code",
   "execution_count": null,
   "metadata": {},
   "outputs": [],
   "source": [
    "print(size)\n",
    "print(sv)"
   ]
  }
 ],
 "metadata": {
  "kernelspec": {
   "display_name": "Python 3",
   "language": "python",
   "name": "python3"
  },
  "language_info": {
   "codemirror_mode": {
    "name": "ipython",
    "version": 3
   },
   "file_extension": ".py",
   "mimetype": "text/x-python",
   "name": "python",
   "nbconvert_exporter": "python",
   "pygments_lexer": "ipython3",
   "version": "3.7.9"
  }
 },
 "nbformat": 4,
 "nbformat_minor": 4
}
