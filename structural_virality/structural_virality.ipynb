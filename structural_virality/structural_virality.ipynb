{
 "cells": [
  {
   "cell_type": "markdown",
   "metadata": {},
   "source": [
    "# Structural virality replication\n",
    "Date: 1/27/2021\n",
    "\n",
    "Author: Matthew Sun"
   ]
  },
  {
   "cell_type": "code",
   "execution_count": 1,
   "metadata": {},
   "outputs": [],
   "source": [
    "import networkx as nx\n",
    "import numpy as np\n",
    "import matplotlib.pyplot as plt\n",
    "import pickle as pkl\n",
    "import datetime\n",
    "import trecs\n",
    "from trecs.models import BassModel\n",
    "from trecs.random import SocialGraphGenerator"
   ]
  },
  {
   "cell_type": "code",
   "execution_count": 2,
   "metadata": {},
   "outputs": [],
   "source": [
    "def calc_avg_degree(graph):\n",
    "    sum_of_edges = sum(deg for n, deg in graph.degree())\n",
    "    k = sum_of_edges / graph.number_of_nodes()\n",
    "    return k\n",
    "\n",
    "def implied_beta(k, r):\n",
    "    \"\"\" Formula: r = k * beta, so beta equals r/k.\n",
    "    \"\"\"\n",
    "    return r / k\n",
    "\n",
    "def scale_free_graph(num_nodes, alpha=2.3):\n",
    "    \"\"\" Generate the scale free graph with the degree sequence specified\n",
    "        by the power law distribution parameterized by alpha. \n",
    "    \"\"\"\n",
    "    int_seq = np.zeros(num_nodes).astype(int)\n",
    "    idx = 0\n",
    "    while idx < num_nodes:\n",
    "        nextval = int(nx.utils.powerlaw_sequence(1, alpha)[0])\n",
    "        if idx == num_nodes - 1 and (int_seq.sum() + nextval) % 2 != 0 : # make sure sum is even\n",
    "            continue\n",
    "        if nextval > 10 and nextval < 1e6:\n",
    "            int_seq[idx] = nextval\n",
    "            idx += 1\n",
    "    # can't use trecs.SocialGraphGenerator because \"n\" is not an argument to configuration_model\n",
    "    # remove self-loops and duplicate edges\n",
    "    G = nx.configuration_model(int_seq) \n",
    "    G = nx.Graph(G)\n",
    "    G.remove_edges_from(nx.selfloop_edges(G))\n",
    "    return G"
   ]
  },
  {
   "cell_type": "code",
   "execution_count": 3,
   "metadata": {},
   "outputs": [
    {
     "name": "stdout",
     "output_type": "stream",
     "text": [
      "Average degree (k): 25.386\n",
      "Implied infectiousness when r=0.5: 0.019695895375403765\n"
     ]
    }
   ],
   "source": [
    "G = scale_free_graph(1000, alpha=2.3)\n",
    "k = calc_avg_degree(G)\n",
    "print(f\"Average degree (k): {k}\")\n",
    "r = 0.5 # if r = 0.5, what is the beta implied?\n",
    "print(f\"Implied infectiousness when r={r}: {implied_beta(k,r)}\")"
   ]
  },
  {
   "cell_type": "code",
   "execution_count": 4,
   "metadata": {},
   "outputs": [
    {
     "data": {
      "text/plain": [
       "Text(0.5, 1.0, 'Frequency of degree for nodes in scale-free network')"
      ]
     },
     "execution_count": 4,
     "metadata": {},
     "output_type": "execute_result"
    },
    {
     "data": {
      "image/png": "[encoded data removed]",
      "text/plain": [
       "<Figure size 432x288 with 1 Axes>"
      ]
     },
     "metadata": {
      "needs_background": "light"
     },
     "output_type": "display_data"
    }
   ],
   "source": [
    "# plot degrees of nodes\n",
    "degrees = [deg for n, deg in G.degree()]\n",
    "plt.hist(degrees, bins=100)\n",
    "plt.title(\"Frequency of degree for nodes in scale-free network\")"
   ]
  },
  {
   "cell_type": "code",
   "execution_count": 5,
   "metadata": {},
   "outputs": [],
   "source": [
    "def setup_experiment(num_nodes, r=0.5, alpha=2.3):\n",
    "    G = scale_free_graph(num_nodes, alpha=alpha)\n",
    "    user_rep = nx.convert_matrix.to_numpy_array(G) # convert to numpy adjacency matrix\n",
    "    # calculate required item infectiousness\n",
    "    k = calc_avg_degree(G)\n",
    "    beta = implied_beta(k, r)\n",
    "    item_rep = np.array([[beta]]) # must be two dimensional\n",
    "    \n",
    "    # seed infection with 1 user\n",
    "    infection_state = np.zeros(user_rep.shape[0]).reshape(-1, 1) # must be two dimensional array\n",
    "    seed_user = np.random.choice(num_nodes, 1)\n",
    "    infection_state[seed_user, 0] = 1\n",
    "    \n",
    "    # create model\n",
    "    bass = BassModel(\n",
    "        user_representation=user_rep,\n",
    "        item_representation=item_rep,\n",
    "        infection_state=infection_state\n",
    "    )\n",
    "    return bass"
   ]
  },
  {
   "cell_type": "code",
   "execution_count": 6,
   "metadata": {},
   "outputs": [],
   "source": [
    "# calculate metrics of interest\n",
    "def popularity(simulation):\n",
    "    return (simulation.infection_state != 0).sum()\n",
    "\n",
    "def graph_popularity(sizes):\n",
    "    plt.hist(sizes, bins=100)\n",
    "    plt.title(\"Frequency of cascade sizes\")\n",
    "    plt.xlabel(\"Size\")\n",
    "    plt.ylabel(\"Frequency\")\n",
    "    \n",
    "def prob_large_cascade(sizes):\n",
    "    large_cascades = np.where(sizes > 100)[0]\n",
    "    return len(large_cascades) / len(sizes)\n",
    "\n",
    "def mean_virality(viralitys):\n",
    "    # Assume virality of -1 are invalid trials\n",
    "    # (i.e., the seed user was not able to infect)\n",
    "    # any other user\n",
    "    return viralitys[viralitys > -1].mean()\n",
    "\n",
    "def size_virality_corr(sizes, viralitys):\n",
    "    \"\"\" Calculate correlation between size of cascade\n",
    "        and structural virality of cascade. Only compute\n",
    "        correlation on trials where >1 node was infected\n",
    "        (and therefore structural virality is computable.)\n",
    "    \"\"\"\n",
    "    valid_sims = viralitys > -1 \n",
    "    stacked_obvs = np.vstack([sizes[valid_sims], viralitys[valid_sims]])\n",
    "    return np.corrcoef(stacked_obvs)[0, 1]"
   ]
  },
  {
   "cell_type": "markdown",
   "metadata": {},
   "source": [
    "# Run simulation with 10k users"
   ]
  },
  {
   "cell_type": "code",
   "execution_count": 7,
   "metadata": {},
   "outputs": [
    {
     "name": "stdout",
     "output_type": "stream",
     "text": [
      "On trial 0 at time 2021-01-31 10:06:49.155055...\n"
     ]
    },
    {
     "ename": "KeyboardInterrupt",
     "evalue": "",
     "output_type": "error",
     "traceback": [
      "\u001b[0;31m---------------------------------------------------------------------------\u001b[0m",
      "\u001b[0;31mKeyboardInterrupt\u001b[0m                         Traceback (most recent call last)",
      "\u001b[0;32m<ipython-input-7-e6610f636ab2>\u001b[0m in \u001b[0;36m<module>\u001b[0;34m()\u001b[0m\n\u001b[1;32m     11\u001b[0m         \u001b[0mprint\u001b[0m\u001b[0;34m(\u001b[0m\u001b[0;34mf\"On trial {i} at time {datetime.datetime.now()}...\"\u001b[0m\u001b[0;34m)\u001b[0m\u001b[0;34m\u001b[0m\u001b[0;34m\u001b[0m\u001b[0m\n\u001b[1;32m     12\u001b[0m     \u001b[0msimulation\u001b[0m \u001b[0;34m=\u001b[0m \u001b[0msetup_experiment\u001b[0m\u001b[0;34m(\u001b[0m\u001b[0mnum_users\u001b[0m\u001b[0;34m)\u001b[0m\u001b[0;34m\u001b[0m\u001b[0;34m\u001b[0m\u001b[0m\n\u001b[0;32m---> 13\u001b[0;31m     \u001b[0msimulation\u001b[0m\u001b[0;34m.\u001b[0m\u001b[0mrun\u001b[0m\u001b[0;34m(\u001b[0m\u001b[0;34m)\u001b[0m\u001b[0;34m\u001b[0m\u001b[0;34m\u001b[0m\u001b[0m\n\u001b[0m\u001b[1;32m     14\u001b[0m     \u001b[0msize\u001b[0m \u001b[0;34m=\u001b[0m \u001b[0mpopularity\u001b[0m\u001b[0;34m(\u001b[0m\u001b[0msimulation\u001b[0m\u001b[0;34m)\u001b[0m\u001b[0;34m\u001b[0m\u001b[0;34m\u001b[0m\u001b[0m\n\u001b[1;32m     15\u001b[0m     \u001b[0msizes\u001b[0m\u001b[0;34m[\u001b[0m\u001b[0mi\u001b[0m\u001b[0;34m]\u001b[0m \u001b[0;34m=\u001b[0m \u001b[0msize\u001b[0m\u001b[0;34m\u001b[0m\u001b[0;34m\u001b[0m\u001b[0m\n",
      "\u001b[0;32m/mnt/c/Users/matth/pton-research/recsys/t-recs/trecs/models/bass.py\u001b[0m in \u001b[0;36mrun\u001b[0;34m(self, timesteps, startup, train_between_steps, repeated_items)\u001b[0m\n\u001b[1;32m    325\u001b[0m                     \u001b[0mtrain_between_steps\u001b[0m\u001b[0;34m=\u001b[0m\u001b[0mtrain_between_steps\u001b[0m\u001b[0;34m,\u001b[0m\u001b[0;34m\u001b[0m\u001b[0;34m\u001b[0m\u001b[0m\n\u001b[1;32m    326\u001b[0m                     \u001b[0mrepeated_items\u001b[0m\u001b[0;34m=\u001b[0m\u001b[0mrepeated_items\u001b[0m\u001b[0;34m,\u001b[0m\u001b[0;34m\u001b[0m\u001b[0;34m\u001b[0m\u001b[0m\n\u001b[0;32m--> 327\u001b[0;31m                     \u001b[0mdisable_tqdm\u001b[0m\u001b[0;34m=\u001b[0m\u001b[0;32mTrue\u001b[0m\u001b[0;34m\u001b[0m\u001b[0;34m\u001b[0m\u001b[0m\n\u001b[0m\u001b[1;32m    328\u001b[0m                 )\n\u001b[1;32m    329\u001b[0m                 \u001b[0mnum_infected\u001b[0m \u001b[0;34m=\u001b[0m \u001b[0;34m(\u001b[0m\u001b[0mself\u001b[0m\u001b[0;34m.\u001b[0m\u001b[0minfection_state\u001b[0m \u001b[0;34m==\u001b[0m \u001b[0;36m1\u001b[0m\u001b[0;34m)\u001b[0m\u001b[0;34m.\u001b[0m\u001b[0msum\u001b[0m\u001b[0;34m(\u001b[0m\u001b[0;34m)\u001b[0m\u001b[0;34m\u001b[0m\u001b[0;34m\u001b[0m\u001b[0m\n",
      "\u001b[0;32m/mnt/c/Users/matth/pton-research/recsys/t-recs/trecs/models/recommender.py\u001b[0m in \u001b[0;36mrun\u001b[0;34m(self, timesteps, startup, train_between_steps, random_items_per_iter, vary_random_items_per_iter, repeated_items, no_new_items, disable_tqdm)\u001b[0m\n\u001b[1;32m    538\u001b[0m             \u001b[0;31m# train between steps:\u001b[0m\u001b[0;34m\u001b[0m\u001b[0;34m\u001b[0m\u001b[0;34m\u001b[0m\u001b[0m\n\u001b[1;32m    539\u001b[0m             \u001b[0;32mif\u001b[0m \u001b[0mtrain_between_steps\u001b[0m\u001b[0;34m:\u001b[0m\u001b[0;34m\u001b[0m\u001b[0;34m\u001b[0m\u001b[0m\n\u001b[0;32m--> 540\u001b[0;31m                 \u001b[0mself\u001b[0m\u001b[0;34m.\u001b[0m\u001b[0mtrain\u001b[0m\u001b[0;34m(\u001b[0m\u001b[0;34m)\u001b[0m\u001b[0;34m\u001b[0m\u001b[0;34m\u001b[0m\u001b[0m\n\u001b[0m\u001b[1;32m    541\u001b[0m             \u001b[0mself\u001b[0m\u001b[0;34m.\u001b[0m\u001b[0mmeasure_content\u001b[0m\u001b[0;34m(\u001b[0m\u001b[0minteractions\u001b[0m\u001b[0;34m,\u001b[0m \u001b[0mitem_idxs\u001b[0m\u001b[0;34m,\u001b[0m \u001b[0mstep\u001b[0m\u001b[0;34m=\u001b[0m\u001b[0mtimestep\u001b[0m\u001b[0;34m)\u001b[0m\u001b[0;34m\u001b[0m\u001b[0;34m\u001b[0m\u001b[0m\n\u001b[1;32m    542\u001b[0m \u001b[0;34m\u001b[0m\u001b[0m\n",
      "\u001b[0;32m/mnt/c/Users/matth/pton-research/recsys/t-recs/trecs/models/recommender.py\u001b[0m in \u001b[0;36mtrain\u001b[0;34m(self)\u001b[0m\n\u001b[1;32m    269\u001b[0m             \u001b[0mpredicted_scores\u001b[0m\u001b[0;34m:\u001b[0m \u001b[0;34m:\u001b[0m\u001b[0;32mclass\u001b[0m\u001b[0;34m:\u001b[0m\u001b[0;31m`\u001b[0m\u001b[0;34m~\u001b[0m\u001b[0mcomponents\u001b[0m\u001b[0;34m.\u001b[0m\u001b[0musers\u001b[0m\u001b[0;34m.\u001b[0m\u001b[0mPredictedScores\u001b[0m\u001b[0;31m`\u001b[0m\u001b[0;34m\u001b[0m\u001b[0;34m\u001b[0m\u001b[0m\n\u001b[1;32m    270\u001b[0m         \"\"\"\n\u001b[0;32m--> 271\u001b[0;31m         \u001b[0mpredicted_scores\u001b[0m \u001b[0;34m=\u001b[0m \u001b[0mself\u001b[0m\u001b[0;34m.\u001b[0m\u001b[0mscore_fn\u001b[0m\u001b[0;34m(\u001b[0m\u001b[0mself\u001b[0m\u001b[0;34m.\u001b[0m\u001b[0musers_hat\u001b[0m\u001b[0;34m,\u001b[0m \u001b[0mself\u001b[0m\u001b[0;34m.\u001b[0m\u001b[0mitems_hat\u001b[0m\u001b[0;34m)\u001b[0m\u001b[0;34m\u001b[0m\u001b[0;34m\u001b[0m\u001b[0m\n\u001b[0m\u001b[1;32m    272\u001b[0m         \u001b[0;32mif\u001b[0m \u001b[0mself\u001b[0m\u001b[0;34m.\u001b[0m\u001b[0mis_verbose\u001b[0m\u001b[0;34m(\u001b[0m\u001b[0;34m)\u001b[0m\u001b[0;34m:\u001b[0m\u001b[0;34m\u001b[0m\u001b[0;34m\u001b[0m\u001b[0m\n\u001b[1;32m    273\u001b[0m             self.log(\n",
      "\u001b[0;32m/mnt/c/Users/matth/pton-research/recsys/t-recs/trecs/models/bass.py\u001b[0m in \u001b[0;36minfection_probabilities\u001b[0;34m(self, user_profiles, item_attributes)\u001b[0m\n\u001b[1;32m    289\u001b[0m         \u001b[0minfection_state\u001b[0m \u001b[0;34m=\u001b[0m \u001b[0mnp\u001b[0m\u001b[0;34m.\u001b[0m\u001b[0mcopy\u001b[0m\u001b[0;34m(\u001b[0m\u001b[0mself\u001b[0m\u001b[0;34m.\u001b[0m\u001b[0minfection_state\u001b[0m\u001b[0;34m)\u001b[0m\u001b[0;34m\u001b[0m\u001b[0;34m\u001b[0m\u001b[0m\n\u001b[1;32m    290\u001b[0m         \u001b[0minfection_state\u001b[0m\u001b[0;34m[\u001b[0m\u001b[0mnp\u001b[0m\u001b[0;34m.\u001b[0m\u001b[0mwhere\u001b[0m\u001b[0;34m(\u001b[0m\u001b[0minfection_state\u001b[0m \u001b[0;34m==\u001b[0m \u001b[0;34m-\u001b[0m\u001b[0;36m1\u001b[0m\u001b[0;34m)\u001b[0m\u001b[0;34m]\u001b[0m \u001b[0;34m=\u001b[0m \u001b[0;36m0\u001b[0m \u001b[0;31m# make all recovered users 0 instead of -1\u001b[0m\u001b[0;34m\u001b[0m\u001b[0;34m\u001b[0m\u001b[0m\n\u001b[0;32m--> 291\u001b[0;31m         \u001b[0mdot_product\u001b[0m \u001b[0;34m=\u001b[0m \u001b[0muser_profiles\u001b[0m\u001b[0;34m.\u001b[0m\u001b[0mdot\u001b[0m\u001b[0;34m(\u001b[0m\u001b[0minfection_state\u001b[0m \u001b[0;34m*\u001b[0m \u001b[0mnp\u001b[0m\u001b[0;34m.\u001b[0m\u001b[0mlog\u001b[0m\u001b[0;34m(\u001b[0m\u001b[0;36m1\u001b[0m \u001b[0;34m-\u001b[0m \u001b[0mitem_attributes\u001b[0m\u001b[0;34m)\u001b[0m\u001b[0;34m)\u001b[0m\u001b[0;34m\u001b[0m\u001b[0;34m\u001b[0m\u001b[0m\n\u001b[0m\u001b[1;32m    292\u001b[0m         \u001b[0;31m# Probability of being infected at the current iteration\u001b[0m\u001b[0;34m\u001b[0m\u001b[0;34m\u001b[0m\u001b[0;34m\u001b[0m\u001b[0m\n\u001b[1;32m    293\u001b[0m         \u001b[0mpredicted_scores\u001b[0m \u001b[0;34m=\u001b[0m \u001b[0;36m1\u001b[0m \u001b[0;34m-\u001b[0m \u001b[0mnp\u001b[0m\u001b[0;34m.\u001b[0m\u001b[0mexp\u001b[0m\u001b[0;34m(\u001b[0m\u001b[0mdot_product\u001b[0m\u001b[0;34m)\u001b[0m\u001b[0;34m\u001b[0m\u001b[0;34m\u001b[0m\u001b[0m\n",
      "\u001b[0;31mKeyboardInterrupt\u001b[0m: "
     ]
    }
   ],
   "source": [
    "# test bass model\n",
    "num_users = 10000\n",
    "num_trials = 2500\n",
    "\n",
    "sizes = np.zeros(num_trials)\n",
    "viralitys = np.zeros(num_trials)\n",
    "\n",
    "\n",
    "for i in range(num_trials):\n",
    "    if i % 50 == 0:\n",
    "        print(f\"On trial {i} at time {datetime.datetime.now()}...\")\n",
    "    simulation = setup_experiment(num_users)\n",
    "    simulation.run()\n",
    "    size = popularity(simulation)\n",
    "    sizes[i] = size\n",
    "    try:\n",
    "        sv = simulation.get_structural_virality()\n",
    "        viralitys[i] = sv\n",
    "    except:\n",
    "        viralitys[i] = -1 # couldn't calculate virality\n"
   ]
  },
  {
   "cell_type": "code",
   "execution_count": null,
   "metadata": {},
   "outputs": [],
   "source": [
    "graph_popularity(sizes)"
   ]
  },
  {
   "cell_type": "code",
   "execution_count": null,
   "metadata": {},
   "outputs": [],
   "source": [
    "print(f\"Probability of a large cascade: {prob_large_cascade(sizes)}\")\n",
    "print(f\"Mean structural virality: {mean_virality(viralitys)}\")\n",
    "print(f\"Correlation between popularity and structural virality: {size_virality_corr(sizes, viralitys)}\")"
   ]
  },
  {
   "cell_type": "markdown",
   "metadata": {},
   "source": [
    "# Test with sparse matrices"
   ]
  },
  {
   "cell_type": "code",
   "execution_count": 8,
   "metadata": {},
   "outputs": [],
   "source": [
    "from scipy.sparse import csr_matrix, save_npz\n",
    "import pickle as pkl\n",
    "import os"
   ]
  },
  {
   "cell_type": "code",
   "execution_count": null,
   "metadata": {},
   "outputs": [],
   "source": [
    "num_nodes = 1000000\n",
    "\n",
    "print(f\"Started creating graph at time {datetime.datetime.now()}...\")\n",
    "G = scale_free_graph(num_nodes, alpha=2.3)\n",
    "print(f\"Finished creating graph at time {datetime.datetime.now()}...\")\n",
    "user_rep = nx.convert_matrix.to_scipy_sparse_matrix(G) # convert to scipy adjacency matrix\n",
    "# calculate required item infectiousness\n",
    "k = calc_avg_degree(G)\n",
    "beta = implied_beta(k, r)\n",
    "item_rep = np.array([[beta]]) # must be two dimensional\n",
    "\n",
    "# seed infection with 1 user\n",
    "infection_state = np.zeros(user_rep.shape[0]).reshape(-1, 1) # must be two dimensional array\n",
    "seed_user = np.random.choice(num_nodes, 1)\n",
    "infection_state[seed_user, 0] = 1\n",
    "\n",
    "# create model\n",
    "bass = BassModel(\n",
    "    user_representation=user_rep,\n",
    "    item_representation=item_rep,\n",
    "    infection_state=infection_state\n",
    ")\n",
    "print(f\"Finished creating model at time {datetime.datetime.now()}...\")"
   ]
  },
  {
   "cell_type": "code",
   "execution_count": 12,
   "metadata": {},
   "outputs": [
    {
     "name": "stdout",
     "output_type": "stream",
     "text": [
      "Finished creating graph 0 at time 2021-01-31 12:22:52.825646...\n"
     ]
    }
   ],
   "source": [
    "# try to create as many graphs as I can overnight\n",
    "num_nodes = 1000000\n",
    "for i in range(75):\n",
    "    param_dict = {}\n",
    "    os.mkdir(f\"graphs_1m/{i}\")\n",
    "    G = scale_free_graph(num_nodes, alpha=2.3)\n",
    "    print(f\"Finished creating graph {i} at time {datetime.datetime.now()}...\")\n",
    "    user_rep = nx.convert_matrix.to_scipy_sparse_matrix(G) # convert to scipy adjacency matrix\n",
    "    save_npz(f'graphs_1m/{i}/sparse_matrix.npz', user_rep)\n",
    "    param_dict[\"k\"] = calc_avg_degree(G)\n",
    "    param_dict[\"beta\"] = implied_beta(k, r)\n",
    "    param_dict[\"num_nodes\"] = num_nodes\n",
    "    f = open(f'graphs_1m/{i}/param.pkl', 'wb')\n",
    "    pkl.dump(param_dict, f, -1)\n",
    "    f.close()\n",
    "    break\n",
    "    "
   ]
  },
  {
   "cell_type": "code",
   "execution_count": null,
   "metadata": {},
   "outputs": [],
   "source": [
    "bass.run()\n",
    "size = popularity(bass)\n",
    "try:\n",
    "    sv = bass.get_structural_virality()\n",
    "except:\n",
    "    pass"
   ]
  },
  {
   "cell_type": "code",
   "execution_count": null,
   "metadata": {},
   "outputs": [],
   "source": [
    "print(size)\n",
    "print(sv)"
   ]
  }
 ],
 "metadata": {
  "kernelspec": {
   "display_name": "Python 3",
   "language": "python",
   "name": "python3"
  },
  "language_info": {
   "codemirror_mode": {
    "name": "ipython",
    "version": 3
   },
   "file_extension": ".py",
   "mimetype": "text/x-python",
   "name": "python",
   "nbconvert_exporter": "python",
   "pygments_lexer": "ipython3",
   "version": "3.7.9"
  }
 },
 "nbformat": 4,
 "nbformat_minor": 4
}
