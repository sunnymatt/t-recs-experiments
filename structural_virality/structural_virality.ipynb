{
 "cells": [
  {
   "cell_type": "markdown",
   "metadata": {},
   "source": [
    "# Structural virality replication\n",
    "Date: 1/27/2021\n",
    "\n",
    "Author: Matthew Sun"
   ]
  },
  {
   "cell_type": "code",
   "execution_count": 2,
   "metadata": {},
   "outputs": [],
   "source": [
    "import networkx as nx\n",
    "import numpy as np\n",
    "import matplotlib.pyplot as plt\n",
    "import pickle as pkl\n",
    "import datetime\n",
    "from collections import defaultdict\n",
    "\n",
    "import trecs\n",
    "from trecs.models import BassModel\n",
    "from trecs.random import SocialGraphGenerator\n",
    "\n",
    "# custom utilities\n",
    "from graph_utils import calc_avg_degree, implied_beta, scale_free_graph"
   ]
  },
  {
   "cell_type": "code",
   "execution_count": 3,
   "metadata": {},
   "outputs": [
    {
     "name": "stdout",
     "output_type": "stream",
     "text": [
      "Average degree (k): 33.174\n",
      "Implied infectiousness when r=0.5: 0.015072044372098631\n"
     ]
    }
   ],
   "source": [
    "G = scale_free_graph(1000, alpha=2.3)\n",
    "k = calc_avg_degree(G)\n",
    "print(f\"Average degree (k): {k}\")\n",
    "r = 0.5 # if r = 0.5, what is the beta implied?\n",
    "print(f\"Implied infectiousness when r={r}: {implied_beta(k,r)}\")"
   ]
  },
  {
   "cell_type": "code",
   "execution_count": 5,
   "metadata": {},
   "outputs": [
    {
     "data": {
      "text/plain": [
       "Text(0.5, 1.0, 'Frequency of out-degree for nodes in scale-free network')"
      ]
     },
     "execution_count": 5,
     "metadata": {},
     "output_type": "execute_result"
    },
    {
     "data": {
      "image/png": "[encoded data removed]",
      "text/plain": [
       "<Figure size 432x288 with 1 Axes>"
      ]
     },
     "metadata": {
      "needs_background": "light"
     },
     "output_type": "display_data"
    }
   ],
   "source": [
    "# plot degrees of nodes\n",
    "degrees = [deg for n, deg in G.out_degree()]\n",
    "plt.hist(degrees, bins=100)\n",
    "plt.title(\"Frequency of out-degree for nodes in scale-free network\")"
   ]
  },
  {
   "cell_type": "code",
   "execution_count": 7,
   "metadata": {},
   "outputs": [],
   "source": [
    "def setup_experiment(num_nodes, r=0.5, alpha=2.3):\n",
    "    G = scale_free_graph(num_nodes, alpha=alpha)\n",
    "    user_rep = nx.convert_matrix.to_numpy_array(G) # convert to numpy adjacency matrix\n",
    "    # calculate required item infectiousness\n",
    "    k = calc_avg_degree(G)\n",
    "    beta = implied_beta(k, r)\n",
    "    item_rep = np.array([[beta]]) # must be two dimensional\n",
    "    \n",
    "    # seed infection with 1 user\n",
    "    infection_state = np.zeros(user_rep.shape[0]).reshape(-1, 1) # must be two dimensional array\n",
    "    seed_user = np.random.choice(num_nodes, 1)\n",
    "    infection_state[seed_user, 0] = 1\n",
    "    \n",
    "    # create model\n",
    "    bass = BassModel(\n",
    "        user_representation=user_rep,\n",
    "        item_representation=item_rep,\n",
    "        infection_state=infection_state\n",
    "    )\n",
    "    return bass"
   ]
  },
  {
   "cell_type": "code",
   "execution_count": 8,
   "metadata": {},
   "outputs": [],
   "source": [
    "# calculate metrics of interest\n",
    "def popularity(simulation):\n",
    "    return (simulation.infection_state != 0).sum()\n",
    "\n",
    "def graph_popularity(sizes):\n",
    "    plt.hist(sizes, bins=100)\n",
    "    plt.title(\"Frequency of cascade sizes\")\n",
    "    plt.xlabel(\"Size\")\n",
    "    plt.ylabel(\"Frequency\")\n",
    "    \n",
    "def prob_large_cascade(sizes):\n",
    "    large_cascades = np.where(sizes > 100)[0]\n",
    "    return len(large_cascades) / len(sizes)\n",
    "\n",
    "def mean_virality(viralitys):\n",
    "    # Assume virality of -1 are invalid trials\n",
    "    # (i.e., the seed user was not able to infect)\n",
    "    # any other user\n",
    "    return viralitys[viralitys > -1].mean()\n",
    "\n",
    "def size_virality_corr(sizes, viralitys):\n",
    "    \"\"\" Calculate correlation between size of cascade\n",
    "        and structural virality of cascade. Only compute\n",
    "        correlation on trials where >1 node was infected\n",
    "        (and therefore structural virality is computable.)\n",
    "    \"\"\"\n",
    "    valid_sims = viralitys > -1 \n",
    "    stacked_obvs = np.vstack([sizes[valid_sims], viralitys[valid_sims]])\n",
    "    return np.corrcoef(stacked_obvs)[0, 1]"
   ]
  },
  {
   "cell_type": "markdown",
   "metadata": {},
   "source": [
    "# Run simulation with 10k users\n"
   ]
  },
  {
   "cell_type": "code",
   "execution_count": 6,
   "metadata": {},
   "outputs": [
    {
     "name": "stdout",
     "output_type": "stream",
     "text": [
      "Testing pair of parameters alpha=2.1, r=0.1 at time 2021-02-01 13:19:48.571946...\n",
      "\tOn trial 0 at time 2021-02-01 13:19:48.572622...\n"
     ]
    },
    {
     "ename": "NameError",
     "evalue": "name 'setup_experiment' is not defined",
     "output_type": "error",
     "traceback": [
      "\u001b[0;31m---------------------------------------------------------------------------\u001b[0m",
      "\u001b[0;31mNameError\u001b[0m                                 Traceback (most recent call last)",
      "\u001b[0;32m<ipython-input-6-f53647b23edf>\u001b[0m in \u001b[0;36m<module>\u001b[0;34m()\u001b[0m\n\u001b[1;32m     28\u001b[0m             \u001b[0;32mif\u001b[0m \u001b[0mi\u001b[0m \u001b[0;34m%\u001b[0m \u001b[0;36m50\u001b[0m \u001b[0;34m==\u001b[0m \u001b[0;36m0\u001b[0m\u001b[0;34m:\u001b[0m\u001b[0;34m\u001b[0m\u001b[0;34m\u001b[0m\u001b[0m\n\u001b[1;32m     29\u001b[0m                 \u001b[0mprint\u001b[0m\u001b[0;34m(\u001b[0m\u001b[0;34mf\"\\tOn trial {i} at time {datetime.datetime.now()}...\"\u001b[0m\u001b[0;34m)\u001b[0m\u001b[0;34m\u001b[0m\u001b[0;34m\u001b[0m\u001b[0m\n\u001b[0;32m---> 30\u001b[0;31m             \u001b[0msimulation\u001b[0m \u001b[0;34m=\u001b[0m \u001b[0msetup_experiment\u001b[0m\u001b[0;34m(\u001b[0m\u001b[0mnum_users\u001b[0m\u001b[0;34m,\u001b[0m \u001b[0mr\u001b[0m\u001b[0;34m=\u001b[0m\u001b[0mr\u001b[0m\u001b[0;34m,\u001b[0m \u001b[0malpha\u001b[0m\u001b[0;34m=\u001b[0m\u001b[0malpha\u001b[0m\u001b[0;34m)\u001b[0m\u001b[0;34m\u001b[0m\u001b[0;34m\u001b[0m\u001b[0m\n\u001b[0m\u001b[1;32m     31\u001b[0m             \u001b[0msimulation\u001b[0m\u001b[0;34m.\u001b[0m\u001b[0mrun\u001b[0m\u001b[0;34m(\u001b[0m\u001b[0;34m)\u001b[0m\u001b[0;34m\u001b[0m\u001b[0;34m\u001b[0m\u001b[0m\n\u001b[1;32m     32\u001b[0m             \u001b[0msize\u001b[0m \u001b[0;34m=\u001b[0m \u001b[0mpopularity\u001b[0m\u001b[0;34m(\u001b[0m\u001b[0msimulation\u001b[0m\u001b[0;34m)\u001b[0m\u001b[0;34m\u001b[0m\u001b[0;34m\u001b[0m\u001b[0m\n",
      "\u001b[0;31mNameError\u001b[0m: name 'setup_experiment' is not defined"
     ]
    }
   ],
   "source": [
    "# test bass model\n",
    "num_users = 10000\n",
    "trials_per_setting = 50\n",
    "\n",
    "# varying alpha and R\n",
    "alphas = [2.1, 2.3, 2.5, 2.7, 2.9]\n",
    "rs = [0.1, 0.3, 0.5, 0.7, 0.9]\n",
    "\n",
    "# save result in a dictionary\n",
    "# that has (alpha-r) as the key\n",
    "# e.g.: \n",
    "#     {\n",
    "#         (2.1, 0.1): {\n",
    "#             \"size\" : np.array, # len: num_trials\n",
    "#             \"viralitys\" : np.array, # len: num_trials\n",
    "#         }\n",
    "#     }\n",
    "results = defaultdict(dict)\n",
    "\n",
    "for alpha in alphas:\n",
    "    for r in rs:\n",
    "        print(f\"Testing pair of parameters alpha={alpha}, r={r} at time {datetime.datetime.now()}...\")\n",
    "        \n",
    "        size_arr = np.zeros(trials_per_setting)\n",
    "        vir_arr = np.zeros(trials_per_setting)\n",
    "        \n",
    "        for i in range(trials_per_setting):\n",
    "            if i % 50 == 0:\n",
    "                print(f\"\\tOn trial {i} at time {datetime.datetime.now()}...\")\n",
    "            simulation = setup_experiment(num_users, r=r, alpha=alpha)\n",
    "            simulation.run()\n",
    "            size = popularity(simulation)\n",
    "            size_arr[i] = size\n",
    "            try:\n",
    "                sv = simulation.get_structural_virality()\n",
    "                vir_arr[i] = sv\n",
    "            except:\n",
    "                vir_arr[i] = -1 # couldn't calculate virality\n",
    "        \n",
    "        results[(alpha, r)][\"size\"] = size_arr\n",
    "        results[(alpha, r)][\"virality\"] = vir_arr\n",
    "        print(\"\")"
   ]
  },
  {
   "cell_type": "code",
   "execution_count": null,
   "metadata": {},
   "outputs": [],
   "source": [
    "# save results\n",
    "f = open(\"10k_bass_results.pkl\", \"wb\")\n",
    "pkl.dump(results, f, -1)\n",
    "f.close()"
   ]
  },
  {
   "cell_type": "code",
   "execution_count": null,
   "metadata": {},
   "outputs": [],
   "source": [
    "# graphing\n",
    "colors=['red', 'orange', 'green', 'blue', 'purple']"
   ]
  },
  {
   "cell_type": "code",
   "execution_count": null,
   "metadata": {},
   "outputs": [],
   "source": [
    "popularity_chance = {} # map from alpha to list, where each element corresponds to one R value\n",
    "for i, alpha in enumerate(alphas):\n",
    "    popularity_chance[alpha] = [prob_large_cascade(results[(alpha, r)][\"size\"]) for r in rs]\n",
    "    plt.plot(rs, popularity_chance[alpha], label=f\"alpha={alpha}\", color=colors[i])\n",
    "leg = plt.legend()\n",
    "rainbow_legend(leg)\n",
    "plt.xlabel(\"r\")\n",
    "plt.ylabel(\"Probability of popularity\")"
   ]
  },
  {
   "cell_type": "code",
   "execution_count": null,
   "metadata": {},
   "outputs": [],
   "source": [
    "avg_virality = {} # map from alpha to list, where each element corresponds to one R value\n",
    "for i, alpha in enumerate(alphas):\n",
    "    avg_virality[alpha] = [mean_virality(results[(alpha, r)][\"virality\"]) for r in rs]\n",
    "    plt.plot(rs, avg_virality[alpha], label=f\"alpha={alpha}\", color=colors[i])\n",
    "plt.legend()\n",
    "plt.xlabel(\"r\")\n",
    "plt.ylabel(\"Mean structural virality\")"
   ]
  },
  {
   "cell_type": "code",
   "execution_count": null,
   "metadata": {},
   "outputs": [],
   "source": [
    "size_vir_corr = {} # map from alpha to list, where each element corresponds to one R value\n",
    "for i, alpha in enumerate(alphas):\n",
    "    size_vir_corr[alpha] = [size_virality_corr(results[(alpha, r)][\"size\"], results[(alpha, r)][\"virality\"]) for r in rs]\n",
    "    plt.plot(rs, size_vir_corr[alpha], label=f\"alpha={alpha}\",color=colors[i])\n",
    "plt.legend()\n",
    "plt.xlabel(\"r\")\n",
    "plt.ylabel(\"Correlation between size and structural virality\")"
   ]
  },
  {
   "cell_type": "code",
   "execution_count": null,
   "metadata": {},
   "outputs": [],
   "source": [
    "graph_popularity(sizes)"
   ]
  },
  {
   "cell_type": "code",
   "execution_count": null,
   "metadata": {},
   "outputs": [],
   "source": [
    "print(f\"Probability of a large cascade: {prob_large_cascade(sizes)}\")\n",
    "print(f\"Mean structural virality: {mean_virality(viralitys)}\")\n",
    "print(f\"Correlation between popularity and structural virality: {size_virality_corr(sizes, viralitys)}\")"
   ]
  },
  {
   "cell_type": "markdown",
   "metadata": {},
   "source": [
    "# Test with sparse matrices"
   ]
  },
  {
   "cell_type": "code",
   "execution_count": null,
   "metadata": {},
   "outputs": [],
   "source": [
    "from scipy.sparse import csr_matrix, save_npz\n",
    "import pickle as pkl\n",
    "import os"
   ]
  },
  {
   "cell_type": "code",
   "execution_count": null,
   "metadata": {},
   "outputs": [],
   "source": [
    "num_nodes = 1000000\n",
    "\n",
    "print(f\"Started creating graph at time {datetime.datetime.now()}...\")\n",
    "G = scale_free_graph(num_nodes, alpha=2.3)\n",
    "print(f\"Finished creating graph at time {datetime.datetime.now()}...\")\n",
    "user_rep = nx.convert_matrix.to_scipy_sparse_matrix(G) # convert to scipy adjacency matrix\n",
    "# calculate required item infectiousness\n",
    "k = calc_avg_degree(G)\n",
    "beta = implied_beta(k, r)\n",
    "item_rep = np.array([[beta]]) # must be two dimensional\n",
    "\n",
    "# seed infection with 1 user\n",
    "infection_state = np.zeros(user_rep.shape[0]).reshape(-1, 1) # must be two dimensional array\n",
    "seed_user = np.random.choice(num_nodes, 1)\n",
    "infection_state[seed_user, 0] = 1\n",
    "\n",
    "# create model\n",
    "bass = BassModel(\n",
    "    user_representation=user_rep,\n",
    "    item_representation=item_rep,\n",
    "    infection_state=infection_state\n",
    ")\n",
    "print(f\"Finished creating model at time {datetime.datetime.now()}...\")"
   ]
  },
  {
   "cell_type": "code",
   "execution_count": null,
   "metadata": {},
   "outputs": [],
   "source": [
    "# try to create as many graphs as I can overnight\n",
    "num_nodes = 1000000\n",
    "for i in range(75):\n",
    "    param_dict = {}\n",
    "    os.mkdir(f\"graphs_1m/{i}\")\n",
    "    G = scale_free_graph(num_nodes, alpha=2.3)\n",
    "    print(f\"Finished creating graph {i} at time {datetime.datetime.now()}...\")\n",
    "    user_rep = nx.convert_matrix.to_scipy_sparse_matrix(G) # convert to scipy adjacency matrix\n",
    "    save_npz(f'graphs_1m/{i}/sparse_matrix.npz', user_rep)\n",
    "    param_dict[\"k\"] = calc_avg_degree(G)\n",
    "    param_dict[\"beta\"] = implied_beta(k, r)\n",
    "    param_dict[\"num_nodes\"] = num_nodes\n",
    "    f = open(f'graphs_1m/{i}/param.pkl', 'wb')\n",
    "    pkl.dump(param_dict, f, -1)\n",
    "    f.close()\n",
    "    break\n",
    "    "
   ]
  },
  {
   "cell_type": "code",
   "execution_count": null,
   "metadata": {},
   "outputs": [],
   "source": [
    "bass.run()\n",
    "size = popularity(bass)\n",
    "try:\n",
    "    sv = bass.get_structural_virality()\n",
    "except:\n",
    "    pass"
   ]
  },
  {
   "cell_type": "code",
   "execution_count": null,
   "metadata": {},
   "outputs": [],
   "source": [
    "print(size)\n",
    "print(sv)"
   ]
  }
 ],
 "metadata": {
  "kernelspec": {
   "display_name": "Python 3",
   "language": "python",
   "name": "python3"
  },
  "language_info": {
   "codemirror_mode": {
    "name": "ipython",
    "version": 3
   },
   "file_extension": ".py",
   "mimetype": "text/x-python",
   "name": "python",
   "nbconvert_exporter": "python",
   "pygments_lexer": "ipython3",
   "version": "3.7.9"
  }
 },
 "nbformat": 4,
 "nbformat_minor": 4
}
