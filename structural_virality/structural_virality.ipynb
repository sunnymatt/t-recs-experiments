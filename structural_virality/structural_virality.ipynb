{
 "cells": [
  {
   "cell_type": "markdown",
   "metadata": {},
   "source": [
    "# Structural virality replication\n",
    "Date: 1/27/2021\n",
    "\n",
    "Author: Matthew Sun"
   ]
  },
  {
   "cell_type": "code",
   "execution_count": 1,
   "metadata": {},
   "outputs": [],
   "source": [
    "import networkx as nx\n",
    "import numpy as np\n",
    "import matplotlib.pyplot as plt\n",
    "import pickle as pkl\n",
    "import os\n",
    "import datetime\n",
    "from collections import defaultdict\n",
    "\n",
    "import trecs\n",
    "from trecs.models import BassModel\n",
    "from trecs.random import SocialGraphGenerator\n",
    "\n",
    "# custom utilities\n",
    "from graph_utils import (\n",
    "    calc_avg_degree, \n",
    "    implied_beta, \n",
    "    scale_free_graph, \n",
    "    setup_experiment,\n",
    "    popularity,\n",
    "    prob_large_cascade,\n",
    "    mean_virality,\n",
    "    std_virality,\n",
    "    sem_virality,\n",
    "    size_virality_corr,\n",
    "    pearsonr_ci\n",
    ")\n",
    "\n",
    "from create_graphs import (\n",
    "    destringify_r,\n",
    "    destringify_alpha\n",
    ")"
   ]
  },
  {
   "cell_type": "markdown",
   "metadata": {},
   "source": [
    "# Helper methods\n",
    "These methods aid in graphing and loading results from output directories."
   ]
  },
  {
   "cell_type": "code",
   "execution_count": 7,
   "metadata": {},
   "outputs": [],
   "source": [
    "def extract_alpha_rs(results_dict):\n",
    "    \"\"\" Result the alpha and rs for the results dictionary.\n",
    "    \"\"\"\n",
    "    alpha_set = set()\n",
    "    r_set = set()\n",
    "    for alpha, r in results_dict.keys():\n",
    "        alpha_set.add(alpha)\n",
    "        r_set.add(r)\n",
    "    return sorted(list(alpha_set)), sorted(list(r_set))"
   ]
  },
  {
   "cell_type": "code",
   "execution_count": 9,
   "metadata": {},
   "outputs": [],
   "source": [
    "# graphing\n",
    "colors=['red', 'orange', 'green', 'blue', 'purple']"
   ]
  },
  {
   "cell_type": "code",
   "execution_count": 10,
   "metadata": {},
   "outputs": [],
   "source": [
    "def plot_popularity_chance(results, alphas, rs):\n",
    "    popularity_chance = {} # map from alpha to list, where each element corresponds to one R value\n",
    "    for i, alpha in enumerate(alphas):\n",
    "        popularity_chance[alpha] = [prob_large_cascade(results[(alpha, r)][\"size\"]) * 100 for r in rs]\n",
    "        plt.plot(rs, popularity_chance[alpha], label=f\"alpha={alpha}\", color=colors[i])\n",
    "    leg = plt.legend()\n",
    "    plt.xlabel(\"r\")\n",
    "    plt.ylabel(\"Probability of popularity (%)\")"
   ]
  },
  {
   "cell_type": "code",
   "execution_count": 17,
   "metadata": {},
   "outputs": [],
   "source": [
    "def plot_avg_virality(results, alphas, rs, pop_mask=False, sd_mult=0.0):\n",
    "    avg_virality = defaultdict(list) # map from alpha to list, where each element corresponds to one R value\n",
    "    sd_virality = defaultdict(list)\n",
    "    for i, alpha in enumerate(alphas):\n",
    "        for r in rs:\n",
    "            mask = results[(alpha, r)][\"size\"] >= 100 if pop_mask else None            \n",
    "            # restrict graph to popular cascades\n",
    "            avg_virality[alpha].append(mean_virality(results[(alpha, r)][\"virality\"], popular_mask=mask))\n",
    "            if sd_mult > 0:\n",
    "                sd_virality[alpha].append(sem_virality(results[(alpha, r)][\"virality\"], popular_mask=mask))\n",
    "        line = plt.plot(rs, avg_virality[alpha], label=f\"alpha={alpha}\", color=colors[i])\n",
    "        line_color = line[0].get_color()\n",
    "        if sd_mult > 0:\n",
    "            low = np.array(avg_virality[alpha]) - np.array(sd_virality[alpha])\n",
    "            high = np.array(avg_virality[alpha]) + np.array(sd_virality[alpha])\n",
    "            plt.fill_between(rs, low, high, color = line_color, alpha=0.3)\n",
    "    plt.legend()\n",
    "    plt.xlabel(\"r\")\n",
    "    plt.ylabel(\"Mean structural virality\")"
   ]
  },
  {
   "cell_type": "code",
   "execution_count": 14,
   "metadata": {},
   "outputs": [],
   "source": [
    "def plot_size_vir_corr(results, alphas, rs, only_popular=False, with_ci=True):\n",
    "    size_vir_corr = {} # map from alpha to list, where each element corresponds to one R value\n",
    "    for i, alpha in enumerate(alphas):\n",
    "        size_vir_corr[alpha] = []\n",
    "        # bounds on correlation\n",
    "        los = []\n",
    "        highs = []\n",
    "        for r in rs:\n",
    "            print(f\"alpha={alpha}, r={r}\")\n",
    "            corr = size_virality_corr(results[(alpha, r)][\"size\"], results[(alpha, r)][\"virality\"], only_popular=only_popular)\n",
    "            size_vir_corr[alpha].append(corr)\n",
    "            new_corr, _, lo, hi = pearsonr_ci(results[(alpha, r)][\"size\"], results[(alpha, r)][\"virality\"], only_popular=only_popular)\n",
    "            los.append(corr - lo)\n",
    "            highs.append(hi - corr)\n",
    "        if with_ci:\n",
    "            plt.errorbar(rs, size_vir_corr[alpha], yerr=np.vstack([los, highs]), label=f\"alpha={alpha}\",color=colors[i])\n",
    "        else:\n",
    "            plt.plot(rs, size_vir_corr[alpha], label=f\"alpha={alpha}\",color=colors[i])\n",
    "        print()\n",
    "    plt.legend()\n",
    "    plt.xlabel(\"r\")\n",
    "    plt.ylabel(\"Correlation between size and structural virality\")"
   ]
  },
  {
   "cell_type": "code",
   "execution_count": 16,
   "metadata": {},
   "outputs": [],
   "source": [
    "def plot_popularity_ccdf(results, alphas, rs, only_popular=True):\n",
    "    popularity_chance = {} # map from alpha to list, where each element corresponds to one R value\n",
    "    for i, alpha in enumerate(alphas):\n",
    "        for r in rs:\n",
    "            sizes = results[(alpha, r)][\"size\"]\n",
    "            if only_popular:\n",
    "                sizes = sizes[sizes >= 100]\n",
    "            plt.hist(sizes, bins=1000, density=True, histtype='step', cumulative=-1, label='Reversed emp.')\n",
    "    leg = plt.legend()\n",
    "    plt.xlabel(\"Cascade size\")\n",
    "    plt.ylabel(\"CCDF (%)\")"
   ]
  },
  {
   "cell_type": "markdown",
   "metadata": {},
   "source": [
    "### 1M node experiments"
   ]
  },
  {
   "cell_type": "code",
   "execution_count": 18,
   "metadata": {},
   "outputs": [],
   "source": [
    "exp_dirs = [\"graphs_1m_batch_sim\", \"graphs_1m_batch_100\", \"graphs_1m_batch_200k\", \"exps\"]\n",
    "\n",
    "agg_results = defaultdict(lambda: defaultdict(list)) # holds results for entire simulation\n",
    "virality_multiplier = 2 # 2/25/2021: the structural virality measure in t-recs is 1/2 what it should be \n",
    "\n",
    "# process experimental results for each graph and add to aggregate results\n",
    "for exp_dir in exp_dirs:\n",
    "    for (root,dirs,files) in os.walk(exp_dir, topdown=True): \n",
    "        for f in files:\n",
    "            if f == \"sim_result.pkl\":\n",
    "                folders = os.path.normpath(root).split(os.path.sep)\n",
    "                alpha, r = destringify_alpha(folders[-3]), destringify_r(folders[-2])\n",
    "                result = pkl.load(open(os.path.join(root, f), \"rb\"))\n",
    "                agg_results[(alpha, r)][\"size\"].append(result[\"size\"])\n",
    "                agg_results[(alpha, r)][\"virality\"].append(virality_multiplier * result[\"virality\"])\n",
    "            elif f == \"merged_results.pkl\":\n",
    "                result = pkl.load(open(os.path.join(root, f), \"rb\"))\n",
    "                for k in result.keys():\n",
    "                    agg_results[k][\"size\"].append(result[k][\"size\"])\n",
    "                    agg_results[k][\"virality\"].append(virality_multiplier * result[k][\"virality\"])\n",
    "            \n",
    "for alpha_r in agg_results.keys():\n",
    "    agg_results[alpha_r][\"size\"] = np.concatenate(agg_results[alpha_r][\"size\"])\n",
    "    agg_results[alpha_r][\"virality\"] = np.concatenate(agg_results[alpha_r][\"virality\"])"
   ]
  },
  {
   "cell_type": "code",
   "execution_count": 19,
   "metadata": {},
   "outputs": [],
   "source": [
    "alphas, rs = extract_alpha_rs(agg_results)"
   ]
  },
  {
   "cell_type": "code",
   "execution_count": null,
   "metadata": {},
   "outputs": [],
   "source": [
    "# for each level of alpha and r, what are the #s of trials we observe?\n",
    "# for alpha in alphas:\n",
    "#     for r in rs:\n",
    "#         total_trials = agg_results[(alpha, r)]['size'].shape[0]\n",
    "#         print(f\"Number of trials present for alpha={alpha}, r={r}: {total_trials}\")\n",
    "#         num_large = len(np.where(agg_results[(alpha, r)][\"size\"] > 100)[0])\n",
    "#         print(f\"Trials that resulted in large cascade: {num_large}\")\n",
    "#         print()"
   ]
  },
  {
   "cell_type": "code",
   "execution_count": 21,
   "metadata": {},
   "outputs": [
    {
     "data": {
      "image/png": "[encoded data removed]",
      "text/plain": [
       "<Figure size 432x288 with 1 Axes>"
      ]
     },
     "metadata": {
      "needs_background": "light"
     },
     "output_type": "display_data"
    }
   ],
   "source": [
    "plot_popularity_chance(agg_results, alphas, rs)"
   ]
  },
  {
   "cell_type": "code",
   "execution_count": 22,
   "metadata": {},
   "outputs": [],
   "source": [
    "plot_avg_virality(agg_results, alphas, rs, pop_mask=True)"
   ]
  },
  {
   "cell_type": "code",
   "execution_count": 67,
   "metadata": {},
   "outputs": [
    {
     "name": "stdout",
     "output_type": "stream",
     "text": [
      "Number of observations: 119\n"
     ]
    },
    {
     "data": {
      "text/plain": [
       "0.08558092125079826"
      ]
     },
     "execution_count": 67,
     "metadata": {},
     "output_type": "execute_result"
    }
   ],
   "source": [
    "# alpha = 2.3, r = 0.5 setting\n",
    "size_virality_corr(agg_results[(2.3, 0.5)][\"size\"], agg_results[(2.3, 0.5)][\"virality\"], only_popular=True, pop_threshold=100)"
   ]
  }
 ],
 "metadata": {
  "kernelspec": {
   "display_name": "Python 3",
   "language": "python",
   "name": "python3"
  },
  "language_info": {
   "codemirror_mode": {
    "name": "ipython",
    "version": 3
   },
   "file_extension": ".py",
   "mimetype": "text/x-python",
   "name": "python",
   "nbconvert_exporter": "python",
   "pygments_lexer": "ipython3",
   "version": "3.7.10"
  }
 },
 "nbformat": 4,
 "nbformat_minor": 4
}
