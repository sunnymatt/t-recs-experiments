{
 "cells": [
  {
   "cell_type": "markdown",
   "metadata": {},
   "source": [
    "# Structural virality replication\n",
    "Date: 1/27/2021\n",
    "\n",
    "Author: Matthew Sun"
   ]
  },
  {
   "cell_type": "code",
   "execution_count": 2,
   "metadata": {},
   "outputs": [],
   "source": [
    "import networkx as nx\n",
    "import numpy as np\n",
    "import matplotlib.pyplot as plt\n",
    "import pickle as pkl\n",
    "import datetime\n",
    "from collections import defaultdict\n",
    "\n",
    "import trecs\n",
    "from trecs.models import BassModel\n",
    "from trecs.random import SocialGraphGenerator\n",
    "\n",
    "# custom utilities\n",
    "from graph_utils import calc_avg_degree, implied_beta, scale_free_graph"
   ]
  },
  {
   "cell_type": "code",
   "execution_count": 3,
   "metadata": {},
   "outputs": [
    {
     "name": "stdout",
     "output_type": "stream",
     "text": [
      "Average degree (k): 33.174\n",
      "Implied infectiousness when r=0.5: 0.015072044372098631\n"
     ]
    }
   ],
   "source": [
    "G = scale_free_graph(1000, alpha=2.3)\n",
    "k = calc_avg_degree(G)\n",
    "print(f\"Average degree (k): {k}\")\n",
    "r = 0.5 # if r = 0.5, what is the beta implied?\n",
    "print(f\"Implied infectiousness when r={r}: {implied_beta(k,r)}\")"
   ]
  },
  {
   "cell_type": "code",
   "execution_count": 5,
   "metadata": {},
   "outputs": [
    {
     "data": {
      "text/plain": [
       "Text(0.5, 1.0, 'Frequency of out-degree for nodes in scale-free network')"
      ]
     },
     "execution_count": 5,
     "metadata": {},
     "output_type": "execute_result"
    },
    {
     "data": {
      "image/png": "[encoded data removed]",
      "text/plain": [
       "<Figure size 432x288 with 1 Axes>"
      ]
     },
     "metadata": {
      "needs_background": "light"
     },
     "output_type": "display_data"
    }
   ],
   "source": [
    "# plot degrees of nodes\n",
    "degrees = [deg for n, deg in G.out_degree()]\n",
    "plt.hist(degrees, bins=100)\n",
    "plt.title(\"Frequency of out-degree for nodes in scale-free network\")"
   ]
  },
  {
   "cell_type": "code",
   "execution_count": 7,
   "metadata": {},
   "outputs": [],
   "source": [
    "def setup_experiment(num_nodes, r=0.5, alpha=2.3):\n",
    "    G = scale_free_graph(num_nodes, alpha=alpha)\n",
    "    user_rep = nx.convert_matrix.to_numpy_array(G) # convert to numpy adjacency matrix\n",
    "    # calculate required item infectiousness\n",
    "    k = calc_avg_degree(G)\n",
    "    beta = implied_beta(k, r)\n",
    "    item_rep = np.array([[beta]]) # must be two dimensional\n",
    "    \n",
    "    # seed infection with 1 user\n",
    "    infection_state = np.zeros(user_rep.shape[0]).reshape(-1, 1) # must be two dimensional array\n",
    "    seed_user = np.random.choice(num_nodes, 1)\n",
    "    infection_state[seed_user, 0] = 1\n",
    "    \n",
    "    # create model\n",
    "    bass = BassModel(\n",
    "        user_representation=user_rep,\n",
    "        item_representation=item_rep,\n",
    "        infection_state=infection_state\n",
    "    )\n",
    "    return bass"
   ]
  },
  {
   "cell_type": "code",
   "execution_count": 35,
   "metadata": {},
   "outputs": [],
   "source": [
    "# calculate metrics of interest\n",
    "def popularity(simulation):\n",
    "    return (simulation.infection_state != 0).sum()\n",
    "\n",
    "def graph_popularity(sizes):\n",
    "    plt.hist(sizes, bins=100)\n",
    "    plt.title(\"Frequency of cascade sizes\")\n",
    "    plt.xlabel(\"Size\")\n",
    "    plt.ylabel(\"Frequency\")\n",
    "    \n",
    "def prob_large_cascade(sizes, pop_threshold=100):\n",
    "    large_cascades = np.where(sizes > pop_threshold)[0]\n",
    "    return len(large_cascades) / len(sizes)\n",
    "\n",
    "def mean_virality(viralitys):\n",
    "    # Assume virality of -1 are invalid trials\n",
    "    # (i.e., the seed user was not able to infect)\n",
    "    # any other user\n",
    "    return viralitys[viralitys > -1].mean()\n",
    "\n",
    "def size_virality_corr(sizes, viralitys):\n",
    "    \"\"\" Calculate correlation between size of cascade\n",
    "        and structural virality of cascade. Only compute\n",
    "        correlation on trials where >1 node was infected\n",
    "        (and therefore structural virality is computable.)\n",
    "    \"\"\"\n",
    "    valid_sims = viralitys > -1 \n",
    "    stacked_obvs = np.vstack([sizes[valid_sims], viralitys[valid_sims]])\n",
    "    return np.corrcoef(stacked_obvs)[0, 1]"
   ]
  },
  {
   "cell_type": "markdown",
   "metadata": {},
   "source": [
    "# Run simulation with 10k users\n"
   ]
  },
  {
   "cell_type": "code",
   "execution_count": 28,
   "metadata": {},
   "outputs": [
    {
     "name": "stdout",
     "output_type": "stream",
     "text": [
      "Testing pair of parameters alpha=2.1, r=0.1 at time 2021-02-01 14:49:17.119721...\n",
      "\tOn trial 0 at time 2021-02-01 14:49:17.120377...\n",
      "\tOn trial 50 at time 2021-02-01 14:52:34.896170...\n",
      "\tOn trial 100 at time 2021-02-01 14:56:00.007753...\n",
      "\tOn trial 150 at time 2021-02-01 14:59:16.759450...\n",
      "\tOn trial 200 at time 2021-02-01 15:02:33.867588...\n",
      "\tOn trial 250 at time 2021-02-01 15:06:02.060666...\n",
      "\tOn trial 300 at time 2021-02-01 15:09:30.142463...\n",
      "\tOn trial 350 at time 2021-02-01 15:13:00.966307...\n",
      "\tOn trial 400 at time 2021-02-01 15:16:29.062223...\n",
      "\tOn trial 450 at time 2021-02-01 15:19:52.390284...\n",
      "\n",
      "Testing pair of parameters alpha=2.1, r=0.3 at time 2021-02-01 15:23:12.884027...\n",
      "\tOn trial 0 at time 2021-02-01 15:23:12.884206...\n",
      "\tOn trial 50 at time 2021-02-01 15:26:32.348926...\n",
      "\tOn trial 100 at time 2021-02-01 15:29:51.214427...\n",
      "\tOn trial 150 at time 2021-02-01 15:33:31.665053...\n",
      "\tOn trial 200 at time 2021-02-01 15:37:06.175167...\n",
      "\tOn trial 250 at time 2021-02-01 15:40:34.426291...\n",
      "\tOn trial 300 at time 2021-02-01 15:43:57.611775...\n",
      "\tOn trial 350 at time 2021-02-01 15:47:14.070577...\n",
      "\tOn trial 400 at time 2021-02-01 15:50:37.762631...\n",
      "\tOn trial 450 at time 2021-02-01 15:53:58.562356...\n",
      "\n",
      "Testing pair of parameters alpha=2.1, r=0.5 at time 2021-02-01 15:57:18.821790...\n",
      "\tOn trial 0 at time 2021-02-01 15:57:18.821984...\n",
      "\tOn trial 50 at time 2021-02-01 16:00:59.945891...\n",
      "\tOn trial 100 at time 2021-02-01 16:05:27.065598...\n",
      "\tOn trial 150 at time 2021-02-01 16:09:55.459413...\n",
      "\tOn trial 200 at time 2021-02-01 16:14:22.307416...\n",
      "\tOn trial 250 at time 2021-02-01 16:18:50.951987...\n",
      "\tOn trial 300 at time 2021-02-01 16:23:18.948435...\n",
      "\tOn trial 350 at time 2021-02-01 16:27:45.078723...\n",
      "\tOn trial 400 at time 2021-02-01 16:32:15.896991...\n",
      "\tOn trial 450 at time 2021-02-01 16:36:45.338121...\n",
      "\n",
      "Testing pair of parameters alpha=2.1, r=0.7 at time 2021-02-01 16:41:15.620360...\n",
      "\tOn trial 0 at time 2021-02-01 16:41:15.620565...\n",
      "\tOn trial 50 at time 2021-02-01 16:45:47.920770...\n",
      "\tOn trial 100 at time 2021-02-01 16:50:14.488809...\n",
      "\tOn trial 150 at time 2021-02-01 16:53:37.106519...\n",
      "\tOn trial 200 at time 2021-02-01 16:56:59.025906...\n",
      "\tOn trial 250 at time 2021-02-01 17:00:24.698945...\n",
      "\tOn trial 300 at time 2021-02-01 17:03:45.699359...\n",
      "\tOn trial 350 at time 2021-02-01 17:07:06.017562...\n",
      "\tOn trial 400 at time 2021-02-01 17:10:25.838079...\n",
      "\tOn trial 450 at time 2021-02-01 17:13:41.073304...\n",
      "\n",
      "Testing pair of parameters alpha=2.1, r=0.9 at time 2021-02-01 17:16:57.263659...\n",
      "\tOn trial 0 at time 2021-02-01 17:16:57.263844...\n",
      "\tOn trial 50 at time 2021-02-01 17:20:13.425733...\n",
      "\tOn trial 100 at time 2021-02-01 17:23:27.190170...\n",
      "\tOn trial 150 at time 2021-02-01 17:26:44.275463...\n",
      "\tOn trial 200 at time 2021-02-01 17:29:59.230179...\n",
      "\tOn trial 250 at time 2021-02-01 17:33:14.517189...\n",
      "\tOn trial 300 at time 2021-02-01 17:36:29.714118...\n",
      "\tOn trial 350 at time 2021-02-01 17:39:44.825656...\n",
      "\tOn trial 400 at time 2021-02-01 17:42:59.902547...\n",
      "\tOn trial 450 at time 2021-02-01 17:46:16.918004...\n",
      "\n",
      "Testing pair of parameters alpha=2.3, r=0.1 at time 2021-02-01 17:49:35.032469...\n",
      "\tOn trial 0 at time 2021-02-01 17:49:35.032713...\n",
      "\tOn trial 50 at time 2021-02-01 17:52:38.476548...\n",
      "\tOn trial 100 at time 2021-02-01 17:55:37.445310...\n",
      "\tOn trial 150 at time 2021-02-01 17:58:35.104735...\n",
      "\tOn trial 200 at time 2021-02-01 18:01:33.133087...\n",
      "\tOn trial 250 at time 2021-02-01 18:04:30.012470...\n",
      "\tOn trial 300 at time 2021-02-01 18:07:27.715786...\n",
      "\tOn trial 350 at time 2021-02-01 18:10:24.830436...\n",
      "\tOn trial 400 at time 2021-02-01 18:13:23.331554...\n",
      "\tOn trial 450 at time 2021-02-01 18:16:21.028762...\n",
      "\n",
      "Testing pair of parameters alpha=2.3, r=0.3 at time 2021-02-01 18:19:18.133792...\n",
      "\tOn trial 0 at time 2021-02-01 18:19:18.133979...\n",
      "\tOn trial 50 at time 2021-02-01 18:22:14.885403...\n",
      "\tOn trial 100 at time 2021-02-01 18:25:12.274937...\n",
      "\tOn trial 150 at time 2021-02-01 18:28:08.337825...\n",
      "\tOn trial 200 at time 2021-02-01 18:31:05.905247...\n",
      "\tOn trial 250 at time 2021-02-01 18:34:02.692418...\n",
      "\tOn trial 300 at time 2021-02-01 18:37:00.255169...\n",
      "\tOn trial 350 at time 2021-02-01 18:39:57.310710...\n",
      "\tOn trial 400 at time 2021-02-01 18:42:54.636503...\n",
      "\tOn trial 450 at time 2021-02-01 18:45:51.600303...\n",
      "\n",
      "Testing pair of parameters alpha=2.3, r=0.5 at time 2021-02-01 18:48:48.303012...\n",
      "\tOn trial 0 at time 2021-02-01 18:48:48.303265...\n",
      "\tOn trial 50 at time 2021-02-01 18:51:51.474853...\n",
      "\tOn trial 100 at time 2021-02-01 18:54:49.961560...\n",
      "\tOn trial 150 at time 2021-02-01 18:57:47.408409...\n",
      "\tOn trial 200 at time 2021-02-01 19:00:45.768970...\n",
      "\tOn trial 250 at time 2021-02-01 19:03:43.008759...\n",
      "\tOn trial 300 at time 2021-02-01 19:06:40.053244...\n",
      "\tOn trial 350 at time 2021-02-01 19:09:36.680964...\n",
      "\tOn trial 400 at time 2021-02-01 19:12:33.942154...\n",
      "\tOn trial 450 at time 2021-02-01 19:15:32.138478...\n",
      "\n",
      "Testing pair of parameters alpha=2.3, r=0.7 at time 2021-02-01 19:18:36.652338...\n",
      "\tOn trial 0 at time 2021-02-01 19:18:36.652390...\n",
      "\tOn trial 50 at time 2021-02-01 19:21:59.275489...\n",
      "\tOn trial 100 at time 2021-02-01 19:25:19.715867...\n",
      "\tOn trial 150 at time 2021-02-01 19:28:40.101743...\n",
      "\tOn trial 200 at time 2021-02-01 19:32:21.848607...\n",
      "\tOn trial 250 at time 2021-02-01 19:36:11.559321...\n",
      "\tOn trial 300 at time 2021-02-01 19:39:56.356599...\n",
      "\tOn trial 350 at time 2021-02-01 19:43:13.387564...\n",
      "\tOn trial 400 at time 2021-02-01 19:46:53.238132...\n",
      "\tOn trial 450 at time 2021-02-01 19:50:13.520993...\n",
      "\n",
      "Testing pair of parameters alpha=2.3, r=0.9 at time 2021-02-01 19:53:33.549415...\n",
      "\tOn trial 0 at time 2021-02-01 19:53:33.549599...\n",
      "\tOn trial 50 at time 2021-02-01 19:56:54.821140...\n",
      "\tOn trial 100 at time 2021-02-01 20:00:15.834331...\n",
      "\tOn trial 150 at time 2021-02-01 20:03:34.270452...\n",
      "\tOn trial 200 at time 2021-02-01 20:06:50.833612...\n",
      "\tOn trial 250 at time 2021-02-01 20:10:05.823761...\n",
      "\tOn trial 300 at time 2021-02-01 20:13:15.589612...\n",
      "\tOn trial 350 at time 2021-02-01 20:16:33.278177...\n",
      "\tOn trial 400 at time 2021-02-01 20:20:30.601616...\n",
      "\tOn trial 450 at time 2021-02-01 20:23:59.804272...\n",
      "\n",
      "Testing pair of parameters alpha=2.5, r=0.1 at time 2021-02-01 20:27:47.217150...\n",
      "\tOn trial 0 at time 2021-02-01 20:27:47.217373...\n",
      "\tOn trial 50 at time 2021-02-01 20:31:06.191763...\n",
      "\tOn trial 100 at time 2021-02-01 20:34:20.147701...\n",
      "\tOn trial 150 at time 2021-02-01 20:37:35.077079...\n",
      "\tOn trial 200 at time 2021-02-01 20:40:53.214894...\n",
      "\tOn trial 250 at time 2021-02-01 20:44:26.281643...\n",
      "\tOn trial 300 at time 2021-02-01 20:47:57.264527...\n",
      "\tOn trial 350 at time 2021-02-01 20:51:35.785031...\n",
      "\tOn trial 400 at time 2021-02-01 20:55:15.393474...\n",
      "\tOn trial 450 at time 2021-02-01 20:58:54.875150...\n",
      "\n",
      "Testing pair of parameters alpha=2.5, r=0.3 at time 2021-02-01 21:02:33.630491...\n",
      "\tOn trial 0 at time 2021-02-01 21:02:33.630699...\n",
      "\tOn trial 50 at time 2021-02-01 21:06:01.218017...\n",
      "\tOn trial 100 at time 2021-02-01 21:09:26.847981...\n",
      "\tOn trial 150 at time 2021-02-01 21:12:54.773887...\n",
      "\tOn trial 200 at time 2021-02-01 21:16:34.276526...\n",
      "\tOn trial 250 at time 2021-02-01 21:20:00.247764...\n",
      "\tOn trial 300 at time 2021-02-01 21:23:22.573677...\n",
      "\tOn trial 350 at time 2021-02-01 21:26:44.882822...\n",
      "\tOn trial 400 at time 2021-02-01 21:29:47.592201...\n",
      "\tOn trial 450 at time 2021-02-01 21:32:44.400157...\n",
      "\n",
      "Testing pair of parameters alpha=2.5, r=0.5 at time 2021-02-01 21:35:49.163003...\n",
      "\tOn trial 0 at time 2021-02-01 21:35:49.163060...\n",
      "\tOn trial 50 at time 2021-02-01 21:39:11.342829...\n",
      "\tOn trial 100 at time 2021-02-01 21:42:31.418142...\n",
      "\tOn trial 150 at time 2021-02-01 21:45:47.743610...\n",
      "\tOn trial 200 at time 2021-02-01 21:48:44.306686...\n",
      "\tOn trial 250 at time 2021-02-01 21:51:59.365378...\n",
      "\tOn trial 300 at time 2021-02-01 21:55:20.723303...\n",
      "\tOn trial 350 at time 2021-02-01 21:58:43.535388...\n",
      "\tOn trial 400 at time 2021-02-01 22:02:05.388548...\n",
      "\tOn trial 450 at time 2021-02-01 22:05:13.740417...\n",
      "\n",
      "Testing pair of parameters alpha=2.5, r=0.7 at time 2021-02-01 22:08:09.668304...\n",
      "\tOn trial 0 at time 2021-02-01 22:08:09.668496...\n",
      "\tOn trial 50 at time 2021-02-01 22:11:08.838847...\n",
      "\tOn trial 100 at time 2021-02-01 22:14:03.845149...\n",
      "\tOn trial 150 at time 2021-02-01 22:17:00.896012...\n",
      "\tOn trial 200 at time 2021-02-01 22:19:56.482798...\n",
      "\tOn trial 250 at time 2021-02-01 22:23:39.588950...\n",
      "\tOn trial 300 at time 2021-02-01 22:27:35.068432...\n",
      "\tOn trial 350 at time 2021-02-01 22:31:29.777100...\n",
      "\tOn trial 400 at time 2021-02-01 22:35:20.896609...\n",
      "\tOn trial 450 at time 2021-02-01 22:39:13.384370...\n",
      "\n",
      "Testing pair of parameters alpha=2.5, r=0.9 at time 2021-02-01 22:43:05.424481...\n",
      "\tOn trial 0 at time 2021-02-01 22:43:05.424674...\n",
      "\tOn trial 50 at time 2021-02-01 22:47:13.660680...\n",
      "\tOn trial 100 at time 2021-02-01 22:51:35.306779...\n",
      "\tOn trial 150 at time 2021-02-01 22:56:03.978323...\n",
      "\tOn trial 200 at time 2021-02-01 23:00:05.911635...\n",
      "\tOn trial 250 at time 2021-02-01 23:04:06.305127...\n",
      "\tOn trial 300 at time 2021-02-01 23:08:12.680041...\n",
      "\tOn trial 350 at time 2021-02-01 23:12:15.469074...\n",
      "\tOn trial 400 at time 2021-02-01 23:16:13.114225...\n",
      "\tOn trial 450 at time 2021-02-01 23:20:14.897844...\n",
      "\n",
      "Testing pair of parameters alpha=2.7, r=0.1 at time 2021-02-01 23:24:21.284129...\n",
      "\tOn trial 0 at time 2021-02-01 23:24:21.284330...\n",
      "\tOn trial 50 at time 2021-02-01 23:28:15.416364...\n",
      "\tOn trial 100 at time 2021-02-01 23:32:10.038192...\n",
      "\tOn trial 150 at time 2021-02-01 23:36:06.941279...\n",
      "\tOn trial 200 at time 2021-02-01 23:40:04.072020...\n",
      "\tOn trial 250 at time 2021-02-01 23:43:41.590030...\n",
      "\tOn trial 300 at time 2021-02-01 23:47:02.931531...\n",
      "\tOn trial 350 at time 2021-02-01 23:50:22.394713...\n",
      "\tOn trial 400 at time 2021-02-01 23:53:39.618754...\n",
      "\tOn trial 450 at time 2021-02-01 23:57:20.001174...\n",
      "\n",
      "Testing pair of parameters alpha=2.7, r=0.3 at time 2021-02-02 00:00:44.868688...\n",
      "\tOn trial 0 at time 2021-02-02 00:00:44.868884...\n",
      "\tOn trial 50 at time 2021-02-02 00:03:59.638751...\n",
      "\tOn trial 100 at time 2021-02-02 00:07:11.089690...\n",
      "\tOn trial 150 at time 2021-02-02 00:10:24.926759...\n",
      "\tOn trial 200 at time 2021-02-02 00:13:38.689575...\n",
      "\tOn trial 250 at time 2021-02-02 00:16:57.345331...\n",
      "\tOn trial 300 at time 2021-02-02 00:20:11.141632...\n",
      "\tOn trial 350 at time 2021-02-02 00:23:21.056739...\n",
      "\tOn trial 400 at time 2021-02-02 00:26:30.976492...\n",
      "\tOn trial 450 at time 2021-02-02 00:29:41.034717...\n",
      "\n",
      "Testing pair of parameters alpha=2.7, r=0.5 at time 2021-02-02 00:32:31.521088...\n",
      "\tOn trial 0 at time 2021-02-02 00:32:31.521286...\n",
      "\tOn trial 50 at time 2021-02-02 00:35:20.963313...\n",
      "\tOn trial 100 at time 2021-02-02 00:38:11.362150...\n",
      "\tOn trial 150 at time 2021-02-02 00:41:00.745264...\n",
      "\tOn trial 200 at time 2021-02-02 00:43:50.117012...\n",
      "\tOn trial 250 at time 2021-02-02 00:46:43.947337...\n",
      "\tOn trial 300 at time 2021-02-02 00:49:33.440266...\n",
      "\tOn trial 350 at time 2021-02-02 00:52:22.474140...\n",
      "\tOn trial 400 at time 2021-02-02 00:55:12.951941...\n",
      "\tOn trial 450 at time 2021-02-02 00:58:04.856287...\n",
      "\n",
      "Testing pair of parameters alpha=2.7, r=0.7 at time 2021-02-02 01:00:57.282242...\n",
      "\tOn trial 0 at time 2021-02-02 01:00:57.282435...\n",
      "\tOn trial 50 at time 2021-02-02 01:03:49.562697...\n",
      "\tOn trial 100 at time 2021-02-02 01:06:41.306418...\n",
      "\tOn trial 150 at time 2021-02-02 01:09:34.576760...\n",
      "\tOn trial 200 at time 2021-02-02 01:12:26.961485...\n",
      "\tOn trial 250 at time 2021-02-02 01:15:20.197584...\n",
      "\tOn trial 300 at time 2021-02-02 01:18:12.671123...\n",
      "\tOn trial 350 at time 2021-02-02 01:21:05.099135...\n",
      "\tOn trial 400 at time 2021-02-02 01:23:58.589992...\n",
      "\tOn trial 450 at time 2021-02-02 01:26:52.049044...\n",
      "\n",
      "Testing pair of parameters alpha=2.7, r=0.9 at time 2021-02-02 01:29:46.614124...\n",
      "\tOn trial 0 at time 2021-02-02 01:29:46.614305...\n",
      "\tOn trial 50 at time 2021-02-02 01:32:40.740849...\n",
      "\tOn trial 100 at time 2021-02-02 01:35:34.700245...\n",
      "\tOn trial 150 at time 2021-02-02 01:38:28.727342...\n",
      "\tOn trial 200 at time 2021-02-02 01:41:22.680367...\n",
      "\tOn trial 250 at time 2021-02-02 01:44:15.910248...\n",
      "\tOn trial 300 at time 2021-02-02 01:47:08.722194...\n",
      "\tOn trial 350 at time 2021-02-02 01:50:02.525179...\n",
      "\tOn trial 400 at time 2021-02-02 01:52:55.813584...\n",
      "\tOn trial 450 at time 2021-02-02 01:55:49.698797...\n",
      "\n",
      "Testing pair of parameters alpha=2.9, r=0.1 at time 2021-02-02 01:58:43.248440...\n",
      "\tOn trial 0 at time 2021-02-02 01:58:43.248651...\n",
      "\tOn trial 50 at time 2021-02-02 02:01:37.800959...\n",
      "\tOn trial 100 at time 2021-02-02 02:04:32.030490...\n",
      "\tOn trial 150 at time 2021-02-02 02:07:27.245180...\n",
      "\tOn trial 200 at time 2021-02-02 02:10:22.562301...\n",
      "\tOn trial 250 at time 2021-02-02 02:13:17.787512...\n",
      "\tOn trial 300 at time 2021-02-02 02:16:12.818700...\n",
      "\tOn trial 350 at time 2021-02-02 02:19:07.130032...\n",
      "\tOn trial 400 at time 2021-02-02 02:22:01.736584...\n",
      "\tOn trial 450 at time 2021-02-02 02:24:57.064265...\n",
      "\n",
      "Testing pair of parameters alpha=2.9, r=0.3 at time 2021-02-02 02:27:51.235342...\n",
      "\tOn trial 0 at time 2021-02-02 02:27:51.235528...\n",
      "\tOn trial 50 at time 2021-02-02 02:30:45.264389...\n",
      "\tOn trial 100 at time 2021-02-02 02:33:40.459087...\n",
      "\tOn trial 150 at time 2021-02-02 02:36:35.887273...\n",
      "\tOn trial 200 at time 2021-02-02 02:39:32.552095...\n",
      "\tOn trial 250 at time 2021-02-02 02:42:28.690112...\n",
      "\tOn trial 300 at time 2021-02-02 02:45:24.439758...\n",
      "\tOn trial 350 at time 2021-02-02 02:48:20.253653...\n",
      "\tOn trial 400 at time 2021-02-02 02:51:16.327414...\n",
      "\tOn trial 450 at time 2021-02-02 02:54:11.949319...\n",
      "\n",
      "Testing pair of parameters alpha=2.9, r=0.5 at time 2021-02-02 02:57:06.419773...\n",
      "\tOn trial 0 at time 2021-02-02 02:57:06.420006...\n",
      "\tOn trial 50 at time 2021-02-02 03:00:02.184028...\n",
      "\tOn trial 100 at time 2021-02-02 03:02:56.966600...\n",
      "\tOn trial 150 at time 2021-02-02 03:05:52.460936...\n",
      "\tOn trial 200 at time 2021-02-02 03:08:46.416723...\n",
      "\tOn trial 250 at time 2021-02-02 03:11:41.460748...\n",
      "\tOn trial 300 at time 2021-02-02 03:14:36.546206...\n",
      "\tOn trial 350 at time 2021-02-02 03:17:33.730821...\n",
      "\tOn trial 400 at time 2021-02-02 03:20:28.939659...\n",
      "\tOn trial 450 at time 2021-02-02 03:23:25.361082...\n",
      "\n",
      "Testing pair of parameters alpha=2.9, r=0.7 at time 2021-02-02 03:26:20.564587...\n",
      "\tOn trial 0 at time 2021-02-02 03:26:20.564828...\n",
      "\tOn trial 50 at time 2021-02-02 03:29:16.244611...\n",
      "\tOn trial 100 at time 2021-02-02 03:32:11.316176...\n",
      "\tOn trial 150 at time 2021-02-02 03:35:06.585899...\n",
      "\tOn trial 200 at time 2021-02-02 03:38:02.355285...\n",
      "\tOn trial 250 at time 2021-02-02 03:40:57.511635...\n",
      "\tOn trial 300 at time 2021-02-02 03:43:52.287716...\n",
      "\tOn trial 350 at time 2021-02-02 03:46:47.241783...\n",
      "\tOn trial 400 at time 2021-02-02 03:49:42.815318...\n",
      "\tOn trial 450 at time 2021-02-02 03:52:46.161363...\n",
      "\n",
      "Testing pair of parameters alpha=2.9, r=0.9 at time 2021-02-02 03:55:42.856328...\n",
      "\tOn trial 0 at time 2021-02-02 03:55:42.856519...\n",
      "\tOn trial 50 at time 2021-02-02 03:58:38.921165...\n",
      "\tOn trial 100 at time 2021-02-02 04:01:35.674852...\n",
      "\tOn trial 150 at time 2021-02-02 04:04:31.310985...\n",
      "\tOn trial 200 at time 2021-02-02 04:07:26.570333...\n",
      "\tOn trial 250 at time 2021-02-02 04:10:26.652291...\n",
      "\tOn trial 300 at time 2021-02-02 04:13:27.495416...\n",
      "\tOn trial 350 at time 2021-02-02 04:16:23.629012...\n",
      "\tOn trial 400 at time 2021-02-02 04:19:18.298890...\n",
      "\tOn trial 450 at time 2021-02-02 04:22:14.044159...\n",
      "\n"
     ]
    }
   ],
   "source": [
    "# test bass model\n",
    "num_users = 10000\n",
    "trials_per_setting = 500\n",
    "\n",
    "# varying alpha and R\n",
    "alphas = [2.1, 2.3, 2.5, 2.7, 2.9]\n",
    "rs = [0.1, 0.3, 0.5, 0.7, 0.9]\n",
    "\n",
    "# save result in a dictionary\n",
    "# that has (alpha-r) as the key\n",
    "# e.g.: \n",
    "#     {\n",
    "#         (2.1, 0.1): {\n",
    "#             \"size\" : np.array, # len: num_trials\n",
    "#             \"viralitys\" : np.array, # len: num_trials\n",
    "#         }\n",
    "#     }\n",
    "results = defaultdict(dict)\n",
    "\n",
    "for alpha in alphas:\n",
    "    for r in rs:\n",
    "        print(f\"Testing pair of parameters alpha={alpha}, r={r} at time {datetime.datetime.now()}...\")\n",
    "        \n",
    "        size_arr = np.zeros(trials_per_setting)\n",
    "        vir_arr = np.zeros(trials_per_setting)\n",
    "        \n",
    "        for i in range(trials_per_setting):\n",
    "            if i % 50 == 0:\n",
    "                print(f\"\\tOn trial {i} at time {datetime.datetime.now()}...\")\n",
    "            simulation = setup_experiment(num_users, r=r, alpha=alpha)\n",
    "            simulation.run()\n",
    "            size = popularity(simulation)\n",
    "            size_arr[i] = size\n",
    "            try:\n",
    "                sv = simulation.get_structural_virality()\n",
    "                vir_arr[i] = sv\n",
    "            except:\n",
    "                vir_arr[i] = -1 # couldn't calculate virality\n",
    "        \n",
    "        results[(alpha, r)][\"size\"] = size_arr\n",
    "        results[(alpha, r)][\"virality\"] = vir_arr\n",
    "        print(\"\")"
   ]
  },
  {
   "cell_type": "code",
   "execution_count": 29,
   "metadata": {},
   "outputs": [],
   "source": [
    "# save results\n",
    "f = open(\"10k_bass_results_500trials.pkl\", \"wb\")\n",
    "pkl.dump(results, f, -1)\n",
    "f.close()"
   ]
  },
  {
   "cell_type": "code",
   "execution_count": 30,
   "metadata": {
    "jupyter": {
     "source_hidden": true
    }
   },
   "outputs": [],
   "source": [
    "# open results\n",
    "# results = pkl.load(open(\"10k_bass_results.pkl\", \"rb\"))"
   ]
  },
  {
   "cell_type": "code",
   "execution_count": 31,
   "metadata": {},
   "outputs": [],
   "source": [
    "# graphing\n",
    "colors=['red', 'orange', 'green', 'blue', 'purple']"
   ]
  },
  {
   "cell_type": "code",
   "execution_count": 39,
   "metadata": {},
   "outputs": [
    {
     "data": {
      "text/plain": [
       "Text(0, 0.5, 'Probability of popularity')"
      ]
     },
     "execution_count": 39,
     "metadata": {},
     "output_type": "execute_result"
    },
    {
     "data": {
      "image/png": "[encoded data removed]",
      "text/plain": [
       "<Figure size 432x288 with 1 Axes>"
      ]
     },
     "metadata": {
      "needs_background": "light"
     },
     "output_type": "display_data"
    }
   ],
   "source": [
    "popularity_chance = {} # map from alpha to list, where each element corresponds to one R value\n",
    "for i, alpha in enumerate(alphas):\n",
    "    popularity_chance[alpha] = [prob_large_cascade(results[(alpha, r)][\"size\"]) for r in rs]\n",
    "    plt.plot(rs, popularity_chance[alpha], label=f\"alpha={alpha}\", color=colors[i])\n",
    "leg = plt.legend()\n",
    "plt.xlabel(\"r\")\n",
    "plt.ylabel(\"Probability of popularity\")"
   ]
  },
  {
   "cell_type": "code",
   "execution_count": 33,
   "metadata": {},
   "outputs": [
    {
     "data": {
      "text/plain": [
       "Text(0, 0.5, 'Mean structural virality')"
      ]
     },
     "execution_count": 33,
     "metadata": {},
     "output_type": "execute_result"
    },
    {
     "data": {
      "image/png": "[encoded data removed]",
      "text/plain": [
       "<Figure size 432x288 with 1 Axes>"
      ]
     },
     "metadata": {
      "needs_background": "light"
     },
     "output_type": "display_data"
    }
   ],
   "source": [
    "avg_virality = {} # map from alpha to list, where each element corresponds to one R value\n",
    "for i, alpha in enumerate(alphas):\n",
    "    avg_virality[alpha] = [mean_virality(results[(alpha, r)][\"virality\"]) for r in rs]\n",
    "    plt.plot(rs, avg_virality[alpha], label=f\"alpha={alpha}\", color=colors[i])\n",
    "plt.legend()\n",
    "plt.xlabel(\"r\")\n",
    "plt.ylabel(\"Mean structural virality\")"
   ]
  },
  {
   "cell_type": "code",
   "execution_count": 34,
   "metadata": {},
   "outputs": [
    {
     "data": {
      "text/plain": [
       "Text(0, 0.5, 'Correlation between size and structural virality')"
      ]
     },
     "execution_count": 34,
     "metadata": {},
     "output_type": "execute_result"
    },
    {
     "data": {
      "image/png": "[encoded data removed]",
      "text/plain": [
       "<Figure size 432x288 with 1 Axes>"
      ]
     },
     "metadata": {
      "needs_background": "light"
     },
     "output_type": "display_data"
    }
   ],
   "source": [
    "size_vir_corr = {} # map from alpha to list, where each element corresponds to one R value\n",
    "for i, alpha in enumerate(alphas):\n",
    "    size_vir_corr[alpha] = [size_virality_corr(results[(alpha, r)][\"size\"], results[(alpha, r)][\"virality\"]) for r in rs]\n",
    "    plt.plot(rs, size_vir_corr[alpha], label=f\"alpha={alpha}\",color=colors[i])\n",
    "plt.legend()\n",
    "plt.xlabel(\"r\")\n",
    "plt.ylabel(\"Correlation between size and structural virality\")"
   ]
  },
  {
   "cell_type": "code",
   "execution_count": null,
   "metadata": {},
   "outputs": [],
   "source": [
    "graph_popularity(sizes)"
   ]
  },
  {
   "cell_type": "code",
   "execution_count": null,
   "metadata": {},
   "outputs": [],
   "source": [
    "print(f\"Probability of a large cascade: {prob_large_cascade(sizes)}\")\n",
    "print(f\"Mean structural virality: {mean_virality(viralitys)}\")\n",
    "print(f\"Correlation between popularity and structural virality: {size_virality_corr(sizes, viralitys)}\")"
   ]
  },
  {
   "cell_type": "markdown",
   "metadata": {},
   "source": [
    "# Test with sparse matrices"
   ]
  },
  {
   "cell_type": "code",
   "execution_count": null,
   "metadata": {},
   "outputs": [],
   "source": [
    "from scipy.sparse import csr_matrix, save_npz\n",
    "import pickle as pkl\n",
    "import os"
   ]
  },
  {
   "cell_type": "code",
   "execution_count": null,
   "metadata": {},
   "outputs": [],
   "source": [
    "num_nodes = 1000000\n",
    "\n",
    "print(f\"Started creating graph at time {datetime.datetime.now()}...\")\n",
    "G = scale_free_graph(num_nodes, alpha=2.3)\n",
    "print(f\"Finished creating graph at time {datetime.datetime.now()}...\")\n",
    "user_rep = nx.convert_matrix.to_scipy_sparse_matrix(G) # convert to scipy adjacency matrix\n",
    "# calculate required item infectiousness\n",
    "k = calc_avg_degree(G)\n",
    "beta = implied_beta(k, r)\n",
    "item_rep = np.array([[beta]]) # must be two dimensional\n",
    "\n",
    "# seed infection with 1 user\n",
    "infection_state = np.zeros(user_rep.shape[0]).reshape(-1, 1) # must be two dimensional array\n",
    "seed_user = np.random.choice(num_nodes, 1)\n",
    "infection_state[seed_user, 0] = 1\n",
    "\n",
    "# create model\n",
    "bass = BassModel(\n",
    "    user_representation=user_rep,\n",
    "    item_representation=item_rep,\n",
    "    infection_state=infection_state\n",
    ")\n",
    "print(f\"Finished creating model at time {datetime.datetime.now()}...\")"
   ]
  },
  {
   "cell_type": "code",
   "execution_count": null,
   "metadata": {},
   "outputs": [],
   "source": [
    "# try to create as many graphs as I can overnight\n",
    "num_nodes = 1000000\n",
    "for i in range(75):\n",
    "    param_dict = {}\n",
    "    os.mkdir(f\"graphs_1m/{i}\")\n",
    "    G = scale_free_graph(num_nodes, alpha=2.3)\n",
    "    print(f\"Finished creating graph {i} at time {datetime.datetime.now()}...\")\n",
    "    user_rep = nx.convert_matrix.to_scipy_sparse_matrix(G) # convert to scipy adjacency matrix\n",
    "    save_npz(f'graphs_1m/{i}/sparse_matrix.npz', user_rep)\n",
    "    param_dict[\"k\"] = calc_avg_degree(G)\n",
    "    param_dict[\"beta\"] = implied_beta(k, r)\n",
    "    param_dict[\"num_nodes\"] = num_nodes\n",
    "    f = open(f'graphs_1m/{i}/param.pkl', 'wb')\n",
    "    pkl.dump(param_dict, f, -1)\n",
    "    f.close()\n",
    "    break\n",
    "    "
   ]
  },
  {
   "cell_type": "code",
   "execution_count": null,
   "metadata": {},
   "outputs": [],
   "source": [
    "bass.run()\n",
    "size = popularity(bass)\n",
    "try:\n",
    "    sv = bass.get_structural_virality()\n",
    "except:\n",
    "    pass"
   ]
  },
  {
   "cell_type": "code",
   "execution_count": null,
   "metadata": {},
   "outputs": [],
   "source": [
    "print(size)\n",
    "print(sv)"
   ]
  }
 ],
 "metadata": {
  "kernelspec": {
   "display_name": "Python 3",
   "language": "python",
   "name": "python3"
  },
  "language_info": {
   "codemirror_mode": {
    "name": "ipython",
    "version": 3
   },
   "file_extension": ".py",
   "mimetype": "text/x-python",
   "name": "python",
   "nbconvert_exporter": "python",
   "pygments_lexer": "ipython3",
   "version": "3.7.9"
  }
 },
 "nbformat": 4,
 "nbformat_minor": 4
}
