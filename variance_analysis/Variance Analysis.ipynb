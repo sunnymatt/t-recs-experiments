{
 "cells": [
  {
   "cell_type": "markdown",
   "metadata": {},
   "source": [
    "## Variance analysis\n",
    "Matthew Sun, 11/18/2021\n",
    "\n",
    "This notebook investigates the outcomes that occur when there is significant variance between users, in attributes _and_ arrival times. We then examine variance in outcomes - namely, MSE. \n",
    "\n",
    "Todo:\n",
    "- Modify user attribute sampling strategy \n",
    "- Extend outcome metrics to look at other metrics (such utility, homogenization, a la Chaney)"
   ]
  },
  {
   "cell_type": "code",
   "execution_count": 2,
   "metadata": {},
   "outputs": [],
   "source": [
    "import trecs\n",
    "import numpy as np\n",
    "from scipy.spatial.distance import pdist\n",
    "from trecs.models import ContentFiltering, PopularityRecommender, ImplicitMF, SocialFiltering\n",
    "from trecs.components import Users, Items, Creators, ActualUserScores\n",
    "from trecs.metrics import InteractionSimilarity, Measurement, MSEMeasurement\n",
    "from trecs.random import Generator\n",
    "from collections import defaultdict\n",
    "import os\n",
    "import warnings\n",
    "warnings.simplefilter(\"ignore\")"
   ]
  },
  {
   "cell_type": "code",
   "execution_count": 3,
   "metadata": {},
   "outputs": [],
   "source": [
    "arg_dict = {\n",
    "    \"num_attrs\" : 10,\n",
    "    \"latent_factors\" : 5,\n",
    "    \"maj_size\" : 250, # 250 members of majority group\n",
    "    \"min_size\" : 50, # 50 members of minority group\n",
    "    \"num_users\" : 300,\n",
    "    \"num_items\" : 200,\n",
    "    \"num_sims\" : 10,\n",
    "    \"startup_iters\" : 50,\n",
    "    \"sim_iters\" : 100,\n",
    "    \"num_items_per_iter\" : 10,\n",
    "    \"random_items_per_iter\" : 3,\n",
    "    \"repeated_training\" : True, # observing the results when systems are repeatedly trained\n",
    "}\n",
    "rng = Generator(seed=1234)"
   ]
  },
  {
   "cell_type": "code",
   "execution_count": 8,
   "metadata": {},
   "outputs": [],
   "source": [
    "def sample_users_and_items(rng, num_maj_users, num_min_users, num_items, num_attrs, num_sims):\n",
    "    # hardcoded distributions for majority / minority group users\n",
    "    item_params = rng.dirichlet(np.ones(num_attrs) * 100, size=num_sims) * 0.1\n",
    "    \n",
    "    # each element in users is the users vector in one simulation\n",
    "    users, items = [], []\n",
    "    for sim_index in range(num_sims):\n",
    "        # generate user preferences and item attributes\n",
    "        maj_user_rep = rng.normal(1, 2, size=(num_maj_users, num_attrs))\n",
    "        min_user_rep = rng.normal(0.5, 1.25, size=(num_min_users, num_attrs))\n",
    "        actual_user_representation = np.vstack((maj_user_rep, min_user_rep))\n",
    "        # remember, item attributes are (num_attr x num_items) in dimension\n",
    "        item_attrs = rng.dirichlet(item_params[sim_index, :], size=num_items).T\n",
    "        \n",
    "        # add all synthetic data to list\n",
    "        users.append(actual_user_representation)\n",
    "        items.append(item_attrs)\n",
    "\n",
    "    return users, items\n",
    "\n",
    "def init_sim_state(arg_dict):\n",
    "    # simpler way to pass common arguments to simulations\n",
    "    init_params = {\n",
    "        \"num_items_per_iter\": arg_dict[\"num_items_per_iter\"],\n",
    "    }\n",
    "\n",
    "    run_params = {\n",
    "        \"random_items_per_iter\": arg_dict[\"random_items_per_iter\"],\n",
    "    }\n",
    "\n",
    "    return init_params, run_params\n",
    "\n",
    "def run_content_sim(item_attrs, user_attrs, args, rng):\n",
    "    init_params, run_params = init_sim_state(args)\n",
    "    content = ContentFiltering(\n",
    "        num_attributes=args[\"num_attrs\"],\n",
    "        actual_item_representation=item_attrs,\n",
    "        actual_user_representation=user_attrs)\n",
    "    metrics = [\n",
    "        MSEMeasurement(diagnostics=True)\n",
    "    ]\n",
    "    content.add_metrics(*metrics)\n",
    "    content.startup_and_train(timesteps=args[\"startup_iters\"]) # update user representations, but only serve random items\n",
    "    content.run(timesteps=args[\"sim_iters\"], train_between_steps=args[\"repeated_training\"], **run_params)\n",
    "    content.close() # end logging\n",
    "    return content\n",
    "\n",
    "def run_mf_sim(item_attrs, user_attrs, args, rng):\n",
    "    init_params, run_params = init_sim_state(args)\n",
    "    mf = ImplicitMF(\n",
    "        actual_item_representation=item_attrs,\n",
    "        actual_user_representation=user_attrs,\n",
    "        num_latent_factors=args[\"latent_factors\"],\n",
    "        **init_params\n",
    "    )\n",
    "    metrics = [\n",
    "        MSEMeasurement(diagnostics=True)\n",
    "    ]\n",
    "    mf.add_metrics(*metrics)\n",
    "    mf.startup_and_train(timesteps=args[\"startup_iters\"], no_new_items=False) # update user representations, but only serve random items\n",
    "    mf.run(timesteps=args[\"sim_iters\"], train_between_steps=args[\"repeated_training\"], reset_interactions=False, **run_params)\n",
    "    mf.close() # end logging\n",
    "    return mf\n",
    "\n",
    "def run_pop_sim(item_attrs, user_attrs, args, rng):\n",
    "    init_params, run_params = init_sim_state(args)\n",
    "    p = PopularityRecommender(\n",
    "        actual_item_representation=item_attrs,\n",
    "        actual_user_representation=user_attrs,\n",
    "        **init_params\n",
    "    )\n",
    "    metrics = [\n",
    "        MSEMeasurement(diagnostics=True)\n",
    "    ]\n",
    "    p.add_metrics(*metrics)\n",
    "    p.startup_and_train(timesteps=args[\"startup_iters\"])\n",
    "    p.run(timesteps=args[\"sim_iters\"], train_between_steps=args[\"repeated_training\"], **run_params)\n",
    "    p.close() # end logging\n",
    "    return p"
   ]
  },
  {
   "cell_type": "code",
   "execution_count": 5,
   "metadata": {},
   "outputs": [],
   "source": [
    "# print majority / minority outcome stats\n",
    "def majority_minority_outcomes(metric, split_index):\n",
    "    maj_mean = metric.last_observation[:split_index].mean()\n",
    "    maj_std = metric.last_observation[:split_index].std()\n",
    "\n",
    "    min_mean = metric.last_observation[split_index:].mean()\n",
    "    min_std = metric.last_observation[split_index:].std()\n",
    "\n",
    "    print(\"Majority group statistics: \", maj_mean, \"(mean), \", maj_std, \"(std)\")\n",
    "    print(\"Minority group statistics: \", min_mean, \"(mean), \", min_std, \"(std)\")\n",
    "    print()\n"
   ]
  },
  {
   "cell_type": "code",
   "execution_count": 6,
   "metadata": {},
   "outputs": [
    {
     "name": "stderr",
     "output_type": "stream",
     "text": [
      "100%|██████████| 50/50 [00:00<00:00, 207.53it/s]\n",
      "100%|██████████| 100/100 [00:02<00:00, 44.71it/s]\n",
      "100%|██████████| 50/50 [00:00<00:00, 173.50it/s]\n",
      "Numba is using threading layer omp - consider TBB\n",
      "BLAS using multiple threads - can cause oversubscription\n",
      "found 2 potential runtime problems - see https://boi.st/lkpy-perf\n",
      "100%|██████████| 100/100 [00:01<00:00, 50.67it/s]\n",
      "100%|██████████| 50/50 [00:00<00:00, 224.01it/s]\n",
      "100%|██████████| 100/100 [00:02<00:00, 49.58it/s]\n"
     ]
    },
    {
     "name": "stdout",
     "output_type": "stream",
     "text": [
      "-------------------------------------\n",
      "TRIAL 0\n",
      "Content filtering:\n",
      "Majority group statistics:  0.7900147880258338 (mean),  0.23339412425317374 (std)\n",
      "Minority group statistics:  0.843277501818771 (mean),  0.22019283054146258 (std)\n",
      "\n",
      "\n",
      "MF:\n",
      "Majority group statistics:  0.008373919387676848 (mean),  0.01117854803861663 (std)\n",
      "Minority group statistics:  0.0065899323533620815 (mean),  0.007525811745618825 (std)\n",
      "\n",
      "\n",
      "Popularity:\n",
      "Majority group statistics:  5605.012910606906 (mean),  12.50233381731303 (std)\n",
      "Minority group statistics:  5606.52799736373 (mean),  12.008710066620234 (std)\n",
      "\n"
     ]
    },
    {
     "name": "stderr",
     "output_type": "stream",
     "text": [
      "100%|██████████| 50/50 [00:00<00:00, 191.26it/s]\n",
      "100%|██████████| 100/100 [00:02<00:00, 45.20it/s]\n",
      "100%|██████████| 50/50 [00:00<00:00, 163.79it/s]\n",
      "100%|██████████| 100/100 [00:02<00:00, 49.90it/s]\n",
      "100%|██████████| 50/50 [00:00<00:00, 213.45it/s]\n",
      "100%|██████████| 100/100 [00:01<00:00, 53.09it/s]\n"
     ]
    },
    {
     "name": "stdout",
     "output_type": "stream",
     "text": [
      "-------------------------------------\n",
      "TRIAL 1\n",
      "Content filtering:\n",
      "Majority group statistics:  0.7862630343337955 (mean),  0.24053756977799115 (std)\n",
      "Minority group statistics:  0.8071193043792507 (mean),  0.2732070553920995 (std)\n",
      "\n",
      "\n",
      "MF:\n",
      "Majority group statistics:  0.009143718815290126 (mean),  0.01258750208913354 (std)\n",
      "Minority group statistics:  0.007308410520345365 (mean),  0.009862826805312936 (std)\n",
      "\n",
      "\n",
      "Popularity:\n",
      "Majority group statistics:  5604.6461093824655 (mean),  12.966189816114815 (std)\n",
      "Minority group statistics:  5607.643695723745 (mean),  11.960820906679547 (std)\n",
      "\n"
     ]
    },
    {
     "name": "stderr",
     "output_type": "stream",
     "text": [
      "100%|██████████| 50/50 [00:00<00:00, 195.02it/s]\n",
      "100%|██████████| 100/100 [00:02<00:00, 45.87it/s]\n",
      "100%|██████████| 50/50 [00:00<00:00, 166.55it/s]\n",
      "100%|██████████| 100/100 [00:02<00:00, 49.42it/s]\n",
      "100%|██████████| 50/50 [00:00<00:00, 205.60it/s]\n",
      "100%|██████████| 100/100 [00:01<00:00, 50.71it/s]\n"
     ]
    },
    {
     "name": "stdout",
     "output_type": "stream",
     "text": [
      "-------------------------------------\n",
      "TRIAL 2\n",
      "Content filtering:\n",
      "Majority group statistics:  0.8144026363988576 (mean),  0.26117418353095473 (std)\n",
      "Minority group statistics:  0.7595951962309779 (mean),  0.24927430894029193 (std)\n",
      "\n",
      "\n",
      "MF:\n",
      "Majority group statistics:  0.008519733083041837 (mean),  0.011320926515071954 (std)\n",
      "Minority group statistics:  0.006204205746219996 (mean),  0.006406831252619985 (std)\n",
      "\n",
      "\n",
      "Popularity:\n",
      "Majority group statistics:  5605.625590536637 (mean),  13.044184047843256 (std)\n",
      "Minority group statistics:  5607.251400545618 (mean),  10.917415377578287 (std)\n",
      "\n"
     ]
    },
    {
     "name": "stderr",
     "output_type": "stream",
     "text": [
      "100%|██████████| 50/50 [00:00<00:00, 187.32it/s]\n",
      "100%|██████████| 100/100 [00:02<00:00, 44.23it/s]\n",
      "100%|██████████| 50/50 [00:00<00:00, 175.83it/s]\n",
      "100%|██████████| 100/100 [00:01<00:00, 50.28it/s]\n",
      "100%|██████████| 50/50 [00:00<00:00, 198.77it/s]\n",
      "100%|██████████| 100/100 [00:01<00:00, 51.14it/s]\n"
     ]
    },
    {
     "name": "stdout",
     "output_type": "stream",
     "text": [
      "-------------------------------------\n",
      "TRIAL 3\n",
      "Content filtering:\n",
      "Majority group statistics:  0.7843489565403767 (mean),  0.2191847777846608 (std)\n",
      "Minority group statistics:  0.861572680648605 (mean),  0.2630793670722092 (std)\n",
      "\n",
      "\n",
      "MF:\n",
      "Majority group statistics:  0.007244766784201685 (mean),  0.008317909615721585 (std)\n",
      "Minority group statistics:  0.008249604886922248 (mean),  0.012669690070981314 (std)\n",
      "\n",
      "\n",
      "Popularity:\n",
      "Majority group statistics:  5603.686032956633 (mean),  11.476881522690343 (std)\n",
      "Minority group statistics:  5611.306212294627 (mean),  12.183368230067996 (std)\n",
      "\n"
     ]
    },
    {
     "name": "stderr",
     "output_type": "stream",
     "text": [
      "100%|██████████| 50/50 [00:00<00:00, 174.56it/s]\n",
      "100%|██████████| 100/100 [00:02<00:00, 45.39it/s]\n",
      "100%|██████████| 50/50 [00:00<00:00, 167.04it/s]\n",
      "100%|██████████| 100/100 [00:02<00:00, 49.67it/s]\n",
      "100%|██████████| 50/50 [00:00<00:00, 209.96it/s]\n",
      "100%|██████████| 100/100 [00:01<00:00, 50.63it/s]\n"
     ]
    },
    {
     "name": "stdout",
     "output_type": "stream",
     "text": [
      "-------------------------------------\n",
      "TRIAL 4\n",
      "Content filtering:\n",
      "Majority group statistics:  0.8094015081427557 (mean),  0.28119342753069143 (std)\n",
      "Minority group statistics:  0.8350186988901485 (mean),  0.2796573645389291 (std)\n",
      "\n",
      "\n",
      "MF:\n",
      "Majority group statistics:  0.0074493530010879055 (mean),  0.009649199218443491 (std)\n",
      "Minority group statistics:  0.006678929997079412 (mean),  0.009876028737004864 (std)\n",
      "\n",
      "\n",
      "Popularity:\n",
      "Majority group statistics:  5604.725020619289 (mean),  12.127737699274194 (std)\n",
      "Minority group statistics:  5607.859049234426 (mean),  11.313870582988077 (std)\n",
      "\n"
     ]
    },
    {
     "name": "stderr",
     "output_type": "stream",
     "text": [
      "100%|██████████| 50/50 [00:00<00:00, 185.40it/s]\n",
      "100%|██████████| 100/100 [00:02<00:00, 45.64it/s]\n",
      "100%|██████████| 50/50 [00:00<00:00, 164.52it/s]\n",
      "100%|██████████| 100/100 [00:02<00:00, 48.28it/s]\n",
      "100%|██████████| 50/50 [00:00<00:00, 214.54it/s]\n",
      "100%|██████████| 100/100 [00:01<00:00, 50.52it/s]\n"
     ]
    },
    {
     "name": "stdout",
     "output_type": "stream",
     "text": [
      "-------------------------------------\n",
      "TRIAL 5\n",
      "Content filtering:\n",
      "Majority group statistics:  0.7823034468384632 (mean),  0.24940065033263656 (std)\n",
      "Minority group statistics:  0.8466018028668038 (mean),  0.30504492754688717 (std)\n",
      "\n",
      "\n",
      "MF:\n",
      "Majority group statistics:  0.007895322419812579 (mean),  0.01102359941439595 (std)\n",
      "Minority group statistics:  0.008022724440383733 (mean),  0.011883179264104128 (std)\n",
      "\n",
      "\n",
      "Popularity:\n",
      "Majority group statistics:  5603.850841521601 (mean),  12.151262949952475 (std)\n",
      "Minority group statistics:  5606.400255420362 (mean),  12.828172085605349 (std)\n",
      "\n"
     ]
    },
    {
     "name": "stderr",
     "output_type": "stream",
     "text": [
      "100%|██████████| 50/50 [00:00<00:00, 200.00it/s]\n",
      "100%|██████████| 100/100 [00:02<00:00, 46.77it/s]\n",
      "100%|██████████| 50/50 [00:00<00:00, 174.88it/s]\n",
      "100%|██████████| 100/100 [00:02<00:00, 49.40it/s]\n",
      "100%|██████████| 50/50 [00:00<00:00, 216.28it/s]\n",
      "100%|██████████| 100/100 [00:01<00:00, 51.50it/s]\n"
     ]
    },
    {
     "name": "stdout",
     "output_type": "stream",
     "text": [
      "-------------------------------------\n",
      "TRIAL 6\n",
      "Content filtering:\n",
      "Majority group statistics:  0.7856772991002965 (mean),  0.253044638024484 (std)\n",
      "Minority group statistics:  0.7976929932724779 (mean),  0.23516361176202874 (std)\n",
      "\n",
      "\n",
      "MF:\n",
      "Majority group statistics:  0.009043801744694283 (mean),  0.010798378234229527 (std)\n",
      "Minority group statistics:  0.007350791852268627 (mean),  0.009514399984462673 (std)\n",
      "\n",
      "\n",
      "Popularity:\n",
      "Majority group statistics:  5604.627582196374 (mean),  13.386285381666914 (std)\n",
      "Minority group statistics:  5606.315312900324 (mean),  13.118540869056364 (std)\n",
      "\n"
     ]
    },
    {
     "name": "stderr",
     "output_type": "stream",
     "text": [
      "100%|██████████| 50/50 [00:00<00:00, 199.38it/s]\n",
      "100%|██████████| 100/100 [00:02<00:00, 46.21it/s]\n",
      "100%|██████████| 50/50 [00:00<00:00, 172.74it/s]\n",
      "100%|██████████| 100/100 [00:02<00:00, 49.88it/s]\n",
      "100%|██████████| 50/50 [00:00<00:00, 217.58it/s]\n",
      "100%|██████████| 100/100 [00:01<00:00, 51.38it/s]\n"
     ]
    },
    {
     "name": "stdout",
     "output_type": "stream",
     "text": [
      "-------------------------------------\n",
      "TRIAL 7\n",
      "Content filtering:\n",
      "Majority group statistics:  0.739421726939416 (mean),  0.23574937563153542 (std)\n",
      "Minority group statistics:  0.7786128072192601 (mean),  0.26368704394561565 (std)\n",
      "\n",
      "\n",
      "MF:\n",
      "Majority group statistics:  0.009001280639115037 (mean),  0.010842769253355868 (std)\n",
      "Minority group statistics:  0.011270347623671583 (mean),  0.012336311995395158 (std)\n",
      "\n",
      "\n",
      "Popularity:\n",
      "Majority group statistics:  5604.686205976731 (mean),  12.586617704178645 (std)\n",
      "Minority group statistics:  5608.590629206986 (mean),  15.37286649508708 (std)\n",
      "\n"
     ]
    },
    {
     "name": "stderr",
     "output_type": "stream",
     "text": [
      "100%|██████████| 50/50 [00:00<00:00, 200.88it/s]\n",
      "100%|██████████| 100/100 [00:02<00:00, 45.68it/s]\n",
      "100%|██████████| 50/50 [00:00<00:00, 170.11it/s]\n",
      "100%|██████████| 100/100 [00:01<00:00, 51.70it/s]\n",
      "100%|██████████| 50/50 [00:00<00:00, 215.86it/s]\n",
      "100%|██████████| 100/100 [00:01<00:00, 50.64it/s]\n"
     ]
    },
    {
     "name": "stdout",
     "output_type": "stream",
     "text": [
      "-------------------------------------\n",
      "TRIAL 8\n",
      "Content filtering:\n",
      "Majority group statistics:  0.7427611512949214 (mean),  0.2562225872092572 (std)\n",
      "Minority group statistics:  0.7878136149318345 (mean),  0.2423727290803879 (std)\n",
      "\n",
      "\n",
      "MF:\n",
      "Majority group statistics:  0.00937908037410072 (mean),  0.011914733179889767 (std)\n",
      "Minority group statistics:  0.007437706560809934 (mean),  0.010293272210230986 (std)\n",
      "\n",
      "\n",
      "Popularity:\n",
      "Majority group statistics:  5603.236150570335 (mean),  13.024339627003242 (std)\n",
      "Minority group statistics:  5610.007676196124 (mean),  12.122823321560343 (std)\n",
      "\n"
     ]
    },
    {
     "name": "stderr",
     "output_type": "stream",
     "text": [
      "100%|██████████| 50/50 [00:00<00:00, 196.71it/s]\n",
      "100%|██████████| 100/100 [00:02<00:00, 42.44it/s]\n",
      "100%|██████████| 50/50 [00:00<00:00, 159.23it/s]\n",
      "100%|██████████| 100/100 [00:01<00:00, 51.55it/s]\n",
      "100%|██████████| 50/50 [00:00<00:00, 210.83it/s]\n",
      "100%|██████████| 100/100 [00:02<00:00, 49.39it/s]"
     ]
    },
    {
     "name": "stdout",
     "output_type": "stream",
     "text": [
      "-------------------------------------\n",
      "TRIAL 9\n",
      "Content filtering:\n",
      "Majority group statistics:  0.8127406728241661 (mean),  0.23834359645572115 (std)\n",
      "Minority group statistics:  0.8095781744322736 (mean),  0.288588057100509 (std)\n",
      "\n",
      "\n",
      "MF:\n",
      "Majority group statistics:  0.008148663743303967 (mean),  0.009239749228529192 (std)\n",
      "Minority group statistics:  0.009516974549105689 (mean),  0.010317912822821988 (std)\n",
      "\n",
      "\n",
      "Popularity:\n",
      "Majority group statistics:  5603.715183434306 (mean),  11.856706098822631 (std)\n",
      "Minority group statistics:  5604.633019114637 (mean),  13.061358997132862 (std)\n",
      "\n"
     ]
    },
    {
     "name": "stderr",
     "output_type": "stream",
     "text": [
      "\n"
     ]
    }
   ],
   "source": [
    "users, items = sample_users_and_items(\n",
    "    rng, \n",
    "    arg_dict[\"maj_size\"], \n",
    "    arg_dict[\"min_size\"], \n",
    "    arg_dict[\"num_items\"], \n",
    "    arg_dict[\"num_attrs\"], \n",
    "    arg_dict[\"num_sims\"]\n",
    ")\n",
    "\n",
    "for i in range(arg_dict[\"num_sims\"]):\n",
    "    filtering = run_content_sim(items[i], users[i], arg_dict, rng)\n",
    "    mf = run_mf_sim(items[i], users[i], arg_dict, rng)\n",
    "    pop = run_pop_sim(items[i], users[i], arg_dict, rng)\n",
    "    \n",
    "    print(\"-------------------------------------\")\n",
    "    print(f\"TRIAL {i}\")\n",
    "    print(\"Content filtering:\")\n",
    "    \n",
    "    majority_minority_outcomes(filtering.metrics[0], arg_dict[\"maj_size\"])\n",
    "    print(\"\\nMF:\")\n",
    "    majority_minority_outcomes(mf.metrics[0], arg_dict[\"maj_size\"])\n",
    "    print(\"\\nPopularity:\")\n",
    "    majority_minority_outcomes(pop.metrics[0], arg_dict[\"maj_size\"])\n",
    "    # run training procedures\n",
    "    # measure mean + var of MSE for majority vs minority users\n",
    "    # make some plots? with 1 sim should be doable\n",
    "    # graph MSE for minority vs majority users?"
   ]
  },
  {
   "cell_type": "markdown",
   "metadata": {},
   "source": [
    "## Variance in arrival times\n",
    "Core idea: have two groups of users, one which arrives first in the system and is the majority group, and the latter of which comprises the minority group.\n",
    "\n",
    "Procedure: startup and train with the earlier group for the cold start, then run for X iterations (training between steps), still with only the earlier group. Then, we add the latter minority, and run for X iterations (training between steps as well)."
   ]
  },
  {
   "cell_type": "code",
   "execution_count": 11,
   "metadata": {},
   "outputs": [],
   "source": [
    "def run_content_sim(item_attrs, user_attrs, args, rng):\n",
    "    init_params, run_params = init_sim_state(args)\n",
    "    init_users = user_attrs[:args[\"maj_size\"], :]\n",
    "    later_users = user_attrs[args[\"maj_size\"]:, :]\n",
    "    content = ContentFiltering(\n",
    "        num_attributes=args[\"num_attrs\"],\n",
    "        actual_item_representation=item_attrs,\n",
    "        actual_user_representation=init_users)\n",
    "    metrics = [\n",
    "        MSEMeasurement(diagnostics=True)\n",
    "    ]\n",
    "    content.add_metrics(*metrics)\n",
    "    content.startup_and_train(timesteps=args[\"startup_iters\"]) # update user representations, but only serve random items\n",
    "    content.run(timesteps=args[\"sim_iters\"], train_between_steps=args[\"repeated_training\"], **run_params)\n",
    "    content.add_users(later_users)\n",
    "    content.run(timesteps=args[\"sim_iters\"], train_between_steps=args[\"repeated_training\"], **run_params)\n",
    "    content.close() # end logging\n",
    "    return content\n",
    "\n",
    "def run_mf_sim(item_attrs, user_attrs, args, rng):\n",
    "    init_params, run_params = init_sim_state(args)\n",
    "    init_users = user_attrs[:args[\"maj_size\"], :]\n",
    "    later_users = user_attrs[args[\"maj_size\"]:, :]\n",
    "    mf = ImplicitMF(\n",
    "        actual_item_representation=item_attrs,\n",
    "        actual_user_representation=init_users,\n",
    "        num_latent_factors=args[\"latent_factors\"],\n",
    "        **init_params\n",
    "    )\n",
    "    metrics = [\n",
    "        MSEMeasurement(diagnostics=True)\n",
    "    ]\n",
    "    mf.add_metrics(*metrics)\n",
    "    mf.startup_and_train(timesteps=args[\"startup_iters\"], no_new_items=False) # update user representations, but only serve random items\n",
    "    mf.run(timesteps=args[\"sim_iters\"], train_between_steps=args[\"repeated_training\"], reset_interactions=False, **run_params)\n",
    "    mf.add_users(later_users)\n",
    "    mf.run(timesteps=args[\"sim_iters\"], train_between_steps=args[\"repeated_training\"], **run_params)\n",
    "    mf.close() # end logging\n",
    "    return mf\n",
    "\n",
    "def run_pop_sim(item_attrs, user_attrs, args, rng):\n",
    "    init_params, run_params = init_sim_state(args)\n",
    "    init_users = user_attrs[:args[\"maj_size\"], :]\n",
    "    later_users = user_attrs[args[\"maj_size\"]:, :]\n",
    "    p = PopularityRecommender(\n",
    "        actual_item_representation=item_attrs,\n",
    "        actual_user_representation=init_users,\n",
    "        **init_params\n",
    "    )\n",
    "    metrics = [\n",
    "        MSEMeasurement(diagnostics=True)\n",
    "    ]\n",
    "    p.add_metrics(*metrics)\n",
    "    p.startup_and_train(timesteps=args[\"startup_iters\"])\n",
    "    p.run(timesteps=args[\"sim_iters\"], train_between_steps=args[\"repeated_training\"], **run_params)\n",
    "    p.add_users(later_users)\n",
    "    p.run(timesteps=args[\"sim_iters\"], train_between_steps=args[\"repeated_training\"], **run_params)\n",
    "    p.close() # end logging\n",
    "    return p"
   ]
  },
  {
   "cell_type": "code",
   "execution_count": 12,
   "metadata": {},
   "outputs": [
    {
     "name": "stderr",
     "output_type": "stream",
     "text": [
      "100%|██████████| 50/50 [00:00<00:00, 217.19it/s]\n",
      "100%|██████████| 100/100 [00:01<00:00, 58.56it/s]\n",
      "100%|██████████| 100/100 [00:02<00:00, 49.91it/s]\n",
      "100%|██████████| 50/50 [00:00<00:00, 190.00it/s]\n",
      "100%|██████████| 100/100 [00:01<00:00, 66.95it/s]\n",
      "100%|██████████| 100/100 [00:01<00:00, 55.76it/s]\n",
      "100%|██████████| 50/50 [00:00<00:00, 243.22it/s]\n",
      "100%|██████████| 100/100 [00:01<00:00, 64.38it/s]\n",
      "100%|██████████| 100/100 [00:01<00:00, 54.93it/s]\n"
     ]
    },
    {
     "name": "stdout",
     "output_type": "stream",
     "text": [
      "-------------------------------------\n",
      "TRIAL 0\n",
      "Content filtering:\n",
      "Majority group statistics:  0.8175693134456963 (mean),  0.26986566897037184 (std)\n",
      "Minority group statistics:  0.018752377010023323 (mean),  0.016077061845363037 (std)\n",
      "\n",
      "\n",
      "MF:\n",
      "Majority group statistics:  0.010894684579750116 (mean),  0.015443909024596024 (std)\n",
      "Minority group statistics:  0.02577378981467936 (mean),  0.026996673386064925 (std)\n",
      "\n",
      "\n",
      "Popularity:\n",
      "Majority group statistics:  3888.6785564409743 (mean),  11.789507107873117 (std)\n",
      "Minority group statistics:  35115.947594676 (mean),  31.787034291323767 (std)\n",
      "\n"
     ]
    },
    {
     "name": "stderr",
     "output_type": "stream",
     "text": [
      "100%|██████████| 50/50 [00:00<00:00, 225.34it/s]\n",
      "100%|██████████| 100/100 [00:01<00:00, 56.71it/s]\n",
      "100%|██████████| 100/100 [00:02<00:00, 49.57it/s]\n",
      "100%|██████████| 50/50 [00:00<00:00, 196.00it/s]\n",
      "100%|██████████| 100/100 [00:01<00:00, 64.73it/s]\n",
      "100%|██████████| 100/100 [00:01<00:00, 56.15it/s]\n",
      "100%|██████████| 50/50 [00:00<00:00, 219.08it/s]\n",
      "100%|██████████| 100/100 [00:01<00:00, 64.25it/s]\n",
      "100%|██████████| 100/100 [00:01<00:00, 52.42it/s]\n"
     ]
    },
    {
     "name": "stdout",
     "output_type": "stream",
     "text": [
      "-------------------------------------\n",
      "TRIAL 1\n",
      "Content filtering:\n",
      "Majority group statistics:  0.7389389366683707 (mean),  0.24765237618338268 (std)\n",
      "Minority group statistics:  0.022561653560975566 (mean),  0.01505374538116429 (std)\n",
      "\n",
      "\n",
      "MF:\n",
      "Majority group statistics:  0.0079625756485988 (mean),  0.009409944359327542 (std)\n",
      "Minority group statistics:  0.0271092259786845 (mean),  0.02235644739650145 (std)\n",
      "\n",
      "\n",
      "Popularity:\n",
      "Majority group statistics:  3888.9622457363976 (mean),  10.451142152937907 (std)\n",
      "Minority group statistics:  35105.152872453706 (mean),  23.640037737209013 (std)\n",
      "\n"
     ]
    },
    {
     "name": "stderr",
     "output_type": "stream",
     "text": [
      "100%|██████████| 50/50 [00:00<00:00, 221.60it/s]\n",
      "100%|██████████| 100/100 [00:01<00:00, 57.37it/s]\n",
      "100%|██████████| 100/100 [00:02<00:00, 48.73it/s]\n",
      "100%|██████████| 50/50 [00:00<00:00, 201.99it/s]\n",
      "100%|██████████| 100/100 [00:01<00:00, 66.44it/s]\n",
      "100%|██████████| 100/100 [00:01<00:00, 57.77it/s]\n",
      "100%|██████████| 50/50 [00:00<00:00, 258.74it/s]\n",
      "100%|██████████| 100/100 [00:01<00:00, 61.87it/s]\n",
      "100%|██████████| 100/100 [00:01<00:00, 52.90it/s]\n"
     ]
    },
    {
     "name": "stdout",
     "output_type": "stream",
     "text": [
      "-------------------------------------\n",
      "TRIAL 2\n",
      "Content filtering:\n",
      "Majority group statistics:  0.7593375781769005 (mean),  0.24671997599808979 (std)\n",
      "Minority group statistics:  0.018080584646758713 (mean),  0.017727809119181915 (std)\n",
      "\n",
      "\n",
      "MF:\n",
      "Majority group statistics:  0.008327759070673362 (mean),  0.012576834917553703 (std)\n",
      "Minority group statistics:  0.019269078381531364 (mean),  0.01931254484905855 (std)\n",
      "\n",
      "\n",
      "Popularity:\n",
      "Majority group statistics:  3888.4076857462583 (mean),  10.173917916651337 (std)\n",
      "Minority group statistics:  35120.923155223456 (mean),  35.947931945486225 (std)\n",
      "\n"
     ]
    },
    {
     "name": "stderr",
     "output_type": "stream",
     "text": [
      "100%|██████████| 50/50 [00:00<00:00, 207.16it/s]\n",
      "100%|██████████| 100/100 [00:01<00:00, 58.38it/s]\n",
      "100%|██████████| 100/100 [00:02<00:00, 47.48it/s]\n",
      "100%|██████████| 50/50 [00:00<00:00, 195.56it/s]\n",
      "100%|██████████| 100/100 [00:01<00:00, 66.07it/s]\n",
      "100%|██████████| 100/100 [00:01<00:00, 56.59it/s]\n",
      "100%|██████████| 50/50 [00:00<00:00, 252.36it/s]\n",
      "100%|██████████| 100/100 [00:01<00:00, 64.85it/s]\n",
      "100%|██████████| 100/100 [00:01<00:00, 52.58it/s]\n"
     ]
    },
    {
     "name": "stdout",
     "output_type": "stream",
     "text": [
      "-------------------------------------\n",
      "TRIAL 3\n",
      "Content filtering:\n",
      "Majority group statistics:  0.7498697113706865 (mean),  0.2492107724584685 (std)\n",
      "Minority group statistics:  0.023393546584559454 (mean),  0.020269689239596825 (std)\n",
      "\n",
      "\n",
      "MF:\n",
      "Majority group statistics:  0.00837979100778913 (mean),  0.009375555596475692 (std)\n",
      "Minority group statistics:  0.02792024890177236 (mean),  0.030271873065931182 (std)\n",
      "\n",
      "\n",
      "Popularity:\n",
      "Majority group statistics:  3889.65530277342 (mean),  10.627936172771541 (std)\n",
      "Minority group statistics:  35111.27166201169 (mean),  35.54257896122973 (std)\n",
      "\n"
     ]
    },
    {
     "name": "stderr",
     "output_type": "stream",
     "text": [
      "100%|██████████| 50/50 [00:00<00:00, 226.37it/s]\n",
      "100%|██████████| 100/100 [00:01<00:00, 58.49it/s]\n",
      "100%|██████████| 100/100 [00:02<00:00, 47.49it/s]\n",
      "100%|██████████| 50/50 [00:00<00:00, 192.00it/s]\n",
      "100%|██████████| 100/100 [00:01<00:00, 63.51it/s]\n",
      "100%|██████████| 100/100 [00:01<00:00, 56.57it/s]\n",
      "100%|██████████| 50/50 [00:00<00:00, 226.04it/s]\n",
      "100%|██████████| 100/100 [00:01<00:00, 60.78it/s]\n",
      "100%|██████████| 100/100 [00:01<00:00, 53.07it/s]\n"
     ]
    },
    {
     "name": "stdout",
     "output_type": "stream",
     "text": [
      "-------------------------------------\n",
      "TRIAL 4\n",
      "Content filtering:\n",
      "Majority group statistics:  0.7996625536767835 (mean),  0.23567960523299825 (std)\n",
      "Minority group statistics:  0.02151404718371934 (mean),  0.016985629657049604 (std)\n",
      "\n",
      "\n",
      "MF:\n",
      "Majority group statistics:  0.007773635617146819 (mean),  0.011302531657983181 (std)\n",
      "Minority group statistics:  0.02719361926327977 (mean),  0.026959252946831505 (std)\n",
      "\n",
      "\n",
      "Popularity:\n",
      "Majority group statistics:  3889.2593919840724 (mean),  10.496888506989784 (std)\n",
      "Minority group statistics:  35112.847611441364 (mean),  33.74685011444293 (std)\n",
      "\n"
     ]
    },
    {
     "name": "stderr",
     "output_type": "stream",
     "text": [
      "100%|██████████| 50/50 [00:00<00:00, 222.83it/s]\n",
      "100%|██████████| 100/100 [00:01<00:00, 55.75it/s]\n",
      "100%|██████████| 100/100 [00:02<00:00, 46.74it/s]\n",
      "100%|██████████| 50/50 [00:00<00:00, 191.52it/s]\n",
      "100%|██████████| 100/100 [00:01<00:00, 61.87it/s]\n",
      "100%|██████████| 100/100 [00:01<00:00, 52.77it/s]\n",
      "100%|██████████| 50/50 [00:00<00:00, 234.39it/s]\n",
      "100%|██████████| 100/100 [00:01<00:00, 62.28it/s]\n",
      "100%|██████████| 100/100 [00:01<00:00, 54.81it/s]\n"
     ]
    },
    {
     "name": "stdout",
     "output_type": "stream",
     "text": [
      "-------------------------------------\n",
      "TRIAL 5\n",
      "Content filtering:\n",
      "Majority group statistics:  0.7717340105466213 (mean),  0.245759155103303 (std)\n",
      "Minority group statistics:  0.019924584322905937 (mean),  0.017461629700908223 (std)\n",
      "\n",
      "\n",
      "MF:\n",
      "Majority group statistics:  0.009026328307299858 (mean),  0.01164850713503942 (std)\n",
      "Minority group statistics:  0.022020332318015992 (mean),  0.026266193197887762 (std)\n",
      "\n",
      "\n",
      "Popularity:\n",
      "Majority group statistics:  3889.368003937659 (mean),  11.125610290713052 (std)\n",
      "Minority group statistics:  35120.271098834164 (mean),  38.7956864694449 (std)\n",
      "\n"
     ]
    },
    {
     "name": "stderr",
     "output_type": "stream",
     "text": [
      "100%|██████████| 50/50 [00:00<00:00, 195.22it/s]\n",
      "100%|██████████| 100/100 [00:01<00:00, 57.32it/s]\n",
      "100%|██████████| 100/100 [00:02<00:00, 47.28it/s]\n",
      "100%|██████████| 50/50 [00:00<00:00, 193.26it/s]\n",
      "100%|██████████| 100/100 [00:01<00:00, 64.28it/s]\n",
      "100%|██████████| 100/100 [00:01<00:00, 57.00it/s]\n",
      "100%|██████████| 50/50 [00:00<00:00, 248.24it/s]\n",
      "100%|██████████| 100/100 [00:01<00:00, 60.29it/s]\n",
      "100%|██████████| 100/100 [00:01<00:00, 53.41it/s]\n"
     ]
    },
    {
     "name": "stdout",
     "output_type": "stream",
     "text": [
      "-------------------------------------\n",
      "TRIAL 6\n",
      "Content filtering:\n",
      "Majority group statistics:  0.8266503087513033 (mean),  0.23568682781191314 (std)\n",
      "Minority group statistics:  0.018836427539406276 (mean),  0.015255494469627442 (std)\n",
      "\n",
      "\n",
      "MF:\n",
      "Majority group statistics:  0.0066502834447969734 (mean),  0.00781512774847951 (std)\n",
      "Minority group statistics:  0.021966598821302558 (mean),  0.021516453693802187 (std)\n",
      "\n",
      "\n",
      "Popularity:\n",
      "Majority group statistics:  3888.953086755097 (mean),  9.4077437350147 (std)\n",
      "Minority group statistics:  35116.82429794373 (mean),  33.04793435114072 (std)\n",
      "\n"
     ]
    },
    {
     "name": "stderr",
     "output_type": "stream",
     "text": [
      "100%|██████████| 50/50 [00:00<00:00, 212.44it/s]\n",
      "100%|██████████| 100/100 [00:01<00:00, 54.99it/s]\n",
      "100%|██████████| 100/100 [00:02<00:00, 48.02it/s]\n",
      "100%|██████████| 50/50 [00:00<00:00, 185.40it/s]\n",
      "100%|██████████| 100/100 [00:01<00:00, 61.81it/s]\n",
      "100%|██████████| 100/100 [00:01<00:00, 54.97it/s]\n",
      "100%|██████████| 50/50 [00:00<00:00, 237.80it/s]\n",
      "100%|██████████| 100/100 [00:01<00:00, 60.82it/s]\n",
      "100%|██████████| 100/100 [00:01<00:00, 54.45it/s]\n"
     ]
    },
    {
     "name": "stdout",
     "output_type": "stream",
     "text": [
      "-------------------------------------\n",
      "TRIAL 7\n",
      "Content filtering:\n",
      "Majority group statistics:  0.765469548212102 (mean),  0.24911540357436135 (std)\n",
      "Minority group statistics:  0.022566620732384565 (mean),  0.018590495791931304 (std)\n",
      "\n",
      "\n",
      "MF:\n",
      "Majority group statistics:  0.009324526276256049 (mean),  0.011858002043561439 (std)\n",
      "Minority group statistics:  0.024344459525835065 (mean),  0.024923526244326217 (std)\n",
      "\n",
      "\n",
      "Popularity:\n",
      "Majority group statistics:  3889.4099403263003 (mean),  11.035373224807104 (std)\n",
      "Minority group statistics:  35113.260977089594 (mean),  36.36548578374866 (std)\n",
      "\n"
     ]
    },
    {
     "name": "stderr",
     "output_type": "stream",
     "text": [
      "100%|██████████| 50/50 [00:00<00:00, 220.34it/s]\n",
      "100%|██████████| 100/100 [00:01<00:00, 57.43it/s]\n",
      "100%|██████████| 100/100 [00:02<00:00, 49.37it/s]\n",
      "100%|██████████| 50/50 [00:00<00:00, 195.01it/s]\n",
      "100%|██████████| 100/100 [00:01<00:00, 64.77it/s]\n",
      "100%|██████████| 100/100 [00:01<00:00, 56.00it/s]\n",
      "100%|██████████| 50/50 [00:00<00:00, 243.09it/s]\n",
      "100%|██████████| 100/100 [00:01<00:00, 62.90it/s]\n",
      "100%|██████████| 100/100 [00:01<00:00, 54.08it/s]\n"
     ]
    },
    {
     "name": "stdout",
     "output_type": "stream",
     "text": [
      "-------------------------------------\n",
      "TRIAL 8\n",
      "Content filtering:\n",
      "Majority group statistics:  0.8425072663141834 (mean),  0.2538256198209568 (std)\n",
      "Minority group statistics:  0.02210696284019035 (mean),  0.0196541716673939 (std)\n",
      "\n",
      "\n",
      "MF:\n",
      "Majority group statistics:  0.007364931801430612 (mean),  0.008962286998283782 (std)\n",
      "Minority group statistics:  0.02327550594207846 (mean),  0.027121868697399406 (std)\n",
      "\n",
      "\n",
      "Popularity:\n",
      "Majority group statistics:  3889.300218006038 (mean),  9.953986350492675 (std)\n",
      "Minority group statistics:  35115.276252070995 (mean),  37.774927496511445 (std)\n",
      "\n"
     ]
    },
    {
     "name": "stderr",
     "output_type": "stream",
     "text": [
      "100%|██████████| 50/50 [00:00<00:00, 222.83it/s]\n",
      "100%|██████████| 100/100 [00:01<00:00, 57.08it/s]\n",
      "100%|██████████| 100/100 [00:02<00:00, 47.80it/s]\n",
      "100%|██████████| 50/50 [00:00<00:00, 196.14it/s]\n",
      "100%|██████████| 100/100 [00:01<00:00, 62.42it/s]\n",
      "100%|██████████| 100/100 [00:01<00:00, 53.55it/s]\n",
      "100%|██████████| 50/50 [00:00<00:00, 240.34it/s]\n",
      "100%|██████████| 100/100 [00:01<00:00, 57.88it/s]\n",
      "100%|██████████| 100/100 [00:02<00:00, 48.22it/s]"
     ]
    },
    {
     "name": "stdout",
     "output_type": "stream",
     "text": [
      "-------------------------------------\n",
      "TRIAL 9\n",
      "Content filtering:\n",
      "Majority group statistics:  0.7405658557879112 (mean),  0.2521275207747069 (std)\n",
      "Minority group statistics:  0.02358580877292491 (mean),  0.020274298000252208 (std)\n",
      "\n",
      "\n",
      "MF:\n",
      "Majority group statistics:  0.007807476818130836 (mean),  0.010408111861186575 (std)\n",
      "Minority group statistics:  0.027087816940364412 (mean),  0.030979792374611965 (std)\n",
      "\n",
      "\n",
      "Popularity:\n",
      "Majority group statistics:  3888.8491023323454 (mean),  10.499330832584945 (std)\n",
      "Minority group statistics:  35112.66418224835 (mean),  37.604501069805316 (std)\n",
      "\n"
     ]
    },
    {
     "name": "stderr",
     "output_type": "stream",
     "text": [
      "\n"
     ]
    }
   ],
   "source": [
    "users, items = sample_users_and_items(\n",
    "    rng, \n",
    "    arg_dict[\"maj_size\"], \n",
    "    arg_dict[\"min_size\"], \n",
    "    arg_dict[\"num_items\"], \n",
    "    arg_dict[\"num_attrs\"], \n",
    "    arg_dict[\"num_sims\"]\n",
    ")\n",
    "\n",
    "for i in range(arg_dict[\"num_sims\"]):\n",
    "    filtering = run_content_sim(items[i], users[i], arg_dict, rng)\n",
    "    mf = run_mf_sim(items[i], users[i], arg_dict, rng)\n",
    "    pop = run_pop_sim(items[i], users[i], arg_dict, rng)\n",
    "    \n",
    "    print(\"-------------------------------------\")\n",
    "    print(f\"TRIAL {i}\")\n",
    "    print(\"Content filtering:\")\n",
    "    \n",
    "    majority_minority_outcomes(filtering.metrics[0], arg_dict[\"maj_size\"])\n",
    "    print(\"\\nMF:\")\n",
    "    majority_minority_outcomes(mf.metrics[0], arg_dict[\"maj_size\"])\n",
    "    print(\"\\nPopularity:\")\n",
    "    majority_minority_outcomes(pop.metrics[0], arg_dict[\"maj_size\"])\n",
    "    # run training procedures\n",
    "    # measure mean + var of MSE for majority vs minority users\n",
    "    # make some plots? with 1 sim should be doable\n",
    "    # graph MSE for minority vs majority users?"
   ]
  }
 ],
 "metadata": {
  "kernelspec": {
   "display_name": "Python 3",
   "language": "python",
   "name": "python3"
  },
  "language_info": {
   "codemirror_mode": {
    "name": "ipython",
    "version": 3
   },
   "file_extension": ".py",
   "mimetype": "text/x-python",
   "name": "python",
   "nbconvert_exporter": "python",
   "pygments_lexer": "ipython3",
   "version": "3.7.9"
  }
 },
 "nbformat": 4,
 "nbformat_minor": 4
}
